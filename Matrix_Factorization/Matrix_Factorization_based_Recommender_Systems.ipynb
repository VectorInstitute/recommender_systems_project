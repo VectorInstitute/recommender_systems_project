{
  "nbformat": 4,
  "nbformat_minor": 0,
  "metadata": {
    "colab": {
      "provenance": [],
      "gpuType": "T4"
    },
    "kernelspec": {
      "name": "python3",
      "display_name": "Python 3"
    },
    "language_info": {
      "name": "python"
    },
    "accelerator": "GPU",
    "gpuClass": "standard"
  },
  "cells": [
    {
      "cell_type": "markdown",
      "source": [
        "# Matrix Factorization-based Collaborative Filtering"
      ],
      "metadata": {
        "id": "QA9yWV4n2tzG"
      }
    },
    {
      "cell_type": "markdown",
      "source": [
        "In this tutorial, you will see an example of using a strong Matrix Factorization (MF) method for recommendation, namely [SVD++](https://https://dl.acm.org/doi/pdf/10.1145/1401890.1401944). Please follow the instructions step-by-step as they try to explain different stages of developing an MF-based recommender."
      ],
      "metadata": {
        "id": "HuIRX3aT25iZ"
      }
    },
    {
      "cell_type": "markdown",
      "source": [
        "**Step1:** Importing necessary packages and loading the data\n",
        "\n",
        "First things first, we begin by install a group of necessary packages that are used in this notebook. The main ones are numpy and torch with which you probably are familiar. Major MF methods are already implemented in recommendation packages such as [Surprise](https://https://surpriselib.com/) and [LightFM](https://https://making.lyst.com/lightfm/docs/home.html), but here you can see a from scratch implementation. The main reasons for this are developing a deeper acquaintance for under-the-hood details of how an MF-based recommender works, and the fact that most of these excellent packages are not optimal for training using GPUs, but we need the acceleration caused by GPU and autodiff tools for gradient descent-based real-world applications on massive datasets."
      ],
      "metadata": {
        "id": "XOzf1Cdaef8x"
      }
    },
    {
      "cell_type": "code",
      "execution_count": 2,
      "metadata": {
        "id": "BVAKZMc1dtKJ"
      },
      "outputs": [],
      "source": [
        "import os, sys, re, pickle, torch\n",
        "import numpy as np\n",
        "from numpy.random import default_rng\n",
        "import numpy as np\n",
        "import pandas as pd\n",
        "import pickle\n",
        "from tqdm import tqdm\n",
        "import time\n",
        "import sys, os\n",
        "import pickle\n",
        "from torch import nn\n",
        "from collections import defaultdict"
      ]
    },
    {
      "cell_type": "code",
      "source": [
        "##Importing the data file from google drive\n",
        "\n",
        "from google.colab import drive\n",
        "drive.mount('/content/drive/')          # this will direct you to a link where you can get anmhkk authorization key\n",
        "import sys\n",
        "sys.path.append('/content/drive/My Drive/')\n",
        "##Changing the working directory\n",
        "\n",
        "%cd '/content/drive/My Drive/'\n"
      ],
      "metadata": {
        "colab": {
          "base_uri": "https://localhost:8080/"
        },
        "id": "bGHv8o9qlTBx",
        "outputId": "d6a3f315-5448-4e95-97a6-f7fb310fe8a8"
      },
      "execution_count": 3,
      "outputs": [
        {
          "output_type": "stream",
          "name": "stdout",
          "text": [
            "Mounted at /content/drive/\n",
            "/content/drive/My Drive\n"
          ]
        }
      ]
    },
    {
      "cell_type": "code",
      "source": [
        "%cd VectorProject/"
      ],
      "metadata": {
        "colab": {
          "base_uri": "https://localhost:8080/"
        },
        "id": "oQhgoq87mN_B",
        "outputId": "1f2d22c9-b5bb-4daf-ebb5-1355a950d2ec"
      },
      "execution_count": 4,
      "outputs": [
        {
          "output_type": "stream",
          "name": "stdout",
          "text": [
            "/content/drive/My Drive/VectorProject\n"
          ]
        }
      ]
    },
    {
      "cell_type": "markdown",
      "source": [
        "In this folder, you are provided with three data files. \"u.data\" is the ratings data file of [MovieLens 100K](https://https://grouplens.org/datasets/movielens/100k/), \"ML_ratings\" includes a larger version of the same dataset, [MovieLens 20m ](https://grouplens.org/datasets/movielens/20m/), and LFM_ratings are the ratings from [LastFM ](https://https://grouplens.org/datasets/hetrec-2011/). You are more than welcome to explore working with the larger two datasets, but due to the greater training time, we just use MovieLens 100k for this showcase tutorial."
      ],
      "metadata": {
        "id": "1mgvpYuv5uMZ"
      }
    },
    {
      "cell_type": "code",
      "source": [
        "ls"
      ],
      "metadata": {
        "colab": {
          "base_uri": "https://localhost:8080/"
        },
        "id": "WsS0JQWCmXYJ",
        "outputId": "217cba07-bc8c-4ca2-8b08-f5ee4831a451"
      },
      "execution_count": 5,
      "outputs": [
        {
          "output_type": "stream",
          "name": "stdout",
          "text": [
            "LFM_ratings.txt  ML_ratings.txt  u.data\n"
          ]
        }
      ]
    },
    {
      "cell_type": "code",
      "source": [
        "\n",
        "def u_i_dict_maker(rec):\n",
        "  \"\"\"\n",
        "    Calculates the user to item mapping dictionary. Keys of this dict are \n",
        "    user ids and values are the list of movies each user likes\n",
        "    \"\"\"\n",
        "\n",
        "  u_i_dict = defaultdict(list)\n",
        "  for line in enumerate(rec):\n",
        "    if line[1][1] not in u_i_dict[line[1][0]]:\n",
        "      u_i_dict[line[1][0]].append(line[1][1])\n",
        "  \n",
        "  return u_i_dict\n",
        "\n",
        "\n",
        "def load_rec_data(rec_path):\n",
        "  \"\"\"\n",
        "    Reads the ratings data from the text files and converts them to numpy arrays.\n",
        "    Next, it randomly splits the data to train, validation, and test sets.\n",
        "    Finally, it forms the user to item mapping dicts for each split.\n",
        "  \"\"\"\n",
        "  rec = np.genfromtxt(rec_path, delimiter='\\t', dtype=np.int32)\n",
        "  rec = rec[:,:3]\n",
        "  rec_mapped = 1*rec\n",
        "  unique_users = np.unique(rec[:,0])\n",
        "  unique_items = np.unique(rec[:,1])\n",
        "  users_map = {val: i for i, val in enumerate(unique_users)}\n",
        "  items_map = {val: i for i, val in enumerate(unique_items)}\n",
        "\n",
        "  ufunc = np.vectorize(lambda x: users_map[x])\n",
        "  ifunc = np.vectorize(lambda x: items_map[x])\n",
        "\n",
        "  # the mapped recommendation matrix where both user and item ids are 0,1,2,...\n",
        "  np.random.seed(42)\n",
        "  rec_mapped[:,0] = ufunc(rec[:,0])\n",
        "  rec_mapped[:,1] = ifunc(rec[:,1])\n",
        "\n",
        "  # split to train, test, and val\n",
        "  train_ratio = 0.7 # 70% of data for training\n",
        "  val_ratio = 0.15 # 15% of data for validation\n",
        "  test_ratio = 0.15 # 15% of data for testing\n",
        "  indices = np.arange(rec_mapped.shape[0])\n",
        "  np.random.shuffle(indices)\n",
        "  # split the data array into train, validation, and test sets\n",
        "  train_indices = indices[:int(train_ratio*len(indices))]\n",
        "  val_indices = indices[int(train_ratio*len(indices)):int((train_ratio+val_ratio)*len(indices))]\n",
        "  test_indices = indices[int((train_ratio+val_ratio)*len(indices)):]\n",
        "\n",
        "  train_data = rec_mapped[train_indices]\n",
        "  val_data = rec_mapped[val_indices]\n",
        "  test_data = rec_mapped[test_indices]\n",
        "  # remove users from test and val that are not present in train\n",
        "  #(we can't test on users for which we didn't have any training data. Although SVD++ is useful for the cold-start problem,\n",
        "  # you often want to study that experiment separately)\n",
        "  train_users = train_data[:,0]\n",
        "  val_data = val_data[np.isin(val_data[:,0], train_users)]\n",
        "  test_data = test_data[np.isin(test_data[:,0], train_users)]\n",
        "\n",
        "\n",
        "  #maps each user to the list of items she interacted with\n",
        "\n",
        "  u_i_dict_train, u_i_dict_val, u_i_dict_test = u_i_dict_maker(train_data), u_i_dict_maker(val_data), u_i_dict_maker(test_data)\n",
        "\n",
        "\n",
        "  return rec_mapped, train_data, val_data, test_data, u_i_dict_train, u_i_dict_val, u_i_dict_test"
      ],
      "metadata": {
        "id": "aBULpqIIqkKz"
      },
      "execution_count": 6,
      "outputs": []
    },
    {
      "cell_type": "code",
      "source": [
        "\n",
        "ML_mapped, train_ML, val_ML, test_ML, u_i_dict_train_ML, u_i_dict_val_ML, u_i_dict_test_ML = load_rec_data('u.data')\n"
      ],
      "metadata": {
        "id": "mhNlbmX3lLPt"
      },
      "execution_count": 7,
      "outputs": []
    },
    {
      "cell_type": "markdown",
      "source": [
        "Let's have a look at the data statistics. As you see, MovieLens 100k is a minuscule dataset usually used for tutorials rather than research."
      ],
      "metadata": {
        "id": "gzDDaSzL8ThH"
      }
    },
    {
      "cell_type": "code",
      "source": [
        "\n",
        "print('number of users in MovieLens is: {}'.format(np.unique(ML_mapped[:,0]).shape[0]))\n",
        "print('number of items in MovieLens is: {}'.format(np.unique(ML_mapped[:,1]).shape[0]))\n"
      ],
      "metadata": {
        "colab": {
          "base_uri": "https://localhost:8080/"
        },
        "id": "Ku0KOCcDrBK0",
        "outputId": "68661112-473c-4d03-ed64-9786e9792db4"
      },
      "execution_count": 8,
      "outputs": [
        {
          "output_type": "stream",
          "name": "stdout",
          "text": [
            "number of users in MovieLens is: 943\n",
            "number of items in MovieLens is: 1682\n"
          ]
        }
      ]
    },
    {
      "cell_type": "markdown",
      "source": [
        "# Step 2. Define the model structure\n",
        "\n",
        "\n",
        "<br>\n",
        "SVD++ estimates the rank of an item i given by user u as:\n",
        "\n",
        "- Model definition\n",
        "$$\n",
        "\\hat{\\mathbf{R}}_{ui} = \\mu + b_u + b_i + \\mathbf{q}_{i}^{T} \\left( \\mathbf{p}_{u} + |N(u)|^{-1/2} \\sum_{j\\in N(u)}\\mathbf{y}_{j} \\right) $$\n",
        "\n",
        "In which:\n",
        "  - $\\hat{\\mathbf{R}}_{ui}\\in \\mathbb{R}$: predicted rating user $u$ gives to item $i$\n",
        "  - $\\mu \\in \\mathbb{R}$: global bias\n",
        "  - $b_{u} \\in \\mathbb{R}$: user bias\n",
        "  - $b_{i} \\in \\mathbb{R}$: item bias\n",
        "  - $\\mathbf{q}_{i} \\in \\mathbb{R}^{1\\text{x} k}$: $i^{\\text{th}}$ row of $\\mathbf{Q}$\n",
        "  - $\\mathbf{p}_{u} \\in \\mathbb{R}^{1\\text{x} k}$: $u^{\\text{th}}$ row of $\\mathbf{P}$\n",
        "  - $N(u) = \\{i: | \\, \\mathbf{R}_{ui} \\text{ is known} \\}$: all items for which user $u$ provided a rating\n",
        "  - $\\mathbf{y}_{j} \\in \\mathbb{R}^{1\\text{x}k}$: another item latent vector for implicit feedback\n",
        "\n",
        "\n",
        "  - where, \n",
        "    - $k << m, n$: latent factor size\n",
        "    - $\\hat{\\mathbf{R}} \\in \\mathbb{R}^{m \\text{x} n}$: predicted rating matrix \n",
        "    - $\\mathbf{P} \\in \\mathbb{R}^{m \\text{x}k}$: user latent matrix\n",
        "    - $\\mathbf{Q} \\in \\mathbb{R}^{k \\text{x}n}$: item latent matrix\n",
        "\n",
        "<br>\n",
        "\n",
        "- This estimation is found by minimizing the following Objective function:\n",
        "$$\n",
        "\\underset{\\mathbf{P}, \\mathbf{Q}, \\mathbf{y}_{*}, b}{\\mathrm{argmin}} \\sum_{(u, i) \\in \\mathcal{K}} \\| \\mathbf{R}_{ui} -\n",
        "\\hat{\\mathbf{R}}_{ui} \\|^2 + \\lambda (\\| \\mathbf{P} \\|^2_F + \\| \\mathbf{Q}\n",
        "\\|^2_F + b_u^2 + b_i^2 +\\sum_{j\\in N(u)} \\|\\mathbf{y}_{j}\\|^2)\n",
        "$$\n",
        "Where:\n",
        "  - $\\lambda$: regularization rate (hyper-param)\n",
        "  - $\\mathcal{K}=\\{(u, i) \\mid \\mathbf{R}_{ui} \\text{ is known}\\}$: The $(u,i)$ pairs for which $\\mathbf{R}_{ui}$ is known and stored in the set\n"
      ],
      "metadata": {
        "id": "c7ExydKstxpm"
      }
    },
    {
      "cell_type": "code",
      "source": [
        "from torch import nn\n",
        "\n",
        "class SVDpp(nn.Module):\n",
        "    def __init__(self, num_factors, num_users, num_items, device, **kwargs):\n",
        "        super(SVDpp, self).__init__(**kwargs)\n",
        "        self.device = device\n",
        "        # plain MF params\n",
        "        self.P = nn.Embedding(num_users, num_factors).to(self.device)\n",
        "        self.Q = nn.Embedding(num_items, num_factors).to(self.device)\n",
        "        self.user_bias = nn.Embedding(num_users, 1).to(self.device)\n",
        "        self.item_bias = nn.Embedding(num_items, 1).to(self.device)\n",
        "        self.global_bias = nn.Parameter(torch.zeros(1)).to(self.device)\n",
        "        # implicit feedback params\n",
        "        self.y_j = nn.Embedding(num_items, num_factors).to(self.device) \n",
        "\n",
        "    def forward(self, user_id, item_id, u_i_dict):\n",
        "        \n",
        "        P_u = self.P(user_id)\n",
        "        Q_i = self.Q(item_id)\n",
        "        b_u = self.user_bias(user_id)\n",
        "        b_i = self.item_bias(item_id)\n",
        "        mu = self.global_bias\n",
        "\n",
        "        # incoporating implicit feedback\n",
        "        u_impl_list = [] \n",
        "        for u in user_id:\n",
        "          u_i = u_i_dict[u.item()]\n",
        "          u_impl = self.y_j(torch.tensor(u_i).to(self.device)).sum(axis=0)\n",
        "          u_impl_list.append(u_impl / torch.tensor(len(u_i)).sqrt())\n",
        "        u_impl_vec = torch.stack((u_impl_list))\n",
        "        \n",
        "        P_u += u_impl_vec\n",
        "\n",
        "        if len(b_u) < 2:\n",
        "          outputs = mu + torch.squeeze(b_u) + torch.squeeze(b_i) + (P_u * Q_i).sum() \n",
        "        else:\n",
        "          outputs = mu + torch.squeeze(b_u) + torch.squeeze(b_i) + (P_u * Q_i).sum(axis=1) \n",
        "        return outputs.flatten()\n"
      ],
      "metadata": {
        "id": "w0I55ycDsC1-"
      },
      "execution_count": 9,
      "outputs": []
    },
    {
      "cell_type": "markdown",
      "source": [
        "After defining the model structure, for efficient computations using pyTorch, we form our data as Torch tensors and get them on the pyTorch DataLoader which helps us with efficiently shuffling and batching the data for the training and testing procedures."
      ],
      "metadata": {
        "id": "SIFUBncu9SIa"
      }
    },
    {
      "cell_type": "code",
      "source": [
        "def data_forming(train_ML, val_ML, test_ML, batch_size=256):\n",
        "  \"\"\"\n",
        "  gets the dataset splits, converts it to torch tensors, and gets them on the DataLoader\n",
        "  \"\"\"\n",
        "  train_u, train_i, train_r = train_ML[:,0], train_ML[:,1], train_ML[:,2]\n",
        "  val_u, val_i, val_r = val_ML[:,0], val_ML[:,1], val_ML[:,2]\n",
        "  test_u, test_i, test_r = test_ML[:,0], test_ML[:,1], test_ML[:,2]\n",
        "  # Get on TensorDataset\n",
        "  train_set = torch.utils.data.TensorDataset(\n",
        "    torch.tensor(train_u), torch.tensor(train_i), torch.tensor(train_r, dtype=torch.float32))\n",
        "  val_set = torch.utils.data.TensorDataset(\n",
        "    torch.tensor(val_u), torch.tensor(val_i), torch.tensor(val_r))\n",
        "  test_set = torch.utils.data.TensorDataset(\n",
        "    torch.tensor(test_u), torch.tensor(test_i), torch.tensor(test_r))\n",
        "  \n",
        "  # Get on DataLoader\n",
        "  train_iter = torch.utils.data.DataLoader(\n",
        "      train_set, shuffle=True, batch_size=batch_size)\n",
        "  val_iter = torch.utils.data.DataLoader(\n",
        "      val_set, shuffle=True, batch_size=batch_size)\n",
        "  test_iter = torch.utils.data.DataLoader(\n",
        "      test_set, shuffle=True, batch_size=batch_size)\n",
        "  \n",
        "  return train_iter, val_iter, test_iter\n"
      ],
      "metadata": {
        "id": "n0CZHte3G6oo"
      },
      "execution_count": 10,
      "outputs": []
    },
    {
      "cell_type": "markdown",
      "source": [
        "Finally, we can train our model with the hyperparameter selection that you want. Generally, you want to use a hyperparameter tuning package such as [Ray](https://https://docs.ray.io/en/latest/tune/index.html) or [Weights and Biases](https://wandb.ai/site) for real-world problems, but since that is not the focal point of our interest here, we just manually define our hyperparameters. You are strongly encouraged to repeat training and testing with other hyperparameter settings to make conclusions about the influence of each hyperparameter. "
      ],
      "metadata": {
        "id": "O1bqcJCr95w2"
      }
    },
    {
      "cell_type": "code",
      "source": [
        "# model hyperparameters \n",
        "config={\n",
        "    \"num_factors\":5,\n",
        "    \"batch_size\":2048,\n",
        "    'model_type': 'SVDpp',\n",
        "    \"optimizer\": 'Adam',\n",
        "    \"wd\":  1e-5 ,\n",
        "    \"lr\": 0.01,\n",
        "    \"num_epochs\":100,\n",
        "    \"save_every\":100\n",
        "}\n",
        "\n",
        "\n",
        "\n",
        "# get the formed data splits\n",
        "train_loader, val_loader, test_loader = data_forming(train_ML, val_ML, test_ML, config[\"batch_size\"])\n",
        "\n",
        "\n",
        "def train_eval_model(data, u_i_dict_train, u_i_dict_val, config, device):\n",
        "  \"\"\"\n",
        "  Performs training and validation using the defined model and hyperparameters.\n",
        "  \"\"\"\n",
        "\n",
        "  # we need these for model configuration\n",
        "  num_users = np.unique(data[:,0]).shape[0]\n",
        "  num_items = np.unique(data[:,1]).shape[0]\n",
        "  \n",
        "\n",
        "  # make an instance of the model. Here, the only model type we implemented is SVD++,\n",
        "  # but using the same skeleton, you can easily define other MF-based models as well\n",
        "  if config['model_type'] == 'SVDpp':\n",
        "    model = SVDpp(config['num_factors'], num_users, num_items, device)\n",
        "\n",
        "  # Define a loss function (MSE is the go-to choice for explicit rating data), but you\n",
        "  # can define other metrics as well\n",
        "  loss_fn = nn.MSELoss(reduction='mean')\n",
        "\n",
        "  # Define an optimizer\n",
        "  if config[\"optimizer\"] == \"Adam\":\n",
        "    optimizer = torch.optim.Adam((param for param in model.parameters()\n",
        "                            if param.requires_grad), \n",
        "                         weight_decay=config[\"wd\"], lr=config[\"lr\"])\n",
        "    \n",
        "  else:\n",
        "    optimizer = torch.optim.SGD((param for param in model.parameters()\n",
        "                            if param.requires_grad), \n",
        "                         weight_decay=config[\"wd\"], lr=config[\"lr\"])\n",
        "    \n",
        "\n",
        "  ######################################################################\n",
        "  # Train & Eval\n",
        "  ######################################################################\n",
        "\n",
        "  # Train\n",
        "  for epoch in tqdm(range(config['num_epochs'])):\n",
        "    tr_rmse = 0\n",
        "    model.train()\n",
        "    for u, i, r in train_loader:\n",
        "      u, i, r = u.to(device), i.to(device), r.to(device)\n",
        "      optimizer.zero_grad()\n",
        "      output = model(u, i, u_i_dict_train)\n",
        "      l = loss_fn(output, r)\n",
        "      l.backward()\n",
        "      optimizer.step()\n",
        "      with torch.no_grad():\n",
        "        tr_rmse += np.sqrt(loss_fn(output, r).cpu().numpy())\n",
        "      \n",
        "    print(\"\\n training RMSE Loss: {}\".format(tr_rmse))\n",
        "    \n",
        "    # Evaluate on Valid-set\n",
        "    val_rmse = 0\n",
        "    model.eval()\n",
        "    for u, i, r in val_loader:\n",
        "      u, i, r = u.to(device), i.to(device), r.to(device)\n",
        "      r_hat = model(u, i, u_i_dict_val)\n",
        "      with torch.no_grad():\n",
        "        val_rmse += np.sqrt(loss_fn(r_hat, r).cpu().numpy())\n",
        "\n",
        "    print(\"\\t validation RMSE Loss: {}\".format(val_rmse))\n",
        "\n",
        "    if epoch % config[\"save_every\"] + 1 == 0:\n",
        "      #path = os.getcwd()\n",
        "      torch.save((model.state_dict(), optimizer.state_dict()))\n",
        "\n",
        "\n",
        "def try_gpu(i=0): \n",
        "    return f'cuda:{i}' if torch.cuda.device_count() >= i + 1 else 'cpu'"
      ],
      "metadata": {
        "id": "Fq_pEe8rvX1n"
      },
      "execution_count": 17,
      "outputs": []
    },
    {
      "cell_type": "markdown",
      "source": [
        "Check if you are connected to a GPU runtime"
      ],
      "metadata": {
        "id": "xG4FlghYAOvu"
      }
    },
    {
      "cell_type": "code",
      "source": [
        "device = try_gpu()\n",
        "print(device)\n",
        "\n"
      ],
      "metadata": {
        "colab": {
          "base_uri": "https://localhost:8080/"
        },
        "id": "H99IAent-W3y",
        "outputId": "ddcde196-49a5-44a8-8193-1dd6ef30e575"
      },
      "execution_count": 18,
      "outputs": [
        {
          "output_type": "stream",
          "name": "stdout",
          "text": [
            "cuda:0\n"
          ]
        }
      ]
    },
    {
      "cell_type": "markdown",
      "source": [
        "Finally run the training loop"
      ],
      "metadata": {
        "id": "cLc7QEdhA6K4"
      }
    },
    {
      "cell_type": "code",
      "source": [
        "train_eval_model(ML_mapped, u_i_dict_train_ML, u_i_dict_val_ML, config, device)"
      ],
      "metadata": {
        "id": "43xj_oNmIhhh",
        "colab": {
          "base_uri": "https://localhost:8080/"
        },
        "outputId": "20daaab7-d197-45f9-ae3f-cd643e02cd18"
      },
      "execution_count": 19,
      "outputs": [
        {
          "output_type": "stream",
          "name": "stderr",
          "text": [
            "\r  0%|          | 0/100 [00:00<?, ?it/s]"
          ]
        },
        {
          "output_type": "stream",
          "name": "stdout",
          "text": [
            "\n",
            " training RMSE Loss: 156.27580451965332\n"
          ]
        },
        {
          "output_type": "stream",
          "name": "stderr",
          "text": [
            "\r  1%|          | 1/100 [00:27<44:48, 27.16s/it]"
          ]
        },
        {
          "output_type": "stream",
          "name": "stdout",
          "text": [
            "\t validation RMSE Loss: 34.672574043273926\n",
            "\n",
            " training RMSE Loss: 124.96423649787903\n"
          ]
        },
        {
          "output_type": "stream",
          "name": "stderr",
          "text": [
            "\r  2%|▏         | 2/100 [00:54<44:24, 27.19s/it]"
          ]
        },
        {
          "output_type": "stream",
          "name": "stdout",
          "text": [
            "\t validation RMSE Loss: 30.067250728607178\n",
            "\n",
            " training RMSE Loss: 99.02428960800171\n"
          ]
        },
        {
          "output_type": "stream",
          "name": "stderr",
          "text": [
            "\r  3%|▎         | 3/100 [01:21<44:14, 27.36s/it]"
          ]
        },
        {
          "output_type": "stream",
          "name": "stdout",
          "text": [
            "\t validation RMSE Loss: 26.294906616210938\n",
            "\n",
            " training RMSE Loss: 77.32036781311035\n"
          ]
        },
        {
          "output_type": "stream",
          "name": "stderr",
          "text": [
            "\r  4%|▍         | 4/100 [01:49<43:56, 27.47s/it]"
          ]
        },
        {
          "output_type": "stream",
          "name": "stdout",
          "text": [
            "\t validation RMSE Loss: 23.830009698867798\n",
            "\n",
            " training RMSE Loss: 61.61072874069214\n"
          ]
        },
        {
          "output_type": "stream",
          "name": "stderr",
          "text": [
            "\r  5%|▌         | 5/100 [02:16<43:24, 27.41s/it]"
          ]
        },
        {
          "output_type": "stream",
          "name": "stdout",
          "text": [
            "\t validation RMSE Loss: 22.1870276927948\n",
            "\n",
            " training RMSE Loss: 51.607699155807495\n"
          ]
        },
        {
          "output_type": "stream",
          "name": "stderr",
          "text": [
            "\r  6%|▌         | 6/100 [02:44<43:02, 27.47s/it]"
          ]
        },
        {
          "output_type": "stream",
          "name": "stdout",
          "text": [
            "\t validation RMSE Loss: 21.347156763076782\n",
            "\n",
            " training RMSE Loss: 45.451340317726135\n"
          ]
        },
        {
          "output_type": "stream",
          "name": "stderr",
          "text": [
            "\r  7%|▋         | 7/100 [03:11<42:32, 27.45s/it]"
          ]
        },
        {
          "output_type": "stream",
          "name": "stdout",
          "text": [
            "\t validation RMSE Loss: 20.566476106643677\n",
            "\n",
            " training RMSE Loss: 41.58953392505646\n"
          ]
        },
        {
          "output_type": "stream",
          "name": "stderr",
          "text": [
            "\r  8%|▊         | 8/100 [03:39<42:09, 27.49s/it]"
          ]
        },
        {
          "output_type": "stream",
          "name": "stdout",
          "text": [
            "\t validation RMSE Loss: 20.104827880859375\n",
            "\n",
            " training RMSE Loss: 39.14206540584564\n"
          ]
        },
        {
          "output_type": "stream",
          "name": "stderr",
          "text": [
            "\r  9%|▉         | 9/100 [04:07<41:47, 27.55s/it]"
          ]
        },
        {
          "output_type": "stream",
          "name": "stdout",
          "text": [
            "\t validation RMSE Loss: 19.833343505859375\n",
            "\n",
            " training RMSE Loss: 37.38560092449188\n"
          ]
        },
        {
          "output_type": "stream",
          "name": "stderr",
          "text": [
            "\r 10%|█         | 10/100 [04:34<41:21, 27.57s/it]"
          ]
        },
        {
          "output_type": "stream",
          "name": "stdout",
          "text": [
            "\t validation RMSE Loss: 19.653231620788574\n",
            "\n",
            " training RMSE Loss: 36.22630190849304\n"
          ]
        },
        {
          "output_type": "stream",
          "name": "stderr",
          "text": [
            "\r 11%|█         | 11/100 [05:01<40:40, 27.42s/it]"
          ]
        },
        {
          "output_type": "stream",
          "name": "stdout",
          "text": [
            "\t validation RMSE Loss: 19.3358211517334\n",
            "\n",
            " training RMSE Loss: 35.27573734521866\n"
          ]
        },
        {
          "output_type": "stream",
          "name": "stderr",
          "text": [
            "\r 12%|█▏        | 12/100 [05:29<40:11, 27.40s/it]"
          ]
        },
        {
          "output_type": "stream",
          "name": "stdout",
          "text": [
            "\t validation RMSE Loss: 19.149911880493164\n",
            "\n",
            " training RMSE Loss: 34.62777602672577\n"
          ]
        },
        {
          "output_type": "stream",
          "name": "stderr",
          "text": [
            "\r 13%|█▎        | 13/100 [05:56<39:40, 27.36s/it]"
          ]
        },
        {
          "output_type": "stream",
          "name": "stdout",
          "text": [
            "\t validation RMSE Loss: 19.078425884246826\n",
            "\n",
            " training RMSE Loss: 34.061663925647736\n"
          ]
        },
        {
          "output_type": "stream",
          "name": "stderr",
          "text": [
            "\r 14%|█▍        | 14/100 [06:24<39:18, 27.42s/it]"
          ]
        },
        {
          "output_type": "stream",
          "name": "stdout",
          "text": [
            "\t validation RMSE Loss: 18.87735104560852\n",
            "\n",
            " training RMSE Loss: 33.592869222164154\n"
          ]
        },
        {
          "output_type": "stream",
          "name": "stderr",
          "text": [
            "\r 15%|█▌        | 15/100 [06:51<38:53, 27.45s/it]"
          ]
        },
        {
          "output_type": "stream",
          "name": "stdout",
          "text": [
            "\t validation RMSE Loss: 18.89169430732727\n",
            "\n",
            " training RMSE Loss: 33.26659852266312\n"
          ]
        },
        {
          "output_type": "stream",
          "name": "stderr",
          "text": [
            "\r 16%|█▌        | 16/100 [07:18<38:11, 27.28s/it]"
          ]
        },
        {
          "output_type": "stream",
          "name": "stdout",
          "text": [
            "\t validation RMSE Loss: 18.773109674453735\n",
            "\n",
            " training RMSE Loss: 32.997050642967224\n"
          ]
        },
        {
          "output_type": "stream",
          "name": "stderr",
          "text": [
            "\r 17%|█▋        | 17/100 [07:46<37:52, 27.38s/it]"
          ]
        },
        {
          "output_type": "stream",
          "name": "stdout",
          "text": [
            "\t validation RMSE Loss: 18.773961305618286\n",
            "\n",
            " training RMSE Loss: 32.77343046665192\n"
          ]
        },
        {
          "output_type": "stream",
          "name": "stderr",
          "text": [
            "\r 18%|█▊        | 18/100 [08:13<37:22, 27.34s/it]"
          ]
        },
        {
          "output_type": "stream",
          "name": "stdout",
          "text": [
            "\t validation RMSE Loss: 18.630336046218872\n",
            "\n",
            " training RMSE Loss: 32.51907479763031\n"
          ]
        },
        {
          "output_type": "stream",
          "name": "stderr",
          "text": [
            "\r 19%|█▉        | 19/100 [08:40<36:51, 27.30s/it]"
          ]
        },
        {
          "output_type": "stream",
          "name": "stdout",
          "text": [
            "\t validation RMSE Loss: 18.602782726287842\n",
            "\n",
            " training RMSE Loss: 32.35643172264099\n"
          ]
        },
        {
          "output_type": "stream",
          "name": "stderr",
          "text": [
            "\r 20%|██        | 20/100 [09:07<36:19, 27.25s/it]"
          ]
        },
        {
          "output_type": "stream",
          "name": "stdout",
          "text": [
            "\t validation RMSE Loss: 18.61349606513977\n",
            "\n",
            " training RMSE Loss: 32.16586619615555\n"
          ]
        },
        {
          "output_type": "stream",
          "name": "stderr",
          "text": [
            "\r 21%|██        | 21/100 [09:34<35:53, 27.26s/it]"
          ]
        },
        {
          "output_type": "stream",
          "name": "stdout",
          "text": [
            "\t validation RMSE Loss: 18.426133632659912\n",
            "\n",
            " training RMSE Loss: 32.02150785923004\n"
          ]
        },
        {
          "output_type": "stream",
          "name": "stderr",
          "text": [
            "\r 22%|██▏       | 22/100 [10:01<35:14, 27.11s/it]"
          ]
        },
        {
          "output_type": "stream",
          "name": "stdout",
          "text": [
            "\t validation RMSE Loss: 18.41005802154541\n",
            "\n",
            " training RMSE Loss: 31.93505448102951\n"
          ]
        },
        {
          "output_type": "stream",
          "name": "stderr",
          "text": [
            "\r 23%|██▎       | 23/100 [10:28<34:42, 27.04s/it]"
          ]
        },
        {
          "output_type": "stream",
          "name": "stdout",
          "text": [
            "\t validation RMSE Loss: 18.35312247276306\n",
            "\n",
            " training RMSE Loss: 31.79121422767639\n"
          ]
        },
        {
          "output_type": "stream",
          "name": "stderr",
          "text": [
            "\r 24%|██▍       | 24/100 [10:55<34:17, 27.07s/it]"
          ]
        },
        {
          "output_type": "stream",
          "name": "stdout",
          "text": [
            "\t validation RMSE Loss: 18.329846382141113\n",
            "\n",
            " training RMSE Loss: 31.72230154275894\n"
          ]
        },
        {
          "output_type": "stream",
          "name": "stderr",
          "text": [
            "\r 25%|██▌       | 25/100 [11:22<33:50, 27.08s/it]"
          ]
        },
        {
          "output_type": "stream",
          "name": "stdout",
          "text": [
            "\t validation RMSE Loss: 18.197348833084106\n",
            "\n",
            " training RMSE Loss: 31.580394089221954\n"
          ]
        },
        {
          "output_type": "stream",
          "name": "stderr",
          "text": [
            "\r 26%|██▌       | 26/100 [11:50<33:28, 27.15s/it]"
          ]
        },
        {
          "output_type": "stream",
          "name": "stdout",
          "text": [
            "\t validation RMSE Loss: 18.191727876663208\n",
            "\n",
            " training RMSE Loss: 31.522745430469513\n"
          ]
        },
        {
          "output_type": "stream",
          "name": "stderr",
          "text": [
            "\r 27%|██▋       | 27/100 [12:17<33:01, 27.14s/it]"
          ]
        },
        {
          "output_type": "stream",
          "name": "stdout",
          "text": [
            "\t validation RMSE Loss: 18.223432302474976\n",
            "\n",
            " training RMSE Loss: 31.435004889965057\n"
          ]
        },
        {
          "output_type": "stream",
          "name": "stderr",
          "text": [
            "\r 28%|██▊       | 28/100 [12:44<32:34, 27.15s/it]"
          ]
        },
        {
          "output_type": "stream",
          "name": "stdout",
          "text": [
            "\t validation RMSE Loss: 18.134655952453613\n",
            "\n",
            " training RMSE Loss: 31.361010909080505\n"
          ]
        },
        {
          "output_type": "stream",
          "name": "stderr",
          "text": [
            "\r 29%|██▉       | 29/100 [13:11<32:07, 27.15s/it]"
          ]
        },
        {
          "output_type": "stream",
          "name": "stdout",
          "text": [
            "\t validation RMSE Loss: 18.129488945007324\n",
            "\n",
            " training RMSE Loss: 31.28182876110077\n"
          ]
        },
        {
          "output_type": "stream",
          "name": "stderr",
          "text": [
            "\r 30%|███       | 30/100 [13:38<31:39, 27.14s/it]"
          ]
        },
        {
          "output_type": "stream",
          "name": "stdout",
          "text": [
            "\t validation RMSE Loss: 18.149807929992676\n",
            "\n",
            " training RMSE Loss: 31.295157253742218\n"
          ]
        },
        {
          "output_type": "stream",
          "name": "stderr",
          "text": [
            "\r 31%|███       | 31/100 [14:05<31:12, 27.14s/it]"
          ]
        },
        {
          "output_type": "stream",
          "name": "stdout",
          "text": [
            "\t validation RMSE Loss: 17.99822974205017\n",
            "\n",
            " training RMSE Loss: 31.172215938568115\n"
          ]
        },
        {
          "output_type": "stream",
          "name": "stderr",
          "text": [
            "\r 32%|███▏      | 32/100 [14:33<30:47, 27.17s/it]"
          ]
        },
        {
          "output_type": "stream",
          "name": "stdout",
          "text": [
            "\t validation RMSE Loss: 17.92353844642639\n",
            "\n",
            " training RMSE Loss: 31.140181303024292\n"
          ]
        },
        {
          "output_type": "stream",
          "name": "stderr",
          "text": [
            "\r 33%|███▎      | 33/100 [15:00<30:18, 27.14s/it]"
          ]
        },
        {
          "output_type": "stream",
          "name": "stdout",
          "text": [
            "\t validation RMSE Loss: 17.86622643470764\n",
            "\n",
            " training RMSE Loss: 31.14545238018036\n"
          ]
        },
        {
          "output_type": "stream",
          "name": "stderr",
          "text": [
            "\r 34%|███▍      | 34/100 [15:26<29:41, 26.99s/it]"
          ]
        },
        {
          "output_type": "stream",
          "name": "stdout",
          "text": [
            "\t validation RMSE Loss: 17.845893144607544\n",
            "\n",
            " training RMSE Loss: 30.97445160150528\n"
          ]
        },
        {
          "output_type": "stream",
          "name": "stderr",
          "text": [
            "\r 35%|███▌      | 35/100 [15:53<29:16, 27.02s/it]"
          ]
        },
        {
          "output_type": "stream",
          "name": "stdout",
          "text": [
            "\t validation RMSE Loss: 17.916208744049072\n",
            "\n",
            " training RMSE Loss: 30.94557911157608\n"
          ]
        },
        {
          "output_type": "stream",
          "name": "stderr",
          "text": [
            "\r 36%|███▌      | 36/100 [16:20<28:50, 27.04s/it]"
          ]
        },
        {
          "output_type": "stream",
          "name": "stdout",
          "text": [
            "\t validation RMSE Loss: 17.979087591171265\n",
            "\n",
            " training RMSE Loss: 30.9353329539299\n"
          ]
        },
        {
          "output_type": "stream",
          "name": "stderr",
          "text": [
            "\r 37%|███▋      | 37/100 [16:48<28:27, 27.11s/it]"
          ]
        },
        {
          "output_type": "stream",
          "name": "stdout",
          "text": [
            "\t validation RMSE Loss: 17.814913749694824\n",
            "\n",
            " training RMSE Loss: 30.856707274913788\n"
          ]
        },
        {
          "output_type": "stream",
          "name": "stderr",
          "text": [
            "\r 38%|███▊      | 38/100 [17:15<28:01, 27.12s/it]"
          ]
        },
        {
          "output_type": "stream",
          "name": "stdout",
          "text": [
            "\t validation RMSE Loss: 17.768842935562134\n",
            "\n",
            " training RMSE Loss: 30.82245832681656\n"
          ]
        },
        {
          "output_type": "stream",
          "name": "stderr",
          "text": [
            "\r 39%|███▉      | 39/100 [17:42<27:40, 27.22s/it]"
          ]
        },
        {
          "output_type": "stream",
          "name": "stdout",
          "text": [
            "\t validation RMSE Loss: 17.725149631500244\n",
            "\n",
            " training RMSE Loss: 30.76525527238846\n"
          ]
        },
        {
          "output_type": "stream",
          "name": "stderr",
          "text": [
            "\r 40%|████      | 40/100 [18:10<27:17, 27.29s/it]"
          ]
        },
        {
          "output_type": "stream",
          "name": "stdout",
          "text": [
            "\t validation RMSE Loss: 17.803792238235474\n",
            "\n",
            " training RMSE Loss: 30.71822738647461\n"
          ]
        },
        {
          "output_type": "stream",
          "name": "stderr",
          "text": [
            "\r 41%|████      | 41/100 [18:37<26:52, 27.32s/it]"
          ]
        },
        {
          "output_type": "stream",
          "name": "stdout",
          "text": [
            "\t validation RMSE Loss: 17.790006160736084\n",
            "\n",
            " training RMSE Loss: 30.712328791618347\n"
          ]
        },
        {
          "output_type": "stream",
          "name": "stderr",
          "text": [
            "\r 42%|████▏     | 42/100 [19:05<26:31, 27.44s/it]"
          ]
        },
        {
          "output_type": "stream",
          "name": "stdout",
          "text": [
            "\t validation RMSE Loss: 17.71829080581665\n",
            "\n",
            " training RMSE Loss: 30.642335057258606\n"
          ]
        },
        {
          "output_type": "stream",
          "name": "stderr",
          "text": [
            "\r 43%|████▎     | 43/100 [19:33<26:07, 27.50s/it]"
          ]
        },
        {
          "output_type": "stream",
          "name": "stdout",
          "text": [
            "\t validation RMSE Loss: 17.6511447429657\n",
            "\n",
            " training RMSE Loss: 30.585197746753693\n"
          ]
        },
        {
          "output_type": "stream",
          "name": "stderr",
          "text": [
            "\r 44%|████▍     | 44/100 [20:00<25:42, 27.55s/it]"
          ]
        },
        {
          "output_type": "stream",
          "name": "stdout",
          "text": [
            "\t validation RMSE Loss: 17.628788709640503\n",
            "\n",
            " training RMSE Loss: 30.52093482017517\n"
          ]
        },
        {
          "output_type": "stream",
          "name": "stderr",
          "text": [
            "\r 45%|████▌     | 45/100 [20:28<25:21, 27.66s/it]"
          ]
        },
        {
          "output_type": "stream",
          "name": "stdout",
          "text": [
            "\t validation RMSE Loss: 17.62494158744812\n",
            "\n",
            " training RMSE Loss: 30.48096215724945\n"
          ]
        },
        {
          "output_type": "stream",
          "name": "stderr",
          "text": [
            "\r 46%|████▌     | 46/100 [20:55<24:42, 27.45s/it]"
          ]
        },
        {
          "output_type": "stream",
          "name": "stdout",
          "text": [
            "\t validation RMSE Loss: 17.686169147491455\n",
            "\n",
            " training RMSE Loss: 30.451267302036285\n"
          ]
        },
        {
          "output_type": "stream",
          "name": "stderr",
          "text": [
            "\r 47%|████▋     | 47/100 [21:22<24:08, 27.33s/it]"
          ]
        },
        {
          "output_type": "stream",
          "name": "stdout",
          "text": [
            "\t validation RMSE Loss: 17.538233041763306\n",
            "\n",
            " training RMSE Loss: 30.420143604278564\n"
          ]
        },
        {
          "output_type": "stream",
          "name": "stderr",
          "text": [
            "\r 48%|████▊     | 48/100 [21:49<23:40, 27.31s/it]"
          ]
        },
        {
          "output_type": "stream",
          "name": "stdout",
          "text": [
            "\t validation RMSE Loss: 17.55417037010193\n",
            "\n",
            " training RMSE Loss: 30.385132133960724\n"
          ]
        },
        {
          "output_type": "stream",
          "name": "stderr",
          "text": [
            "\r 49%|████▉     | 49/100 [22:16<23:05, 27.17s/it]"
          ]
        },
        {
          "output_type": "stream",
          "name": "stdout",
          "text": [
            "\t validation RMSE Loss: 17.566104888916016\n",
            "\n",
            " training RMSE Loss: 30.307355225086212\n"
          ]
        },
        {
          "output_type": "stream",
          "name": "stderr",
          "text": [
            "\r 50%|█████     | 50/100 [22:43<22:34, 27.10s/it]"
          ]
        },
        {
          "output_type": "stream",
          "name": "stdout",
          "text": [
            "\t validation RMSE Loss: 17.48247742652893\n",
            "\n",
            " training RMSE Loss: 30.31489896774292\n"
          ]
        },
        {
          "output_type": "stream",
          "name": "stderr",
          "text": [
            "\r 51%|█████     | 51/100 [23:11<22:14, 27.24s/it]"
          ]
        },
        {
          "output_type": "stream",
          "name": "stdout",
          "text": [
            "\t validation RMSE Loss: 17.452073574066162\n",
            "\n",
            " training RMSE Loss: 30.304022431373596\n"
          ]
        },
        {
          "output_type": "stream",
          "name": "stderr",
          "text": [
            "\r 52%|█████▏    | 52/100 [23:38<21:46, 27.21s/it]"
          ]
        },
        {
          "output_type": "stream",
          "name": "stdout",
          "text": [
            "\t validation RMSE Loss: 17.405268669128418\n",
            "\n",
            " training RMSE Loss: 30.249697864055634\n"
          ]
        },
        {
          "output_type": "stream",
          "name": "stderr",
          "text": [
            "\r 53%|█████▎    | 53/100 [24:05<21:15, 27.15s/it]"
          ]
        },
        {
          "output_type": "stream",
          "name": "stdout",
          "text": [
            "\t validation RMSE Loss: 17.394226789474487\n",
            "\n",
            " training RMSE Loss: 30.175486266613007\n"
          ]
        },
        {
          "output_type": "stream",
          "name": "stderr",
          "text": [
            "\r 54%|█████▍    | 54/100 [24:32<20:50, 27.17s/it]"
          ]
        },
        {
          "output_type": "stream",
          "name": "stdout",
          "text": [
            "\t validation RMSE Loss: 17.3487446308136\n",
            "\n",
            " training RMSE Loss: 30.12313461303711\n"
          ]
        },
        {
          "output_type": "stream",
          "name": "stderr",
          "text": [
            "\r 55%|█████▌    | 55/100 [24:59<20:21, 27.15s/it]"
          ]
        },
        {
          "output_type": "stream",
          "name": "stdout",
          "text": [
            "\t validation RMSE Loss: 17.364465713500977\n",
            "\n",
            " training RMSE Loss: 30.084636688232422\n"
          ]
        },
        {
          "output_type": "stream",
          "name": "stderr",
          "text": [
            "\r 56%|█████▌    | 56/100 [25:26<19:54, 27.16s/it]"
          ]
        },
        {
          "output_type": "stream",
          "name": "stdout",
          "text": [
            "\t validation RMSE Loss: 17.27960228919983\n",
            "\n",
            " training RMSE Loss: 30.007656395435333\n"
          ]
        },
        {
          "output_type": "stream",
          "name": "stderr",
          "text": [
            "\r 57%|█████▋    | 57/100 [25:54<19:29, 27.21s/it]"
          ]
        },
        {
          "output_type": "stream",
          "name": "stdout",
          "text": [
            "\t validation RMSE Loss: 17.19178295135498\n",
            "\n",
            " training RMSE Loss: 30.024890780448914\n"
          ]
        },
        {
          "output_type": "stream",
          "name": "stderr",
          "text": [
            "\r 58%|█████▊    | 58/100 [26:21<18:58, 27.10s/it]"
          ]
        },
        {
          "output_type": "stream",
          "name": "stdout",
          "text": [
            "\t validation RMSE Loss: 17.17542600631714\n",
            "\n",
            " training RMSE Loss: 29.992263317108154\n"
          ]
        },
        {
          "output_type": "stream",
          "name": "stderr",
          "text": [
            "\r 59%|█████▉    | 59/100 [26:47<18:29, 27.05s/it]"
          ]
        },
        {
          "output_type": "stream",
          "name": "stdout",
          "text": [
            "\t validation RMSE Loss: 17.164183139801025\n",
            "\n",
            " training RMSE Loss: 29.92122358083725\n"
          ]
        },
        {
          "output_type": "stream",
          "name": "stderr",
          "text": [
            "\r 60%|██████    | 60/100 [27:15<18:05, 27.14s/it]"
          ]
        },
        {
          "output_type": "stream",
          "name": "stdout",
          "text": [
            "\t validation RMSE Loss: 17.214885473251343\n",
            "\n",
            " training RMSE Loss: 29.941559672355652\n"
          ]
        },
        {
          "output_type": "stream",
          "name": "stderr",
          "text": [
            "\r 61%|██████    | 61/100 [27:42<17:39, 27.18s/it]"
          ]
        },
        {
          "output_type": "stream",
          "name": "stdout",
          "text": [
            "\t validation RMSE Loss: 17.18499207496643\n",
            "\n",
            " training RMSE Loss: 29.888533234596252\n"
          ]
        },
        {
          "output_type": "stream",
          "name": "stderr",
          "text": [
            "\r 62%|██████▏   | 62/100 [28:09<17:15, 27.25s/it]"
          ]
        },
        {
          "output_type": "stream",
          "name": "stdout",
          "text": [
            "\t validation RMSE Loss: 17.088382959365845\n",
            "\n",
            " training RMSE Loss: 29.80159640312195\n"
          ]
        },
        {
          "output_type": "stream",
          "name": "stderr",
          "text": [
            "\r 63%|██████▎   | 63/100 [28:37<16:48, 27.26s/it]"
          ]
        },
        {
          "output_type": "stream",
          "name": "stdout",
          "text": [
            "\t validation RMSE Loss: 17.07491946220398\n",
            "\n",
            " training RMSE Loss: 29.770936191082\n"
          ]
        },
        {
          "output_type": "stream",
          "name": "stderr",
          "text": [
            "\r 64%|██████▍   | 64/100 [29:04<16:20, 27.23s/it]"
          ]
        },
        {
          "output_type": "stream",
          "name": "stdout",
          "text": [
            "\t validation RMSE Loss: 17.09996008872986\n",
            "\n",
            " training RMSE Loss: 29.696403563022614\n"
          ]
        },
        {
          "output_type": "stream",
          "name": "stderr",
          "text": [
            "\r 65%|██████▌   | 65/100 [29:31<15:53, 27.23s/it]"
          ]
        },
        {
          "output_type": "stream",
          "name": "stdout",
          "text": [
            "\t validation RMSE Loss: 16.94617748260498\n",
            "\n",
            " training RMSE Loss: 29.61395251750946\n"
          ]
        },
        {
          "output_type": "stream",
          "name": "stderr",
          "text": [
            "\r 66%|██████▌   | 66/100 [29:58<15:21, 27.11s/it]"
          ]
        },
        {
          "output_type": "stream",
          "name": "stdout",
          "text": [
            "\t validation RMSE Loss: 16.918849229812622\n",
            "\n",
            " training RMSE Loss: 29.63653075695038\n"
          ]
        },
        {
          "output_type": "stream",
          "name": "stderr",
          "text": [
            "\r 67%|██████▋   | 67/100 [30:25<14:53, 27.06s/it]"
          ]
        },
        {
          "output_type": "stream",
          "name": "stdout",
          "text": [
            "\t validation RMSE Loss: 17.033680200576782\n",
            "\n",
            " training RMSE Loss: 29.633040606975555\n"
          ]
        },
        {
          "output_type": "stream",
          "name": "stderr",
          "text": [
            "\r 68%|██████▊   | 68/100 [30:52<14:26, 27.06s/it]"
          ]
        },
        {
          "output_type": "stream",
          "name": "stdout",
          "text": [
            "\t validation RMSE Loss: 16.93767547607422\n",
            "\n",
            " training RMSE Loss: 29.52157437801361\n"
          ]
        },
        {
          "output_type": "stream",
          "name": "stderr",
          "text": [
            "\r 69%|██████▉   | 69/100 [31:19<13:55, 26.97s/it]"
          ]
        },
        {
          "output_type": "stream",
          "name": "stdout",
          "text": [
            "\t validation RMSE Loss: 16.803272247314453\n",
            "\n",
            " training RMSE Loss: 29.50383973121643\n"
          ]
        },
        {
          "output_type": "stream",
          "name": "stderr",
          "text": [
            "\r 70%|███████   | 70/100 [31:46<13:28, 26.96s/it]"
          ]
        },
        {
          "output_type": "stream",
          "name": "stdout",
          "text": [
            "\t validation RMSE Loss: 16.779048919677734\n",
            "\n",
            " training RMSE Loss: 29.454331755638123\n"
          ]
        },
        {
          "output_type": "stream",
          "name": "stderr",
          "text": [
            "\r 71%|███████   | 71/100 [32:12<13:00, 26.92s/it]"
          ]
        },
        {
          "output_type": "stream",
          "name": "stdout",
          "text": [
            "\t validation RMSE Loss: 16.852941036224365\n",
            "\n",
            " training RMSE Loss: 29.393131256103516\n"
          ]
        },
        {
          "output_type": "stream",
          "name": "stderr",
          "text": [
            "\r 72%|███████▏  | 72/100 [32:39<12:33, 26.91s/it]"
          ]
        },
        {
          "output_type": "stream",
          "name": "stdout",
          "text": [
            "\t validation RMSE Loss: 16.771471738815308\n",
            "\n",
            " training RMSE Loss: 29.397045373916626\n"
          ]
        },
        {
          "output_type": "stream",
          "name": "stderr",
          "text": [
            "\r 73%|███████▎  | 73/100 [33:06<12:04, 26.84s/it]"
          ]
        },
        {
          "output_type": "stream",
          "name": "stdout",
          "text": [
            "\t validation RMSE Loss: 16.818716287612915\n",
            "\n",
            " training RMSE Loss: 29.32710701227188\n"
          ]
        },
        {
          "output_type": "stream",
          "name": "stderr",
          "text": [
            "\r 74%|███████▍  | 74/100 [33:33<11:38, 26.88s/it]"
          ]
        },
        {
          "output_type": "stream",
          "name": "stdout",
          "text": [
            "\t validation RMSE Loss: 16.670186519622803\n",
            "\n",
            " training RMSE Loss: 29.340539395809174\n"
          ]
        },
        {
          "output_type": "stream",
          "name": "stderr",
          "text": [
            "\r 75%|███████▌  | 75/100 [34:00<11:11, 26.86s/it]"
          ]
        },
        {
          "output_type": "stream",
          "name": "stdout",
          "text": [
            "\t validation RMSE Loss: 16.708282947540283\n",
            "\n",
            " training RMSE Loss: 29.262453973293304\n"
          ]
        },
        {
          "output_type": "stream",
          "name": "stderr",
          "text": [
            "\r 76%|███████▌  | 76/100 [34:26<10:42, 26.78s/it]"
          ]
        },
        {
          "output_type": "stream",
          "name": "stdout",
          "text": [
            "\t validation RMSE Loss: 16.419232606887817\n",
            "\n",
            " training RMSE Loss: 29.23619192838669\n"
          ]
        },
        {
          "output_type": "stream",
          "name": "stderr",
          "text": [
            "\r 77%|███████▋  | 77/100 [34:53<10:15, 26.76s/it]"
          ]
        },
        {
          "output_type": "stream",
          "name": "stdout",
          "text": [
            "\t validation RMSE Loss: 16.526241064071655\n",
            "\n",
            " training RMSE Loss: 29.17182457447052\n"
          ]
        },
        {
          "output_type": "stream",
          "name": "stderr",
          "text": [
            "\r 78%|███████▊  | 78/100 [35:20<09:48, 26.73s/it]"
          ]
        },
        {
          "output_type": "stream",
          "name": "stdout",
          "text": [
            "\t validation RMSE Loss: 16.43036198616028\n",
            "\n",
            " training RMSE Loss: 29.048288583755493\n"
          ]
        },
        {
          "output_type": "stream",
          "name": "stderr",
          "text": [
            "\r 79%|███████▉  | 79/100 [35:47<09:21, 26.75s/it]"
          ]
        },
        {
          "output_type": "stream",
          "name": "stdout",
          "text": [
            "\t validation RMSE Loss: 16.508248567581177\n",
            "\n",
            " training RMSE Loss: 29.103055953979492\n"
          ]
        },
        {
          "output_type": "stream",
          "name": "stderr",
          "text": [
            "\r 80%|████████  | 80/100 [36:14<08:55, 26.79s/it]"
          ]
        },
        {
          "output_type": "stream",
          "name": "stdout",
          "text": [
            "\t validation RMSE Loss: 16.449820041656494\n",
            "\n",
            " training RMSE Loss: 29.00503569841385\n"
          ]
        },
        {
          "output_type": "stream",
          "name": "stderr",
          "text": [
            "\r 81%|████████  | 81/100 [36:40<08:29, 26.79s/it]"
          ]
        },
        {
          "output_type": "stream",
          "name": "stdout",
          "text": [
            "\t validation RMSE Loss: 16.345178604125977\n",
            "\n",
            " training RMSE Loss: 29.034447729587555\n"
          ]
        },
        {
          "output_type": "stream",
          "name": "stderr",
          "text": [
            "\r 82%|████████▏ | 82/100 [37:07<08:01, 26.73s/it]"
          ]
        },
        {
          "output_type": "stream",
          "name": "stdout",
          "text": [
            "\t validation RMSE Loss: 16.357969999313354\n",
            "\n",
            " training RMSE Loss: 28.89510703086853\n"
          ]
        },
        {
          "output_type": "stream",
          "name": "stderr",
          "text": [
            "\r 83%|████████▎ | 83/100 [37:34<07:34, 26.76s/it]"
          ]
        },
        {
          "output_type": "stream",
          "name": "stdout",
          "text": [
            "\t validation RMSE Loss: 16.200063109397888\n",
            "\n",
            " training RMSE Loss: 28.86481887102127\n"
          ]
        },
        {
          "output_type": "stream",
          "name": "stderr",
          "text": [
            "\r 84%|████████▍ | 84/100 [38:00<07:07, 26.74s/it]"
          ]
        },
        {
          "output_type": "stream",
          "name": "stdout",
          "text": [
            "\t validation RMSE Loss: 16.394872069358826\n",
            "\n",
            " training RMSE Loss: 28.86031264066696\n"
          ]
        },
        {
          "output_type": "stream",
          "name": "stderr",
          "text": [
            "\r 85%|████████▌ | 85/100 [38:27<06:41, 26.75s/it]"
          ]
        },
        {
          "output_type": "stream",
          "name": "stdout",
          "text": [
            "\t validation RMSE Loss: 16.316006302833557\n",
            "\n",
            " training RMSE Loss: 28.82439684867859\n"
          ]
        },
        {
          "output_type": "stream",
          "name": "stderr",
          "text": [
            "\r 86%|████████▌ | 86/100 [38:54<06:14, 26.76s/it]"
          ]
        },
        {
          "output_type": "stream",
          "name": "stdout",
          "text": [
            "\t validation RMSE Loss: 16.237873673439026\n",
            "\n",
            " training RMSE Loss: 28.748775720596313\n"
          ]
        },
        {
          "output_type": "stream",
          "name": "stderr",
          "text": [
            "\r 87%|████████▋ | 87/100 [39:21<05:47, 26.76s/it]"
          ]
        },
        {
          "output_type": "stream",
          "name": "stdout",
          "text": [
            "\t validation RMSE Loss: 16.177836775779724\n",
            "\n",
            " training RMSE Loss: 28.739245235919952\n"
          ]
        },
        {
          "output_type": "stream",
          "name": "stderr",
          "text": [
            "\r 88%|████████▊ | 88/100 [39:47<05:20, 26.71s/it]"
          ]
        },
        {
          "output_type": "stream",
          "name": "stdout",
          "text": [
            "\t validation RMSE Loss: 16.180784106254578\n",
            "\n",
            " training RMSE Loss: 28.67156857252121\n"
          ]
        },
        {
          "output_type": "stream",
          "name": "stderr",
          "text": [
            "\r 89%|████████▉ | 89/100 [40:14<04:54, 26.80s/it]"
          ]
        },
        {
          "output_type": "stream",
          "name": "stdout",
          "text": [
            "\t validation RMSE Loss: 16.124260783195496\n",
            "\n",
            " training RMSE Loss: 28.683080732822418\n"
          ]
        },
        {
          "output_type": "stream",
          "name": "stderr",
          "text": [
            "\r 90%|█████████ | 90/100 [40:41<04:28, 26.88s/it]"
          ]
        },
        {
          "output_type": "stream",
          "name": "stdout",
          "text": [
            "\t validation RMSE Loss: 16.247516751289368\n",
            "\n",
            " training RMSE Loss: 28.58275157213211\n"
          ]
        },
        {
          "output_type": "stream",
          "name": "stderr",
          "text": [
            "\r 91%|█████████ | 91/100 [41:08<04:01, 26.87s/it]"
          ]
        },
        {
          "output_type": "stream",
          "name": "stdout",
          "text": [
            "\t validation RMSE Loss: 16.058409333229065\n",
            "\n",
            " training RMSE Loss: 28.539158523082733\n"
          ]
        },
        {
          "output_type": "stream",
          "name": "stderr",
          "text": [
            "\r 92%|█████████▏| 92/100 [41:35<03:34, 26.77s/it]"
          ]
        },
        {
          "output_type": "stream",
          "name": "stdout",
          "text": [
            "\t validation RMSE Loss: 16.094558715820312\n",
            "\n",
            " training RMSE Loss: 28.44906187057495\n"
          ]
        },
        {
          "output_type": "stream",
          "name": "stderr",
          "text": [
            "\r 93%|█████████▎| 93/100 [42:02<03:07, 26.81s/it]"
          ]
        },
        {
          "output_type": "stream",
          "name": "stdout",
          "text": [
            "\t validation RMSE Loss: 16.03903830051422\n",
            "\n",
            " training RMSE Loss: 28.450534880161285\n"
          ]
        },
        {
          "output_type": "stream",
          "name": "stderr",
          "text": [
            "\r 94%|█████████▍| 94/100 [42:28<02:40, 26.70s/it]"
          ]
        },
        {
          "output_type": "stream",
          "name": "stdout",
          "text": [
            "\t validation RMSE Loss: 15.826301097869873\n",
            "\n",
            " training RMSE Loss: 28.40821725130081\n"
          ]
        },
        {
          "output_type": "stream",
          "name": "stderr",
          "text": [
            "\r 95%|█████████▌| 95/100 [42:55<02:13, 26.68s/it]"
          ]
        },
        {
          "output_type": "stream",
          "name": "stdout",
          "text": [
            "\t validation RMSE Loss: 15.841913938522339\n",
            "\n",
            " training RMSE Loss: 28.40402388572693\n"
          ]
        },
        {
          "output_type": "stream",
          "name": "stderr",
          "text": [
            "\r 96%|█████████▌| 96/100 [43:21<01:46, 26.59s/it]"
          ]
        },
        {
          "output_type": "stream",
          "name": "stdout",
          "text": [
            "\t validation RMSE Loss: 15.86782681941986\n",
            "\n",
            " training RMSE Loss: 28.33410221338272\n"
          ]
        },
        {
          "output_type": "stream",
          "name": "stderr",
          "text": [
            "\r 97%|█████████▋| 97/100 [43:47<01:19, 26.51s/it]"
          ]
        },
        {
          "output_type": "stream",
          "name": "stdout",
          "text": [
            "\t validation RMSE Loss: 15.883020877838135\n",
            "\n",
            " training RMSE Loss: 28.255636870861053\n"
          ]
        },
        {
          "output_type": "stream",
          "name": "stderr",
          "text": [
            "\r 98%|█████████▊| 98/100 [44:14<00:53, 26.55s/it]"
          ]
        },
        {
          "output_type": "stream",
          "name": "stdout",
          "text": [
            "\t validation RMSE Loss: 15.839410662651062\n",
            "\n",
            " training RMSE Loss: 28.198251605033875\n"
          ]
        },
        {
          "output_type": "stream",
          "name": "stderr",
          "text": [
            "\r 99%|█████████▉| 99/100 [44:41<00:26, 26.58s/it]"
          ]
        },
        {
          "output_type": "stream",
          "name": "stdout",
          "text": [
            "\t validation RMSE Loss: 15.763977289199829\n",
            "\n",
            " training RMSE Loss: 28.21927011013031\n"
          ]
        },
        {
          "output_type": "stream",
          "name": "stderr",
          "text": [
            "100%|██████████| 100/100 [45:07<00:00, 27.08s/it]"
          ]
        },
        {
          "output_type": "stream",
          "name": "stdout",
          "text": [
            "\t validation RMSE Loss: 15.731103777885437\n"
          ]
        },
        {
          "output_type": "stream",
          "name": "stderr",
          "text": [
            "\n"
          ]
        }
      ]
    },
    {
      "cell_type": "markdown",
      "source": [
        "TODO: Now that you have selected your best model considering hte validation loss, please load the best saved model and test it on the test set"
      ],
      "metadata": {
        "id": "WpBd4z84A_26"
      }
    },
    {
      "cell_type": "code",
      "source": [
        "##your code goes here:"
      ],
      "metadata": {
        "id": "FhMBIlMFmv0K"
      },
      "execution_count": null,
      "outputs": []
    }
  ]
}