{
 "cells": [
  {
   "cell_type": "markdown",
   "metadata": {
    "id": "mgIsQtBfQIx5"
   },
   "source": [
    "# Setup"
   ]
  },
  {
   "cell_type": "markdown",
   "metadata": {
    "id": "ipOB1-sqIOGC"
   },
   "source": [
    "## Imports"
   ]
  },
  {
   "cell_type": "code",
   "execution_count": 1,
   "metadata": {
    "id": "Smj_NRctHZUy"
   },
   "outputs": [
    {
     "name": "stderr",
     "output_type": "stream",
     "text": [
      "2022-09-20 16:19:37.270926: I tensorflow/core/platform/cpu_feature_guard.cc:193] This TensorFlow binary is optimized with oneAPI Deep Neural Network Library (oneDNN) to use the following CPU instructions in performance-critical operations:  AVX2 AVX512F AVX512_VNNI FMA\n",
      "To enable them in other operations, rebuild TensorFlow with the appropriate compiler flags.\n"
     ]
    }
   ],
   "source": [
    "import os\n",
    "\n",
    "import numpy as np\n",
    "import pandas as pd\n",
    "import matplotlib.pyplot as plt\n",
    "import tensorflow as tf\n",
    "from tensorflow.python.summary.summary_iterator import summary_iterator\n",
    "from gym import spaces\n",
    "from scipy import stats\n",
    "\n",
    "from recsim.environments import interest_evolution, interest_exploration, long_term_satisfaction\n",
    "from recsim.agents import full_slate_q_agent, random_agent, slate_decomp_q_agent\n",
    "from recsim.simulator import runner_lib\n",
    "from recsim import document\n",
    "from recsim import user\n",
    "from recsim import agent\n",
    "from recsim.choice_model import MultinomialLogitChoiceModel\n",
    "from recsim.simulator import environment\n",
    "from recsim.simulator import recsim_gym"
   ]
  },
  {
   "cell_type": "markdown",
   "metadata": {
    "id": "_ilyP3LCzag5"
   },
   "source": [
    "## Configure TF1"
   ]
  },
  {
   "cell_type": "code",
   "execution_count": 2,
   "metadata": {
    "id": "8Ux7tIOYzlp8"
   },
   "outputs": [],
   "source": [
    "tf.compat.v1.disable_eager_execution()"
   ]
  },
  {
   "cell_type": "markdown",
   "metadata": {
    "id": "Lj7P3jvBf_yu"
   },
   "source": [
    "## Utility Functions"
   ]
  },
  {
   "cell_type": "code",
   "execution_count": 3,
   "metadata": {
    "id": "UOrVGOexgPAf"
   },
   "outputs": [],
   "source": [
    "def get_event_file(dir_path):\n",
    "    \"\"\"\n",
    "    Retrieves the tensorboard event file from specified dir\n",
    "    \"\"\"\n",
    "    for f in os.listdir(dir_path):\n",
    "        if f.startswith(\"events\"):\n",
    "            return os.path.join(dir_path, f)\n",
    "\n",
    "def show_eval_results(base_dir, eval_dir_name, reward_name):\n",
    "    \"\"\"\n",
    "    Display average episode reward during evaluation\n",
    "    \"\"\"\n",
    "    eval_dir = os.path.join(base_dir, eval_dir_name)\n",
    "    eval_event = get_event_file(eval_dir)\n",
    "    for s in summary_iterator(eval_event):\n",
    "        for v in s.summary.value:\n",
    "            if v.tag.startswith(\"AverageEpisodeRewards\"):\n",
    "                print(f\"Average episode {reward_name} in test: {v.simple_value}\")\n",
    "\n",
    "def show_training_results(base_dir, train_dir_name, reward_name):\n",
    "    \"\"\"\n",
    "    Display average episode reward plot during training\n",
    "    \"\"\"\n",
    "    train_dir = os.path.join(base_dir, train_dir_name)\n",
    "    train_event = get_event_file(train_dir)\n",
    "    reward_name = f\"Average episode {reward_name}\"\n",
    "    df = pd.DataFrame(columns=[reward_name])\n",
    "    for s in summary_iterator(train_event):\n",
    "        for v in s.summary.value:\n",
    "            if v.tag.startswith(\"AverageEpisodeRewards\"):\n",
    "                df = df.append({reward_name: v.simple_value}, ignore_index=True)\n",
    "    df.plot(title=f\"{reward_name} in training\")"
   ]
  },
  {
   "cell_type": "markdown",
   "metadata": {
    "id": "kGjCeZPFJDAW"
   },
   "source": [
    "# Reinforcement Learning in Recommender Systems"
   ]
  },
  {
   "cell_type": "markdown",
   "metadata": {
    "id": "Mi0M7pR_JDAX"
   },
   "source": [
    "## Why Reinforcement Learning?\n",
    "\n",
    "Most practical recommender systems focus on estimating immediate user engagement without considering the long-term effects of recommendations on user behaviour. Reinforcement learning (RL) methods offer the potential to optimize recommendations for long-term user engagement. "
   ]
  },
  {
   "cell_type": "markdown",
   "metadata": {
    "id": "T3HdDFT1JDAX"
   },
   "source": [
    "## Reinforcement Learning Overview\n",
    "\n",
    "![reinforcement-learning-fig1-700.jpg](https://user-images.githubusercontent.com/25628862/191277765-29a2bab3-ed7d-4ffe-9918-3d773565f741.jpg)\n",
    "\n",
    "Key components in a RL setup:\n",
    "* Agent\n",
    "* Environment\n",
    "* State\n",
    "* Action\n",
    "* Reward\n",
    "\n",
    "At each time step, the agent at state $s_t$ takes an action $a_t$, receives a reward $r_{t+1}$ from the environment and transitions into the next state $s_{t+1}$. The agent would leverage between exploration and exploitation to learn a optimal policy $\\pi^*$ that maximizes the cumulative reward. \n",
    "\n",
    "The environment is typically modelled as a Markov Decision Process (MDP) with state space $S$, action space $A$, reward function $R$, and transition kernel $P$, with discount factor $0\\leq\\gamma\\leq1$. The reward function $R(s,a)$ reflects the immediate reward of taking action $a$ in state $s$. The state transition probability $P(s\\prime|s, a)$ indicates the probability that the agent transitions to state $s\\prime$ when action $a$ is taken at state $s$. The discount factor is used to discount future rewards, a discount factor less than 1 indicates the distant future rewards are weighted less than immediate future rewards.\n",
    "\n",
    "At each state $s$, the *Value function*, which is the value of the state following policy $\\pi$ is given as:\n",
    "\n",
    "$V^\\pi(s) = r + \\gamma\\sum_{s\\prime \\in S}P(s\\prime|s, \\pi(s))V^\\pi(s\\prime)$\n",
    "\n",
    "The corresponding action value, or *Q function*, which reflects the value of taking action $a$ at state $s$ following policy $\\pi$ is given as:\n",
    "\n",
    "$Q^\\pi(s, a) = R(s, a) + \\gamma\\sum_{s\\prime\\in S}P(s\\prime|s, a)V^\\pi(s\\prime)$\n",
    "\n",
    "The *optimal policy* $\\pi^*$ maximizes expected value $V(s)$ uniformly over $S$, which can be effectively represented this way:\n",
    "\n",
    "$\\pi^*(s) = argmax_{a\\in A}Q^*(s, a)$\n",
    "\n",
    "When transition and reward models are both provided, optimal policies and value functions can be computed using a variety of methods, though generally these require approximation in large state/action problems. With sampled data, RL method such as *Q-learning* can be used. Q-learning is a off-policy algorithm, meaning that the agent behavior policy during training is different than the learned policy. Q-learning employs $\\epsilon-greedy$ policy during training, which encourages exploration during the early stage of training, and focuses on exploitation in the later stage. The Q function is updated in the following fashion:\n",
    "\n",
    "$Q^{new}(s_t, a_t)$ &larr; $Q(s_t, a_t) + \\alpha(r_t + \\gamma \\cdot max_{a_{t+1}}Q(s_{t+1}, a_{t+1}) - Q(s_t, a_t))$ \n",
    "\n",
    "Where $\\alpha$ is the learning rate."
   ]
  },
  {
   "cell_type": "markdown",
   "metadata": {
    "id": "-06lbZ-wJDAY"
   },
   "source": [
    "## Slate Recommendation MDP model\n",
    "\n",
    "Consider a setting in which a recommender system is charged with presenting a slate to a user, from which the user selects zero or more items for consumption (e.g., listening to selected music tracks, reading content, watching video content). Once items are consumed, the user can return for additional slate recommendations or terminate the session. The user’s response to a consumed item may have multiple dimensions. These may include the immediate degree of engagement with the item (e.g., consumption time); ratings feedback or comments; subsequent engagement with the content provider.\n",
    "\n",
    "For our MDP model:\n",
    "* The state space $S$ reflects *user state*, which includes relatively static user features (e.g., demographics, declared interests) and more dynamic user features (e.g., user context). Assume a finite state space for ease of exposition, although the methodology introduced later admit both countably infinite and continuous state features.\n",
    "* The action space $A$ is the set of all possible recommendation slates. Assume a fixed catalog of recommendable items $I$, so actions are the subsets $a\\subseteq I$ such that $|a| = k$, where $k$ is the slate size. In addition, assume that each item in $I$ and each slate $a$ is recommendable at each state $s$ for ease of exposition. However, the method introduced later apply readily when certain items cannot be recommended at particular states by specifying the recommendable subset and restricating slates to that subset. Positional bias or ordering effects are not accounted for in the following methodology, but one can incorporate these effects into the choice model. To account for when a user may not select an item from a recommended slate, assume every slate includes a $(k+1)$st null item.\n",
    "* The transition probability $P(s\\prime|s, a)$ generally reflects uncertainty in both user response and the future contextual or environmental state. One of the most critical points of uncertainty pertains the probability with which a user will consume a particular recommended item $a\\in A$ from the slate. As such, choice models play a critical role in evaluating the quality of a slate, which will be detailed in a later section.\n",
    "* The reward function $R$ captures the expected reward of a slate, which measures the expected degree of user engagement with items on the slate.\n"
   ]
  },
  {
   "cell_type": "markdown",
   "metadata": {
    "id": "UYrQRnd8s0Ee"
   },
   "source": [
    "## SlateQ \n",
    "\n",
    "As mentioned above, RL methods offer the potential to optimize recommendations for long-term user engagement. However, since users are often presented with slates of multiple items—which may have interacting effects on user choice—methods are required to deal with the combinatorics of the RL action space.\n",
    "\n",
    "Google’s SlateQ algorithm addresses this challenge by decomposing the long-term value (LTV) of a slate of items into a tractable function of its component item-wise LTVs. "
   ]
  },
  {
   "cell_type": "markdown",
   "metadata": {
    "id": "vNChxPhsJDAa"
   },
   "source": [
    "### Challenge & Difficulties\n",
    "The key challenge in the MDP setup above is the combinatorial nature of the action space, consisting of all $\\binom{|I|}{k}\\cdot k!$ ordered $k$-sets over $I$, which poses three key difficulties:\n",
    "* The size of action space makes sufficient *exploration* impractical.\n",
    "* *Generalization* of Q-values across slates is challenging without some compressed representation.\n",
    "* Must solve the combinatorial optimization problem of finding a slate with maximum Q-value\n"
   ]
  },
  {
   "cell_type": "markdown",
   "metadata": {
    "id": "xjcPtdnGJDAa"
   },
   "source": [
    "### Assumptions\n",
    "\n",
    "SlateQ depends to some extent on the nature of the user choice model, but critically on the interaction it has with subsequent user behavior, specifically, how it influences both expected engagement (i.e., reward) and user latent state (i.e., state transition probabilities).\n",
    "\n",
    "Two assumptions to derive the SlateQ decomposition:\n",
    "* **Single choice (SC)**: A user consumes a *single* item from each slate (which may be the *null item*)\n",
    "* **Reward/transition dependence on selection (RTDS)**: The realized reward (user engagement) $R(s, a)$ depends (perhaps stochastically) *only on the item $i \\in a$ consumed by the user* (which may also be the *null item*). Similarly, the state transition $P(s\\prime |s, a)$ depends only on the consumed $i \\in a$.\n",
    "\n",
    "Let $R(s, a, i)$ denote the reward when a user in state $s$, presented with slate $a$, selects item $i \\in a$, and $P(s\\prime |s, a, i)$ the corresponding probability of a transition to $s\\prime$, the **SC** assumption allows us to express immediate rewards and state transitions as follows:\n",
    "\n",
    "$R(s, a) = \\sum_{i \\in a}P(i|s, a)R(s, a, i)$\n",
    "\n",
    "$P(s\\prime |s, a) = \\sum_{i \\in a}P(i|s, a)P(s\\prime |s, a, i)$\n",
    "\n",
    "The **RTDS** assumption is typically the case that a user’s engagement with a selected item is not influenced to a great degree by the options in the slate that were not selected. This assumption can be stated as:\n",
    "\n",
    "$R(s, a, i) = R(s, a\\prime, i) = R(s, i),  \\forall a, a\\prime$ containing $i$\n",
    "\n",
    "$P(s\\prime |s, a, i) = P(s\\prime |s, a\\prime, i) = P(s\\prime |s, i),  \\forall a, a\\prime$ containing $i$"
   ]
  },
  {
   "cell_type": "markdown",
   "metadata": {
    "id": "0WGMkSSKJDAb"
   },
   "source": [
    "### Solution for *Exploration* & *Generalization* \n",
    "\n",
    "The decomposition of Q-functions for a policy $\\pi$ relies on an *item-wise auxiliary function* $\\overline{Q^\\pi}(s, i)$, which represents the LTV of a user consuming an item $i$. Under **RTDS**, this function is independent of the slate $a$ from which $i$ was selected. Define:\n",
    "\n",
    "$\\overline{Q^\\pi}(s, i) = R(s, i) + \\gamma \\sum_{s\\prime \\in S}P(s\\prime |s, i)V^\\pi(s\\prime)$\n",
    "\n",
    "Incorporating the **SC** assumption, the Q-value can be written as:\n",
    "\n",
    "$Q(s, a) = \\sum_{i \\in a}P(i |s, a)\\overline{Q}(s, i)$\n",
    "\n",
    "Plug this new Q-value expression into Q-Learning update rule:\n",
    "\n",
    "$\\overline{Q}(s, i)$ &larr; $\\overline{Q}(s, i) + \\alpha(r + \\gamma \\cdot max_{a\\prime \\in A}\\sum_{j \\in a\\prime}P(j |s\\prime, a\\prime)\\overline{Q}(s\\prime, j) - \\overline{Q}(s, i))$\n",
    "\n",
    "The decomposition of Q-functions circumvents the natural combinatorics of both exploration and generalization."
   ]
  },
  {
   "cell_type": "markdown",
   "metadata": {
    "id": "Tu0jMi-DJDAb"
   },
   "source": [
    "### Solution for *Optimization*\n",
    "Formulate the LTV slate optimization problem as follows:\n",
    "\n",
    "$max_{a \\subseteq I, |a| = k}\\sum_{i \\in a}P(i |s, a)\\overline{Q}(s, i)$\n",
    "\n",
    "This formulation can be solved using linear programming in polynomial time. Top-K and greedy optimizations can also be used to solve this in a shorter time with reduced gurantee of optimal solution."
   ]
  },
  {
   "cell_type": "markdown",
   "metadata": {
    "id": "aQ7qaAr4X5DW"
   },
   "source": [
    "# RecSim Overview"
   ]
  },
  {
   "cell_type": "markdown",
   "metadata": {
    "id": "xsucUyFacrXX"
   },
   "source": [
    "RecSim is a configurable platform for authoring simulation environments to allow both researchers and practitioners to challenge and extend existing reinforcement learning (RL) methods in synthetic recommender settings. \n",
    "\n",
    "![Detailed view of RecSim](https://user-images.githubusercontent.com/25628862/191278133-3f51eae8-a3bb-427c-8b26-56ef8f88a9da.png)\n",
    "\n",
    "The green and blue blocks consititute the classes that need to be implemented within a RecSim environment\n",
    "\n",
    "A single step of a RecSim simulation can be summarized roughly as follows:\n",
    "\n",
    "1.   The document database provides a corpus of *D* documents to the recommender. In a fully observable situation, the recommender observes all features of each document that impact the user's state and choice of document, but this need not be the case in general. \n",
    "2.   The recommender observes the *D* documents (and their features) together with the user's response to the last recommendation. It then makes a selection of *k* documents and presents them to the user. The ordering may or may not impact the user choice or user state, depending on our simulation goals.\n",
    "3.   The user examines the list of documents and makes a choice of one document. Note that not consuming any of the documents is also a valid choice. This leads to a transition in the user's state. Finally the user emits an observation, which the recommender observes at the next iteration. The observation generally includes (noisy) information about the user's reaction to the content and potentially clues about the user's latent state. Typically, the user's state is not fully revealed. "
   ]
  },
  {
   "cell_type": "markdown",
   "metadata": {
    "id": "EVB_tIn1ZZ4-"
   },
   "source": [
    "## Environment\n",
    "RecSim provides a set of ready-made simulation environments:\n",
    "*   ```Interest Evolution```\n",
    "*   ```Interest Exploration```\n",
    "*   ```Long Term Satisfaction```\n",
    "\n",
    "In this demo, we will use the ```Interest Evolution``` environment. This environment models the problem of active evolution of user interests. \n",
    "\n",
    "In this setting, documents are generated from *T* topics (types) such that each document belongs to exactly one topic. Each document has a inherent quality representing the topic-independent-attractiveness to the average user. On the other hand, each user has various degrees of interests in topics, ranging from -1 (completely uninterested) to 1 (fully interested). User *u*'s interest in document *d* is given by the dot product *I(u, d)* = $ud$. A user's satisfaction with a consumed document is a function of the user's interest and the document's quality. \n"
   ]
  },
  {
   "cell_type": "code",
   "execution_count": 10,
   "metadata": {
    "id": "CRQmpubRoVG2"
   },
   "outputs": [],
   "source": [
    "# Setting environment variables and sampling\n",
    "np.random.seed(0)\n",
    "env_config = {\n",
    "  'num_candidates': 10,  # Number of docs to choose from\n",
    "  'slate_size': 3,\n",
    "  'resample_documents': True,\n",
    "  'seed': 0,\n",
    "  }\n",
    "ie_environment = interest_exploration.create_environment(env_config)\n",
    "initial_observation = ie_environment.reset()"
   ]
  },
  {
   "cell_type": "markdown",
   "metadata": {
    "id": "86t9Rd3Xn_JU"
   },
   "source": [
    "## Observations\n",
    "A RecSim observation is a dictionary with 3 keys:\n",
    "\n",
    "* ```user```, which represent the 'User Observable Features' in the structure diagram above,\n",
    "* ```doc```, containing the current corpus of recommendable videos and their observable features ('Document Observable Features'),\n",
    "* ```response```, indicating the user's response to the last slate of recommendations ('User Response'). "
   ]
  },
  {
   "cell_type": "code",
   "execution_count": 11,
   "metadata": {
    "colab": {
     "base_uri": "https://localhost:8080/"
    },
    "id": "BsYU6o2mqLYG",
    "outputId": "2a810de9-dcf7-4536-e225-c5b5426159c6"
   },
   "outputs": [
    {
     "name": "stdout",
     "output_type": "stream",
     "text": [
      "User Observable Features\n",
      "[]\n",
      "User Response\n",
      "None\n",
      "Document Observable Features\n",
      "ID: 10 features: {'quality': array(2.02167129), 'cluster_id': 0}\n",
      "ID: 11 features: {'quality': array(1.26831938), 'cluster_id': 1}\n",
      "ID: 12 features: {'quality': array(1.04461702), 'cluster_id': 1}\n",
      "ID: 13 features: {'quality': array(1.15411087), 'cluster_id': 1}\n",
      "ID: 14 features: {'quality': array(1.18139301), 'cluster_id': 1}\n",
      "ID: 15 features: {'quality': array(1.22720163), 'cluster_id': 1}\n",
      "ID: 16 features: {'quality': array(1.29258489), 'cluster_id': 1}\n",
      "ID: 17 features: {'quality': array(1.23977078), 'cluster_id': 1}\n",
      "ID: 18 features: {'quality': array(1.46045555), 'cluster_id': 1}\n",
      "ID: 19 features: {'quality': array(2.10233425), 'cluster_id': 0}\n"
     ]
    }
   ],
   "source": [
    "# Starting observations\n",
    "print('User Observable Features')\n",
    "print(initial_observation['user'])\n",
    "print('User Response')\n",
    "print(initial_observation['response'])\n",
    "print('Document Observable Features')\n",
    "for doc_id, doc_features in initial_observation['doc'].items():\n",
    "  print('ID:', doc_id, 'features:', doc_features)"
   ]
  },
  {
   "cell_type": "markdown",
   "metadata": {
    "id": "Wq7smdtan_r3"
   },
   "source": [
    "## Create Agents\n",
    "\n"
   ]
  },
  {
   "cell_type": "code",
   "execution_count": 6,
   "metadata": {
    "id": "YdS14uuOn7ZE"
   },
   "outputs": [],
   "source": [
    "def create_slate_decomp_q_agent(sess, environment, summary_writer, eval_mode):\n",
    "    \"\"\"\n",
    "    A variant of the SlateQ learning agent that is based on Q-learning, and uses \n",
    "    linear programming for optimization both at training time and serving time \n",
    "    \"\"\"\n",
    "    kwargs = {\n",
    "        'observation_space': environment.observation_space,\n",
    "        'action_space': environment.action_space,\n",
    "        'summary_writer': summary_writer,\n",
    "        'eval_mode': eval_mode,\n",
    "    }\n",
    "    return slate_decomp_q_agent.create_agent(agent_name='slate_optimal_optimal_q', \n",
    "                                             sess=sess, \n",
    "                                             **kwargs)\n",
    "\n",
    "def create_full_slate_q_agent(sess, environment, summary_writer, eval_mode):\n",
    "    \"\"\"\n",
    "    A standard, non-decomposed Q-learning agent that treats each slate atomically\n",
    "    as a single action\n",
    "    \"\"\"\n",
    "    kwargs = {\n",
    "        'observation_space': environment.observation_space,\n",
    "        'action_space': environment.action_space,\n",
    "        'summary_writer': summary_writer,\n",
    "        'eval_mode': eval_mode,\n",
    "    }\n",
    "    return full_slate_q_agent.FullSlateQAgent(sess, **kwargs)\n",
    "\n",
    "def create_random_agent(sess, environment, summary_writer, eval_mode):\n",
    "    \"\"\"\n",
    "    An agent that recommends a random slate of documents\n",
    "    \"\"\"\n",
    "    kwargs = {\n",
    "        'action_space': environment.action_space,\n",
    "    }\n",
    "    return random_agent.RandomAgent(**kwargs)\n"
   ]
  },
  {
   "cell_type": "markdown",
   "metadata": {
    "id": "9ekHt96EMx1o"
   },
   "source": [
    "## Training and Evaluation"
   ]
  },
  {
   "cell_type": "markdown",
   "metadata": {
    "id": "SY3iY0tdNOGm"
   },
   "source": [
    "### SlateQ"
   ]
  },
  {
   "cell_type": "code",
   "execution_count": 12,
   "metadata": {
    "id": "wnrfUO8bBYDq"
   },
   "outputs": [],
   "source": [
    "%rm -rf ./results/slate_decomp"
   ]
  },
  {
   "cell_type": "code",
   "execution_count": 15,
   "metadata": {
    "id": "pfLI1Tq1rZEp"
   },
   "outputs": [],
   "source": [
    "tmp_slate_decomp_dir = './results/slate_decomp/'"
   ]
  },
  {
   "cell_type": "markdown",
   "metadata": {
    "id": "gBRKiUVFyXl3"
   },
   "source": [
    "#### Training"
   ]
  },
  {
   "cell_type": "code",
   "execution_count": null,
   "metadata": {
    "colab": {
     "base_uri": "https://localhost:8080/"
    },
    "id": "_b1LKyNONOVo",
    "outputId": "fffd6b03-eef7-4c48-df91-3fc009688a5b"
   },
   "outputs": [],
   "source": [
    "slate_decomp_train_runner = runner_lib.TrainRunner(\n",
    "    base_dir=tmp_slate_decomp_dir,\n",
    "    create_agent_fn=create_slate_decomp_q_agent,\n",
    "    env=interest_evolution.create_environment(env_config),\n",
    "    episode_log_file=\"\",\n",
    "    max_training_steps=50,\n",
    "    num_iterations=50)\n",
    "slate_decomp_train_runner.run_experiment()"
   ]
  },
  {
   "cell_type": "markdown",
   "metadata": {
    "id": "KZm52onYyY-h"
   },
   "source": [
    "#### Evaluation"
   ]
  },
  {
   "cell_type": "code",
   "execution_count": null,
   "metadata": {
    "id": "eVsxaPxfCEQx"
   },
   "outputs": [],
   "source": [
    "slate_decomp_eval_runner = runner_lib.EvalRunner(\n",
    "    base_dir=tmp_slate_decomp_dir,\n",
    "    create_agent_fn=create_slate_decomp_q_agent,\n",
    "    env=interest_evolution.create_environment(env_config),\n",
    "    max_eval_episodes=10,\n",
    "    test_mode=True)\n",
    "slate_decomp_eval_runner.run_experiment()"
   ]
  },
  {
   "cell_type": "markdown",
   "metadata": {
    "id": "ZOkubUK2yuyA"
   },
   "source": [
    "#### Visualization"
   ]
  },
  {
   "cell_type": "code",
   "execution_count": 46,
   "metadata": {
    "id": "HhReltVf3AXo"
   },
   "outputs": [
    {
     "name": "stdout",
     "output_type": "stream",
     "text": [
      "Average episode clicked watch time in test: 159.09039306640625\n"
     ]
    },
    {
     "data": {
      "image/png": "[encoded data removed]",
      "text/plain": [
       "<Figure size 432x288 with 1 Axes>"
      ]
     },
     "metadata": {
      "needs_background": "light"
     },
     "output_type": "display_data"
    }
   ],
   "source": [
    "slate_decomp_agent_dir = os.listdir(tmp_slate_decomp_dir)\n",
    "slate_decomp_agent_dir.sort(reverse=True)\n",
    "show_training_results(tmp_slate_decomp_dir, slate_decomp_agent_dir[0], \"clicked watch time\")\n",
    "show_eval_results(tmp_slate_decomp_dir, slate_decomp_agent_dir[1], \"clicked watch time\")"
   ]
  },
  {
   "cell_type": "markdown",
   "metadata": {
    "id": "QFgCmk572rc8"
   },
   "source": [
    "### Full Slate Q Learning"
   ]
  },
  {
   "cell_type": "code",
   "execution_count": 19,
   "metadata": {
    "id": "j6HP-cNMBcjD"
   },
   "outputs": [],
   "source": [
    "%rm -rf ./results/full_slate_q"
   ]
  },
  {
   "cell_type": "code",
   "execution_count": 20,
   "metadata": {
    "id": "D6Xljm7Vrhph"
   },
   "outputs": [],
   "source": [
    "tmp_full_slate_q_dir = './results/full_slate_q/'"
   ]
  },
  {
   "cell_type": "markdown",
   "metadata": {
    "id": "Ojxl_ZAX26wh"
   },
   "source": [
    "#### Training"
   ]
  },
  {
   "cell_type": "code",
   "execution_count": null,
   "metadata": {
    "id": "nZNkfvBZuRHV"
   },
   "outputs": [],
   "source": [
    "full_slate_q_train_runner = runner_lib.TrainRunner(\n",
    "    base_dir=tmp_full_slate_q_dir,\n",
    "    create_agent_fn=create_full_slate_q_agent,\n",
    "    env=interest_evolution.create_environment(env_config),\n",
    "    episode_log_file=\"\",\n",
    "    max_training_steps=50,\n",
    "    num_iterations=50)\n",
    "full_slate_q_train_runner.run_experiment()"
   ]
  },
  {
   "cell_type": "markdown",
   "metadata": {
    "id": "NNfKmHbxylEr"
   },
   "source": [
    "#### Evaluation"
   ]
  },
  {
   "cell_type": "code",
   "execution_count": null,
   "metadata": {
    "id": "oxAkFQxMzIsz"
   },
   "outputs": [],
   "source": [
    "full_slate_q_eval_runner = runner_lib.EvalRunner(\n",
    "    base_dir=tmp_full_slate_q_dir,\n",
    "    create_agent_fn=create_full_slate_q_agent,\n",
    "    env=interest_evolution.create_environment(env_config),\n",
    "    max_eval_episodes=10,\n",
    "    test_mode=True)\n",
    "full_slate_q_eval_runner.run_experiment()"
   ]
  },
  {
   "cell_type": "markdown",
   "metadata": {
    "id": "qbZonJvuztNa"
   },
   "source": [
    "#### Visualization"
   ]
  },
  {
   "cell_type": "code",
   "execution_count": 23,
   "metadata": {
    "id": "5WORMJ9Kz_Fb"
   },
   "outputs": [
    {
     "name": "stdout",
     "output_type": "stream",
     "text": [
      "Average episode total number of clicks in test: 157.3602294921875\n"
     ]
    },
    {
     "data": {
      "image/png": "[encoded data removed]",
      "text/plain": [
       "<Figure size 432x288 with 1 Axes>"
      ]
     },
     "metadata": {
      "needs_background": "light"
     },
     "output_type": "display_data"
    }
   ],
   "source": [
    "full_slate_q_agent_dir = os.listdir(tmp_full_slate_q_dir)\n",
    "full_slate_q_agent_dir.sort(reverse=True)\n",
    "show_training_results(tmp_full_slate_q_dir, full_slate_q_agent_dir[0], \"total number of clicks\")\n",
    "show_eval_results(tmp_full_slate_q_dir, full_slate_q_agent_dir[1], \"total number of clicks\")"
   ]
  },
  {
   "cell_type": "markdown",
   "metadata": {
    "id": "2APuDKATcJBG"
   },
   "source": [
    "### Random"
   ]
  },
  {
   "cell_type": "code",
   "execution_count": null,
   "metadata": {
    "id": "EIeddVF9cgO0"
   },
   "outputs": [],
   "source": [
    "%rm -rf ./results/random"
   ]
  },
  {
   "cell_type": "code",
   "execution_count": 24,
   "metadata": {
    "id": "UBLpxqriarD2"
   },
   "outputs": [],
   "source": [
    "tmp_random_dir = './results/random/'"
   ]
  },
  {
   "cell_type": "markdown",
   "metadata": {
    "id": "NMUgIyi_cLvo"
   },
   "source": [
    "#### Training"
   ]
  },
  {
   "cell_type": "code",
   "execution_count": null,
   "metadata": {
    "id": "MKyAMHaKceMR"
   },
   "outputs": [],
   "source": [
    "random_train_runner = runner_lib.TrainRunner(\n",
    "    base_dir=tmp_random_dir,\n",
    "    create_agent_fn=create_random_agent,\n",
    "    env=interest_evolution.create_environment(env_config),\n",
    "    episode_log_file=\"\",\n",
    "    max_training_steps=50,\n",
    "    num_iterations=50)\n",
    "random_train_runner.run_experiment()"
   ]
  },
  {
   "cell_type": "markdown",
   "metadata": {
    "id": "uC7ykp04cQz-"
   },
   "source": [
    "#### Evaluation"
   ]
  },
  {
   "cell_type": "code",
   "execution_count": null,
   "metadata": {
    "id": "vk4UrjAfcetx"
   },
   "outputs": [],
   "source": [
    "random_eval_runner = runner_lib.EvalRunner(\n",
    "    base_dir=tmp_random_dir,\n",
    "    create_agent_fn=create_random_agent,\n",
    "    env=interest_evolution.create_environment(env_config),\n",
    "    max_eval_episodes=10,\n",
    "    test_mode=True)\n",
    "random_eval_runner.run_experiment()"
   ]
  },
  {
   "cell_type": "markdown",
   "metadata": {
    "id": "dD2DKYNMcafV"
   },
   "source": [
    "#### Visualization"
   ]
  },
  {
   "cell_type": "code",
   "execution_count": 27,
   "metadata": {
    "id": "ar_Y81NncfHq"
   },
   "outputs": [
    {
     "name": "stdout",
     "output_type": "stream",
     "text": [
      "Average episode total number of clicks in test: 154.5304412841797\n"
     ]
    },
    {
     "data": {
      "image/png": "[encoded data removed]",
      "text/plain": [
       "<Figure size 432x288 with 1 Axes>"
      ]
     },
     "metadata": {
      "needs_background": "light"
     },
     "output_type": "display_data"
    }
   ],
   "source": [
    "random_agent_dir = os.listdir(tmp_random_dir)\n",
    "random_agent_dir.sort(reverse=True)\n",
    "show_training_results(tmp_random_dir, random_agent_dir[0], \"total number of clicks\")\n",
    "show_eval_results(tmp_random_dir, random_agent_dir[1], \"total number of clicks\")"
   ]
  },
  {
   "cell_type": "markdown",
   "metadata": {
    "id": "byBSOSm7cy7M"
   },
   "source": [
    "# Customize RecSim Environment\n",
    "\n",
    "This customized environment depicts a situation in which a user of an online service interacts with items of content, which are characterized by their level of clickbaitiness (on a scale of 0 to 1). We'll refer to clickbaity items as choclate, and non-clickbaity items as kale. In particular, clickbaity items (choclatey) generate engagement, but lead to decrease in long-term satisfaction. Non-clickbaity items (kaley) increase satisfaction but do not generate as much engagement. \n",
    "\n",
    "A user's latent state consists of a 1-dimensional *satisfaction* variable. Each time a more \"kaley\" document is consumed, that variable tends to increase, and conversely, a chocolatey document tends to decrease satisfaction. Upon consumption of a document, the user emits some (stochastic) measure of engagement (say, the watch-time of a video). The magnitude of the expected engagement is proportional to the user's satisfaction and inversely proportional to the kaleness of the video.\n",
    "\n",
    "The goal is to balance the two in order to achieve some long-term optimal trade-off."
   ]
  },
  {
   "cell_type": "markdown",
   "metadata": {
    "id": "R89FELzhWAm9"
   },
   "source": [
    "## Document Model\n",
    "The RecSim document model requires the following components\n",
    "* a document template \n",
    "* a document sampler"
   ]
  },
  {
   "cell_type": "markdown",
   "metadata": {
    "id": "GcSuL9_KFG7v"
   },
   "source": [
    "### Document Template\n",
    "A RecSim document template serves as the main unit of exchange between the document model, agent, and user. A document class implementation is essentially a container for the unobservable and observable features of the underlying document. The base class requires the implementation of an observation_space() static method, declaring the format of the document observable features as an OpenAI gym space, and a create_observation function, which returns a realization of said space. Also, each document must have a unique integer ID.\n",
    "\n",
    "In our case, documents have only one feature, which is their kaleness value, represented as a 1-dimensional spaces.Box (i.e., numpy array of size 1)."
   ]
  },
  {
   "cell_type": "code",
   "execution_count": 28,
   "metadata": {
    "id": "6xkVa27gWAS3"
   },
   "outputs": [],
   "source": [
    "class LTSDocument(document.AbstractDocument):\n",
    "  def __init__(self, doc_id, kaleness):\n",
    "    self.kaleness = kaleness\n",
    "    super(LTSDocument, self).__init__(doc_id)\n",
    "\n",
    "  def create_observation(self):\n",
    "    return np.array([self.kaleness])\n",
    "\n",
    "  @staticmethod\n",
    "  def observation_space():\n",
    "    return spaces.Box(shape=(1,), dtype=np.float32, low=0.0, high=1.0)\n",
    "  \n",
    "  def __str__(self):\n",
    "    return \"Document {} with kaleness {}.\".format(self._doc_id, self.kaleness)"
   ]
  },
  {
   "cell_type": "markdown",
   "metadata": {
    "id": "NiJ9pRpZAb2W"
   },
   "source": [
    "### Document Sampler\n",
    "A document sampler is a generative distribution for documents, which will get invoked to regenerate the corpus either after every step or after every session (depending on runner_lib settings). The sample_document() function is required by the base class. It must return a document sampled from our desired distribution. \n",
    "\n",
    "In our case, it returns a document with a kaleness score sampled from a uniform distribution."
   ]
  },
  {
   "cell_type": "code",
   "execution_count": 29,
   "metadata": {
    "id": "mQjXaa69WxQw"
   },
   "outputs": [],
   "source": [
    "class LTSDocumentSampler(document.AbstractDocumentSampler):\n",
    "  def __init__(self, doc_ctor=LTSDocument, **kwargs):\n",
    "    super(LTSDocumentSampler, self).__init__(doc_ctor, **kwargs)\n",
    "    self._doc_count = 0\n",
    "\n",
    "  def sample_document(self):\n",
    "    doc_features = {}\n",
    "    doc_features['doc_id'] = self._doc_count\n",
    "    doc_features['kaleness'] = self._rng.random_sample()\n",
    "    self._doc_count += 1\n",
    "    return self._doc_ctor(**doc_features)"
   ]
  },
  {
   "cell_type": "markdown",
   "metadata": {
    "id": "Pg_D_3UmCEgH"
   },
   "source": [
    "Now we can simulate documents"
   ]
  },
  {
   "cell_type": "code",
   "execution_count": 30,
   "metadata": {
    "colab": {
     "base_uri": "https://localhost:8080/"
    },
    "id": "pqsog7DgWx3D",
    "outputId": "e58b6275-8cbf-4732-aa73-350cb207db8a"
   },
   "outputs": [
    {
     "name": "stdout",
     "output_type": "stream",
     "text": [
      "Document 0 with kaleness 0.5488135039273248.\n",
      "Document 1 with kaleness 0.7151893663724195.\n",
      "Document 2 with kaleness 0.6027633760716439.\n",
      "Document 3 with kaleness 0.5448831829968969.\n",
      "Document 4 with kaleness 0.4236547993389047.\n",
      "Documents have observation space: Box(0.0, 1.0, (1,), float32) \n",
      "An example realization is:  [0.64589411]\n"
     ]
    }
   ],
   "source": [
    "sampler = LTSDocumentSampler()\n",
    "for i in range(5): print(sampler.sample_document())\n",
    "d = sampler.sample_document()\n",
    "print(\"Documents have observation space:\", d.observation_space(), \"\\n\"\n",
    "      \"An example realization is: \", d.create_observation())"
   ]
  },
  {
   "cell_type": "markdown",
   "metadata": {
    "id": "2g4FKscFdv4H"
   },
   "source": [
    "## User Model\n",
    "The RecSim user model requires the following components:\n",
    "* a user state\n",
    "* a user sampler (a distribution over the starting state of users) \n",
    "* a user state transition model\n",
    "* a user response\n",
    "\n",
    "The user model for this demo is inpired by the tutorial from the RecSim repo, which defines the user engagement dynamics, the details are as follows:\n",
    "* each user has a feature called net kale exposure ($\\text{nke}_t$), and satisfaction ($\\text{sat}_t$). They are related via the logistic function to reflect the fact that satisfaction cannot be unbounded. Namely,\n",
    "$$\\text{sat}_t = \\sigma(\\tau\\cdot\\text{nke}_t),$$\n",
    "where $\\tau$ is a user-specific sensitivity parameter. Satisfaction and net kale exposure are bijectively related to each other, so only one is needed to keep track of state.\n",
    "* Given a slate $S$, the user chooses an item based on a multinomial logit choice model with the items' chocolateness as features: $p(\\text{user chooses }d_i \\text{ from slate }S) \\sim e^{1-\\mathrm{kaleness}(d_i)}$ (since chocolatey documents are more clicky).\n",
    "* Once the user chooses a document, the net kale exposure evolves as\n",
    "$$\\text{nke}_{t+1} = \\beta \\cdot \\text{nke}_t + 2(k_d - 1/2) + {\\cal N}(0, \\eta),$$\n",
    "where $\\beta$ is some user-specific memory discount (forgetting factor), $k_d$ is the kaleness of the chosen document and $\\eta$ is some noise standard deviation. \n",
    "* Finally, the user engages with the chosen content for $s_d$ seconds, where $s_d$ is drawn according to\n",
    "$$s_d\\sim\\log{\\cal N}(k_d\\mu_k + (1-k_d)\\mu_c, k_d\\sigma_k + (1-k_d)\\sigma_c),$$\n",
    "i.e. a log-normal distribution with parameters linearly interpolating between the pure kale response $(\\mu_k, \\sigma_k)$ and the pure choc response $(\\mu_c, \\sigma_c)$.\n",
    "\n",
    "Thus, a user state is defined by the tuple $(\\text{sat}, \\tau, \\beta, \\eta, \\mu_k, \\sigma_k, \\mu_c, \\sigma_c).$ The satisfaction variable is the only dynamic part of the state, whereas the other parameters define the user and are static. \n"
   ]
  },
  {
   "cell_type": "markdown",
   "metadata": {
    "id": "rNms1oo7FP3s"
   },
   "source": [
    "### User State\n",
    "observation_space() and create_observations() are required for AbstractUserState class. These are used to feed partial (or complete) information about the user's state to the agent at every iteration."
   ]
  },
  {
   "cell_type": "code",
   "execution_count": 31,
   "metadata": {
    "id": "E-Ir59ZheBQq"
   },
   "outputs": [],
   "source": [
    "class LTSUserState(user.AbstractUserState):\n",
    "    def __init__(self, memory_discount, sensitivity, innovation_stddev,\n",
    "                choc_mean, choc_stddev, kale_mean, kale_stddev,\n",
    "                net_kaleness_exposure, time_budget, observation_noise_stddev=0.1\n",
    "                ):\n",
    "        # Transition model parameters\n",
    "        self.memory_discount = memory_discount\n",
    "        self.sensitivity = sensitivity\n",
    "        self.innovation_stddev = innovation_stddev\n",
    "\n",
    "        # Engagement parameters\n",
    "        self.choc_mean = choc_mean\n",
    "        self.choc_stddev = choc_stddev\n",
    "        self.kale_mean = kale_mean\n",
    "        self.kale_stddev = kale_stddev\n",
    "\n",
    "        # State variables\n",
    "        self.net_kaleness_exposure = net_kaleness_exposure\n",
    "        self.satisfaction = 1 / (1 + np.exp(-sensitivity * net_kaleness_exposure))\n",
    "        self.time_budget = time_budget\n",
    "\n",
    "        # Noise\n",
    "        self._observation_noise = observation_noise_stddev\n",
    "\n",
    "    def create_observation(self):\n",
    "        \"\"\"\n",
    "        User's state is not observable.\n",
    "        \"\"\"\n",
    "        clip_low, clip_high = (-1.0 / (1.0 * self._observation_noise),\n",
    "                            1.0 / (1.0 * self._observation_noise))\n",
    "        noise = stats.truncnorm(\n",
    "            clip_low, clip_high, loc=0.0, scale=self._observation_noise).rvs()\n",
    "        noisy_sat = self.satisfaction + noise\n",
    "        return np.array([noisy_sat,])\n",
    "\n",
    "    @staticmethod\n",
    "    def observation_space():\n",
    "        return spaces.Box(shape=(1,), dtype=np.float32, low=-2.0, high=2.0)\n",
    "    \n",
    "    def score_document(self, doc_obs):\n",
    "        \"\"\"\n",
    "        Scoring function for use in the choice model -- the user is more likely \n",
    "        to click on more chocolatey content.\n",
    "        \"\"\"\n",
    "        return 1 - doc_obs"
   ]
  },
  {
   "cell_type": "markdown",
   "metadata": {
    "id": "iyyVFS1FFU5B"
   },
   "source": [
    "### User Sampler\n",
    "The User sampler is a generative distribution of the user starting states, which sets the starting user state for every session. For this demo, we will just sample the starting $\\text{nke}_0$ and keep all the static parameters the same, meaning that we essentially deal with the same user at different levels of satisfaction.\n",
    "\n",
    "Sampling code has to be implemented in sample_user(), as required by the base class."
   ]
  },
  {
   "cell_type": "code",
   "execution_count": 32,
   "metadata": {
    "id": "_B6xFrW4eB_3"
   },
   "outputs": [],
   "source": [
    "class LTSStaticUserSampler(user.AbstractUserSampler):\n",
    "  _state_parameters = None\n",
    "\n",
    "  def __init__(self,\n",
    "               user_ctor=LTSUserState,\n",
    "               memory_discount=0.9,\n",
    "               sensitivity=0.01,\n",
    "               innovation_stddev=0.05,\n",
    "               choc_mean=5.0,\n",
    "               choc_stddev=1.0,\n",
    "               kale_mean=4.0,\n",
    "               kale_stddev=1.0,\n",
    "               time_budget=60,\n",
    "               **kwargs):\n",
    "    self._state_parameters = {'memory_discount': memory_discount,\n",
    "                              'sensitivity': sensitivity,\n",
    "                              'innovation_stddev': innovation_stddev,\n",
    "                              'choc_mean': choc_mean,\n",
    "                              'choc_stddev': choc_stddev,\n",
    "                              'kale_mean': kale_mean,\n",
    "                              'kale_stddev': kale_stddev,\n",
    "                              'time_budget': time_budget\n",
    "                             }\n",
    "    super(LTSStaticUserSampler, self).__init__(user_ctor, **kwargs)\n",
    "\n",
    "  def sample_user(self):\n",
    "    starting_nke = ((self._rng.random_sample() - .5) *\n",
    "                    (1 / (1.0 - self._state_parameters['memory_discount'])))\n",
    "    self._state_parameters['net_kaleness_exposure'] = starting_nke\n",
    "    return self._user_ctor(**self._state_parameters)"
   ]
  },
  {
   "cell_type": "markdown",
   "metadata": {
    "id": "jJzL6ynMLGfq"
   },
   "source": [
    "Now we can simulate user starting states"
   ]
  },
  {
   "cell_type": "code",
   "execution_count": 33,
   "metadata": {
    "colab": {
     "base_uri": "https://localhost:8080/",
     "height": 265
    },
    "id": "lwXPw9G9eHVO",
    "outputId": "f3b58fa3-9792-4458-b630-e4205646a9ba"
   },
   "outputs": [
    {
     "data": {
      "image/png": "[encoded data removed]",
      "text/plain": [
       "<Figure size 432x288 with 1 Axes>"
      ]
     },
     "metadata": {
      "needs_background": "light"
     },
     "output_type": "display_data"
    }
   ],
   "source": [
    "sampler = LTSStaticUserSampler()\n",
    "starting_nke = []\n",
    "for i in range(1000):\n",
    "    sampled_user = sampler.sample_user()\n",
    "    starting_nke.append(sampled_user.net_kaleness_exposure)\n",
    "    plt.hist(starting_nke)"
   ]
  },
  {
   "cell_type": "markdown",
   "metadata": {
    "id": "zQ3BMhSad5HO"
   },
   "source": [
    "### Response Model\n",
    "RecSim will generate one response for every recommended item in the slate. The contents of the response are what the agent will see as document-specific feedback from the recommendation."
   ]
  },
  {
   "cell_type": "code",
   "execution_count": 34,
   "metadata": {
    "id": "-fq6SX4JeMM5"
   },
   "outputs": [],
   "source": [
    "class LTSResponse(user.AbstractResponse):\n",
    "  # The maximum degree of engagement.\n",
    "  MAX_ENGAGEMENT_MAGNITUDE = 100.0\n",
    "\n",
    "  def __init__(self, clicked=False, engagement=0.0):\n",
    "    self.clicked = clicked\n",
    "    self.engagement = engagement\n",
    "\n",
    "  def create_observation(self):\n",
    "    return {'click': int(self.clicked), 'engagement': np.array(self.engagement)}\n",
    "\n",
    "  @classmethod\n",
    "  def response_space(cls):\n",
    "    # `engagement` feature range is [0, MAX_ENGAGEMENT_MAGNITUDE]\n",
    "    return spaces.Dict({\n",
    "        'click':\n",
    "            spaces.Discrete(2),\n",
    "        'engagement':\n",
    "            spaces.Box(\n",
    "                low=0.0,\n",
    "                high=cls.MAX_ENGAGEMENT_MAGNITUDE,\n",
    "                shape=tuple(),\n",
    "                dtype=np.float32)\n",
    "    })"
   ]
  },
  {
   "cell_type": "markdown",
   "metadata": {
    "id": "4Nh78FtNGSaP"
   },
   "source": [
    "### User State Transition Model\n",
    "A RecSim user model (deriving from recsim.user.AbstractUserModel) is responsible for \n",
    "* maintaining user state, \n",
    "* evolving user state as a result of recommendations,\n",
    "* generating a response to a slate of recommendations.\n",
    "\n",
    "The user model is required by the base class to implement update_state(), simulate_response(), and is_terminal(). "
   ]
  },
  {
   "cell_type": "code",
   "execution_count": 35,
   "metadata": {
    "id": "QOjAnTu_eSLf"
   },
   "outputs": [],
   "source": [
    "class LTSUserModel(user.AbstractUserModel):\n",
    "    def __init__(self, slate_size, seed=0):\n",
    "        super().__init__(\n",
    "            LTSResponse, \n",
    "            LTSStaticUserSampler(LTSUserState, seed=seed), \n",
    "            slate_size)\n",
    "        self.choice_model = MultinomialLogitChoiceModel({})\n",
    "\n",
    "    def simulate_response(self, slate_documents):\n",
    "        \"\"\"\n",
    "        Takes in a slate (list) of recommended LTSDocuments and must output a \n",
    "        slate of user responses. The k-th response in the slate of responses \n",
    "        corresponds to the k-th document in the recommendation slate\n",
    "        \"\"\"\n",
    "        # List of empty responses\n",
    "        responses = [self._response_model_ctor() for _ in slate_documents]\n",
    "        # Get click from of choice model.\n",
    "        self.choice_model.score_documents(\n",
    "            self._user_state, [doc.create_observation() for doc in slate_documents])\n",
    "        scores = self.choice_model.scores\n",
    "        selected_index = self.choice_model.choose_item()\n",
    "        # Populate clicked item.\n",
    "        self._generate_response(slate_documents[selected_index],\n",
    "                                responses[selected_index])\n",
    "        return responses\n",
    "\n",
    "    def _generate_response(self, doc, response):\n",
    "        response.clicked = True\n",
    "        # linear interpolation between choc and kale.\n",
    "        engagement_loc = (doc.kaleness * self._user_state.choc_mean\n",
    "                            + (1 - doc.kaleness) * self._user_state.kale_mean)\n",
    "        engagement_loc *= self._user_state.satisfaction\n",
    "        engagement_scale = (doc.kaleness * self._user_state.choc_stddev\n",
    "                            + ((1 - doc.kaleness)\n",
    "                                * self._user_state.kale_stddev))\n",
    "        log_engagement = np.random.normal(loc=engagement_loc,\n",
    "                                            scale=engagement_scale)\n",
    "        response.engagement = np.exp(log_engagement)\n",
    "\n",
    "    def update_state(self, slate_documents, responses):\n",
    "        \"\"\"\n",
    "        Consumes the recommended slate, as well as the actual choices (responses) \n",
    "        to induce a state transition\n",
    "        \"\"\"\n",
    "        for doc, response in zip(slate_documents, responses):\n",
    "            if response.clicked:\n",
    "                innovation = np.random.normal(scale=self._user_state.innovation_stddev)\n",
    "                net_kaleness_exposure = (self._user_state.memory_discount\n",
    "                                            * self._user_state.net_kaleness_exposure\n",
    "                                            - 2.0 * (doc.kaleness - 0.5)\n",
    "                                            + innovation\n",
    "                                        )\n",
    "                self._user_state.net_kaleness_exposure = net_kaleness_exposure\n",
    "                satisfaction = 1 / (1.0 + np.exp(-self._user_state.sensitivity\n",
    "                                                    * net_kaleness_exposure)\n",
    "                                    )\n",
    "                self._user_state.satisfaction = satisfaction\n",
    "                self._user_state.time_budget -= 1\n",
    "                return\n",
    "\n",
    "    def is_terminal(self):\n",
    "        \"\"\"\n",
    "        Returns a boolean indicating if the session is over.\n",
    "        \"\"\"\n",
    "        return self._user_state.time_budget <= 0"
   ]
  },
  {
   "cell_type": "markdown",
   "metadata": {
    "id": "XqHo9qV6MvrK"
   },
   "source": [
    "## Reward Function\n",
    "\n",
    "To complete the RL environment, we also need a reward function. In RecSim, the reward function maps a set of responses to a real number. Since this environment is designed to maximize long term user satisfaction, let's set the reward function to the engagement time of the clicked documents."
   ]
  },
  {
   "cell_type": "code",
   "execution_count": 36,
   "metadata": {
    "id": "jxibg0IpNVwh"
   },
   "outputs": [],
   "source": [
    "def clicked_engagement_reward(responses):\n",
    "    \"\"\"\n",
    "    Calculates the total clicked watchtime from a list of responses\n",
    "    \"\"\"\n",
    "    reward = 0\n",
    "    for response in responses:\n",
    "        if response.clicked:\n",
    "            reward += response.engagement\n",
    "    return reward"
   ]
  },
  {
   "cell_type": "markdown",
   "metadata": {
    "id": "7_DOsPH4CYUS"
   },
   "source": [
    "## Customized Environment\n",
    "We now have defined all the components needed for a customized environment"
   ]
  },
  {
   "cell_type": "code",
   "execution_count": 37,
   "metadata": {
    "id": "InjkXiy3JxD5"
   },
   "outputs": [],
   "source": [
    "def create_customized_env(env_config):\n",
    "    \"\"\"\n",
    "    Creates the customized environment\n",
    "    \"\"\"\n",
    "    lts_environment = environment.SingleUserEnvironment(\n",
    "        LTSUserModel(\n",
    "            env_config[\"slate_size\"], \n",
    "            env_config[\"seed\"]),\n",
    "        LTSDocumentSampler(),\n",
    "        env_config[\"num_candidates\"],\n",
    "        env_config[\"slate_size\"],\n",
    "        resample_documents=env_config[\"resample_documents\"])\n",
    "    return recsim_gym.RecSimGymEnv(lts_environment, clicked_engagement_reward)"
   ]
  },
  {
   "cell_type": "markdown",
   "metadata": {
    "id": "IM_ECT6ORXSK"
   },
   "source": [
    "### Observations"
   ]
  },
  {
   "cell_type": "code",
   "execution_count": 38,
   "metadata": {
    "id": "J2f3yUjo7a1Q"
   },
   "outputs": [],
   "source": [
    "env_config = {\n",
    "  'num_candidates': 10,  # Number of docs to choose from\n",
    "  'slate_size': 3,\n",
    "  'resample_documents': True,\n",
    "  'seed': 0,\n",
    "  }"
   ]
  },
  {
   "cell_type": "code",
   "execution_count": 39,
   "metadata": {
    "id": "m8WvSpEC4Xw4"
   },
   "outputs": [],
   "source": [
    "lts_gym_env = create_customized_env(env_config)\n",
    "initial_observation = lts_gym_env.reset()"
   ]
  },
  {
   "cell_type": "code",
   "execution_count": 40,
   "metadata": {
    "colab": {
     "base_uri": "https://localhost:8080/"
    },
    "id": "fDAmbF6x5j-2",
    "outputId": "ead74a60-2031-475f-d2ab-5aaa98ca96c9"
   },
   "outputs": [
    {
     "name": "stdout",
     "output_type": "stream",
     "text": [
      "User Observable Features\n",
      "[0.43092451]\n",
      "User Response\n",
      "None\n",
      "Document Observable Features\n",
      "ID: 10 features: [0.79172504]\n",
      "ID: 11 features: [0.52889492]\n",
      "ID: 12 features: [0.56804456]\n",
      "ID: 13 features: [0.92559664]\n",
      "ID: 14 features: [0.07103606]\n",
      "ID: 15 features: [0.0871293]\n",
      "ID: 16 features: [0.0202184]\n",
      "ID: 17 features: [0.83261985]\n",
      "ID: 18 features: [0.77815675]\n",
      "ID: 19 features: [0.87001215]\n"
     ]
    }
   ],
   "source": [
    "print('User Observable Features')\n",
    "print(initial_observation['user'])\n",
    "print('User Response')\n",
    "print(initial_observation['response'])\n",
    "print('Document Observable Features')\n",
    "for doc_id, doc_features in initial_observation['doc'].items():\n",
    "  print('ID:', doc_id, 'features:', doc_features)"
   ]
  },
  {
   "cell_type": "code",
   "execution_count": 41,
   "metadata": {
    "colab": {
     "base_uri": "https://localhost:8080/"
    },
    "id": "1UPAicRl6A8b",
    "outputId": "8a556119-7bb0-4c3f-8ca5-df5134355747"
   },
   "outputs": [
    {
     "name": "stdout",
     "output_type": "stream",
     "text": [
      "Observation 0\n",
      "Available documents\n",
      "doc_id 10 kaleness [0.79172504]\n",
      "doc_id 11 kaleness [0.52889492]\n",
      "doc_id 12 kaleness [0.56804456]\n",
      "doc_id 13 kaleness [0.92559664]\n",
      "doc_id 14 kaleness [0.07103606]\n",
      "doc_id 15 kaleness [0.0871293]\n",
      "doc_id 16 kaleness [0.0202184]\n",
      "doc_id 17 kaleness [0.83261985]\n",
      "doc_id 18 kaleness [0.77815675]\n",
      "doc_id 19 kaleness [0.87001215]\n",
      "Noisy user state observation\n",
      "[0.43092451]\n",
      "Observation 1\n",
      "Available documents\n",
      "doc_id 20 kaleness [0.97861834]\n",
      "doc_id 21 kaleness [0.79915856]\n",
      "doc_id 22 kaleness [0.46147936]\n",
      "doc_id 23 kaleness [0.78052918]\n",
      "doc_id 24 kaleness [0.11827443]\n",
      "doc_id 25 kaleness [0.63992102]\n",
      "doc_id 26 kaleness [0.14335329]\n",
      "doc_id 27 kaleness [0.94466892]\n",
      "doc_id 28 kaleness [0.52184832]\n",
      "doc_id 29 kaleness [0.41466194]\n",
      "User responses to documents in the slate\n",
      "{'click': 1, 'engagement': array(10.14002554)}\n",
      "{'click': 0, 'engagement': array(0.)}\n",
      "{'click': 0, 'engagement': array(0.)}\n",
      "Noisy user state observation\n",
      "[0.50000291]\n"
     ]
    }
   ],
   "source": [
    "print('Observation 0')\n",
    "print('Available documents')\n",
    "doc_strings = ['doc_id ' + key + \" kaleness \" + str(value) for key, value\n",
    "               in initial_observation['doc'].items()]\n",
    "print('\\n'.join(doc_strings))\n",
    "print('Noisy user state observation')\n",
    "print(initial_observation['user'])\n",
    "# Agent recommends the first three documents.\n",
    "recommendation_slate_0 = [0, 1, 2]\n",
    "observation_1, reward, done, _ = lts_gym_env.step(recommendation_slate_0)\n",
    "print('Observation 1')\n",
    "print('Available documents')\n",
    "doc_strings = ['doc_id ' + key + \" kaleness \" + str(value) for key, value\n",
    "               in observation_1['doc'].items()]\n",
    "print('\\n'.join(doc_strings))\n",
    "rsp_strings = [str(response) for response in observation_1['response']]\n",
    "print('User responses to documents in the slate')\n",
    "print('\\n'.join(rsp_strings))\n",
    "print('Noisy user state observation')\n",
    "print(observation_1['user'])"
   ]
  },
  {
   "cell_type": "markdown",
   "metadata": {
    "id": "l6vmO6NbSe4A"
   },
   "source": [
    "### Train and Evaluate a SlateQ Agent "
   ]
  },
  {
   "cell_type": "code",
   "execution_count": 42,
   "metadata": {
    "id": "--pKnpC0yjBC"
   },
   "outputs": [],
   "source": [
    "%rm -rf ./results/custom_env/\n",
    "tmp_custom_env_dir = './results/custom_env/'"
   ]
  },
  {
   "cell_type": "markdown",
   "metadata": {
    "id": "pCfpWaIChlne"
   },
   "source": [
    "#### Training"
   ]
  },
  {
   "cell_type": "code",
   "execution_count": null,
   "metadata": {
    "colab": {
     "base_uri": "https://localhost:8080/"
    },
    "id": "qQVQkMO36XII",
    "outputId": "2eb10e9f-ba92-4ad5-f5c0-cc97b0372643"
   },
   "outputs": [],
   "source": [
    "runner = runner_lib.TrainRunner(\n",
    "    base_dir=tmp_custom_env_dir,\n",
    "    create_agent_fn=create_full_slate_q_agent,\n",
    "    env=create_customized_env(env_config),\n",
    "    episode_log_file=\"\",\n",
    "    max_training_steps=50,\n",
    "    num_iterations=50)\n",
    "runner.run_experiment()"
   ]
  },
  {
   "cell_type": "markdown",
   "metadata": {
    "id": "q1g1nKq8hneU"
   },
   "source": [
    "#### Evaluation"
   ]
  },
  {
   "cell_type": "code",
   "execution_count": null,
   "metadata": {
    "id": "oLztjHx36rmr"
   },
   "outputs": [],
   "source": [
    "runner = runner_lib.EvalRunner(\n",
    "    base_dir=tmp_custom_env_dir,\n",
    "    create_agent_fn=create_full_slate_q_agent,\n",
    "    env=create_customized_env(env_config),\n",
    "    max_eval_episodes=10,\n",
    "    test_mode=True)\n",
    "runner.run_experiment()"
   ]
  },
  {
   "cell_type": "markdown",
   "metadata": {
    "id": "AEwmOVjRhqR7"
   },
   "source": [
    "#### Visualization"
   ]
  },
  {
   "cell_type": "code",
   "execution_count": 45,
   "metadata": {
    "colab": {
     "base_uri": "https://localhost:8080/",
     "height": 350
    },
    "id": "9U4-m_4uXF3Y",
    "outputId": "a0827084-2913-488a-94e9-a2fe6767bc3a"
   },
   "outputs": [
    {
     "name": "stdout",
     "output_type": "stream",
     "text": [
      "Average episode clicked watch time in test: 923.5245971679688\n"
     ]
    },
    {
     "data": {
      "image/png": "[encoded data removed]",
      "text/plain": [
       "<Figure size 432x288 with 1 Axes>"
      ]
     },
     "metadata": {
      "needs_background": "light"
     },
     "output_type": "display_data"
    }
   ],
   "source": [
    "slate_q_custom_env_agent_dir = os.listdir(tmp_custom_env_dir)\n",
    "slate_q_custom_env_agent_dir.sort()\n",
    "show_training_results(tmp_custom_env_dir, slate_q_custom_env_agent_dir[1], \"clicked watch time\")\n",
    "show_eval_results(tmp_custom_env_dir, slate_q_custom_env_agent_dir[0], \"clicked watch time\")"
   ]
  }
 ],
 "metadata": {
  "colab": {
   "collapsed_sections": [],
   "provenance": [],
   "toc_visible": true
  },
  "kernelspec": {
   "display_name": "Python 3 (ipykernel)",
   "language": "python",
   "name": "python3"
  },
  "language_info": {
   "codemirror_mode": {
    "name": "ipython",
    "version": 3
   },
   "file_extension": ".py",
   "mimetype": "text/x-python",
   "name": "python",
   "nbconvert_exporter": "python",
   "pygments_lexer": "ipython3",
   "version": "3.9.12"
  }
 },
 "nbformat": 4,
 "nbformat_minor": 1
}
