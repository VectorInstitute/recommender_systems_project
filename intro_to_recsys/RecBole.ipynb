{
  "nbformat": 4,
  "nbformat_minor": 0,
  "metadata": {
    "colab": {
      "provenance": []
    },
    "kernelspec": {
      "name": "python3",
      "display_name": "Python 3"
    },
    "language_info": {
      "name": "python"
    }
  },
  "cells": [
    {
      "cell_type": "markdown",
      "source": [
        "##Introduction to RecBole:\n",
        "\n",
        "In this notebook, we will indtroduce RecBole, a comprehensive library for recommender systems that includes implementations of several well-knwon recommenders from various categories and can be quite useful for you in your experimentations and studies. \n",
        "\n",
        "RecBole is developed based on Python and PyTorch for reproducing and developing recommendation algorithms in a unified, comprehensive and efficient framework for research purpose. It can be installed from pip, conda and source, and easy to use.\n",
        "\n",
        "Let's get acquainted with different capabilities of RecBole one by one. First things first, let's install RecBole using \"pip\":"
      ],
      "metadata": {
        "id": "oDv-xj-Mg79Q"
      }
    },
    {
      "cell_type": "code",
      "execution_count": null,
      "metadata": {
        "id": "ycjcLOGkFXu8"
      },
      "outputs": [],
      "source": [
        "!pip install recbole"
      ]
    },
    {
      "cell_type": "markdown",
      "source": [
        "We also cover how you can use [Ray](https://docs.ray.io/en/latest/), an outstanding library used for several useful machine learning tasks, for performing hyperparameter tuning together with RecBole. Please note that even if you don't want to use Ray for hyperparameter tuning with RecBole, since some of the py files forming RecBole import this package, if you don't install it you might encounter ugly errors. To avoid this, we recommend installing Ray and trying to use this handy framework. "
      ],
      "metadata": {
        "id": "Vazi5l89hkEx"
      }
    },
    {
      "cell_type": "code",
      "source": [
        "!pip install ray"
      ],
      "metadata": {
        "id": "yDR5X26S5VdU"
      },
      "execution_count": null,
      "outputs": []
    },
    {
      "cell_type": "markdown",
      "source": [
        "Next, we need to import the necessary packages from RecBole and also import torch. Note that here, we are importing all general recommenders in recbole which might not be the most efficient approach, but since we want to explore several models, we almost need them all."
      ],
      "metadata": {
        "id": "OUZB3S1LijJP"
      }
    },
    {
      "cell_type": "code",
      "source": [
        "from logging import getLogger\n",
        "from recbole.config import Config\n",
        "from recbole.data import create_dataset, data_preparation\n",
        "from recbole.model import general_recommender\n",
        "from recbole.trainer import Trainer\n",
        "from recbole.utils import init_seed, init_logger\n",
        "from recbole.utils import get_model, get_trainer\n",
        "import torch"
      ],
      "metadata": {
        "id": "wCMQ_FyZGDhp"
      },
      "execution_count": 6,
      "outputs": []
    },
    {
      "cell_type": "markdown",
      "source": [
        "in order to train a recommender model using recbole, you should specify the name of the model that you want to train, and the dataset on which you want to train the model. Next, you pass this config to \"create_dataset\" function to obtain a preprocessed dataset which will then be split using the \"data_preparation\" function. Finally, using the \"get_model\" method, by passing the train split of the dataset and the configurations, you make a model object. By passing the obtained model and config to the \"get_trainer\" method, you can construct a trainer object, and calling the \"fit\" method of this object, training process takes place. The function outputs the best validation score based on your metric of interest specified in the config dictionary, as well as the validation result which is a more comprehensive dictionary including more evaluation metrics evaluated on the validation split."
      ],
      "metadata": {
        "id": "sdnkVo_Fl0SG"
      }
    },
    {
      "cell_type": "code",
      "source": [
        "# configurations initialization\n",
        "device = torch.device('cuda' if torch.cuda.is_available() else 'cpu')\n",
        "\n",
        "config = Config(model='EASE', dataset='ml-100k')\n",
        "\n",
        "# init random seed\n",
        "init_seed(config['seed'], config['reproducibility'])\n",
        "\n",
        "# logger initialization\n",
        "init_logger(config)\n",
        "logger = getLogger()\n",
        "\n",
        "# write config info into log\n",
        "logger.info(config)\n",
        "\n",
        "# dataset creating and filtering\n",
        "dataset = create_dataset(config)\n",
        "logger.info(dataset)\n",
        "\n",
        "# dataset splitting\n",
        "train_data, valid_data, test_data = data_preparation(config, dataset)\n",
        "\n",
        "# model loading and initialization\n",
        "\n",
        "model = get_model(config['model'])(config, train_data.dataset).to(config['device'])\n",
        "logger.info(model)\n",
        "\n",
        "# trainer loading and initialization\n",
        "trainer = get_trainer(config['MODEL_TYPE'], config['model'])(config, model)\n",
        "\n",
        "# model training\n",
        "best_valid_score, best_valid_result = trainer.fit(train_data, valid_data)\n",
        "\n",
        "\n",
        "print(best_valid_score)\n",
        "print(best_valid_result)\n"
      ],
      "metadata": {
        "colab": {
          "base_uri": "https://localhost:8080/"
        },
        "id": "e0QYg2FETThQ",
        "outputId": "eff0dc38-a1fc-4ce9-9aaa-5112f33dd945"
      },
      "execution_count": 8,
      "outputs": [
        {
          "output_type": "stream",
          "name": "stdout",
          "text": [
            "0.4201\n",
            "OrderedDict([('recall@10', 0.2389), ('mrr@10', 0.4201), ('ndcg@10', 0.2563), ('hit@10', 0.7847), ('precision@10', 0.1755)])\n"
          ]
        }
      ]
    },
    {
      "cell_type": "markdown",
      "source": [
        "By calling the \"evaluate\" method on the trainer object and passing in the test split of your dataset, you can obtain the test results."
      ],
      "metadata": {
        "id": "zTbCRYRenB5c"
      }
    },
    {
      "cell_type": "code",
      "source": [
        "# model evaluation\n",
        "test_result = trainer.evaluate(test_data)\n",
        "print(test_result)"
      ],
      "metadata": {
        "colab": {
          "base_uri": "https://localhost:8080/"
        },
        "id": "WxsgnJeLUQ0Z",
        "outputId": "1de12b33-a55e-47ec-ef31-497b912d0324"
      },
      "execution_count": null,
      "outputs": [
        {
          "output_type": "stream",
          "name": "stdout",
          "text": [
            "OrderedDict([('recall@10', 0.2805), ('mrr@10', 0.5277), ('ndcg@10', 0.3295), ('hit@10', 0.8197), ('precision@10', 0.2206)])\n"
          ]
        }
      ]
    },
    {
      "cell_type": "markdown",
      "source": [
        "Now, let's specify a different model and experiment with it. As stated earlier, if you want to change the trained model, all you have to do is to specify a different value for the \"model\" key in your config dictionary. You can view a list of implemented models in the [RecBole](https://recbole.io/model_list.html) docs. Just make sure you are using the right model for your task of interest. There are four categories of models that recbole supports: general recommendation, sequential recommendation, context-aware recommendation and knowledge-based recommendation."
      ],
      "metadata": {
        "id": "rQQFTxpmnNBg"
      }
    },
    {
      "cell_type": "code",
      "source": [
        "config = Config(model='BPR', dataset='ml-100k')\n",
        "dataset = create_dataset(config)\n",
        "train_data, valid_data, test_data = data_preparation(config, dataset)\n",
        "model = get_model(config['model'])(config, train_data.dataset).to(config['device'])\n",
        "logger.info(model)\n",
        "# trainer loading and initialization\n",
        "trainer = get_trainer(config['MODEL_TYPE'], config['model'])(config, model)\n",
        "\n",
        "# model training\n",
        "best_valid_score, best_valid_result = trainer.fit(train_data, valid_data)\n",
        "\n",
        "\n",
        "print(best_valid_score)\n",
        "print(best_valid_result)\n"
      ],
      "metadata": {
        "colab": {
          "base_uri": "https://localhost:8080/"
        },
        "id": "sE9MFGZ4VBEF",
        "outputId": "e8928078-a71d-4bdb-9cf6-0997db9dd510"
      },
      "execution_count": null,
      "outputs": [
        {
          "output_type": "stream",
          "name": "stdout",
          "text": [
            "0.3993\n",
            "OrderedDict([('recall@10', 0.2207), ('mrr@10', 0.3993), ('ndcg@10', 0.2369), ('hit@10', 0.7582), ('precision@10', 0.1582)])\n"
          ]
        }
      ]
    },
    {
      "cell_type": "code",
      "source": [
        "test_result = trainer.evaluate(test_data)\n",
        "print(test_result)"
      ],
      "metadata": {
        "id": "DkligRTpAZ6h",
        "colab": {
          "base_uri": "https://localhost:8080/"
        },
        "outputId": "3c4e71cb-cb9c-4334-cd27-b157198ec729"
      },
      "execution_count": null,
      "outputs": [
        {
          "output_type": "stream",
          "name": "stdout",
          "text": [
            "OrderedDict([('recall@10', 0.2387), ('mrr@10', 0.4477), ('ndcg@10', 0.2831), ('hit@10', 0.7561), ('precision@10', 0.1982)])\n"
          ]
        }
      ]
    },
    {
      "cell_type": "markdown",
      "source": [
        "Let's have a closer look on config object. Config gives you the list of all knobs and levers that you have to control your recommender training process."
      ],
      "metadata": {
        "id": "GDyX2f00nzjm"
      }
    },
    {
      "cell_type": "code",
      "source": [
        "config"
      ],
      "metadata": {
        "colab": {
          "base_uri": "https://localhost:8080/"
        },
        "id": "xiPeQbEcVBYh",
        "outputId": "f395062b-90ca-4554-d2da-df15e299070d"
      },
      "execution_count": null,
      "outputs": [
        {
          "output_type": "execute_result",
          "data": {
            "text/plain": [
              "\n",
              "\u001b[1;35mGeneral Hyper Parameters:\n",
              "\u001b[0m\u001b[1;36mgpu_id\u001b[0m =\u001b[1;33m 0\u001b[0m\n",
              "\u001b[1;36muse_gpu\u001b[0m =\u001b[1;33m True\u001b[0m\n",
              "\u001b[1;36mseed\u001b[0m =\u001b[1;33m 2020\u001b[0m\n",
              "\u001b[1;36mstate\u001b[0m =\u001b[1;33m INFO\u001b[0m\n",
              "\u001b[1;36mreproducibility\u001b[0m =\u001b[1;33m True\u001b[0m\n",
              "\u001b[1;36mdata_path\u001b[0m =\u001b[1;33m /usr/local/lib/python3.10/dist-packages/recbole/config/../dataset_example/ml-100k\u001b[0m\n",
              "\u001b[1;36mcheckpoint_dir\u001b[0m =\u001b[1;33m saved\u001b[0m\n",
              "\u001b[1;36mshow_progress\u001b[0m =\u001b[1;33m True\u001b[0m\n",
              "\u001b[1;36msave_dataset\u001b[0m =\u001b[1;33m False\u001b[0m\n",
              "\u001b[1;36mdataset_save_path\u001b[0m =\u001b[1;33m None\u001b[0m\n",
              "\u001b[1;36msave_dataloaders\u001b[0m =\u001b[1;33m False\u001b[0m\n",
              "\u001b[1;36mdataloaders_save_path\u001b[0m =\u001b[1;33m None\u001b[0m\n",
              "\u001b[1;36mlog_wandb\u001b[0m =\u001b[1;33m False\u001b[0m\n",
              "\n",
              "\u001b[1;35mTraining Hyper Parameters:\n",
              "\u001b[0m\u001b[1;36mepochs\u001b[0m =\u001b[1;33m 300\u001b[0m\n",
              "\u001b[1;36mtrain_batch_size\u001b[0m =\u001b[1;33m 2048\u001b[0m\n",
              "\u001b[1;36mlearner\u001b[0m =\u001b[1;33m adam\u001b[0m\n",
              "\u001b[1;36mlearning_rate\u001b[0m =\u001b[1;33m 0.001\u001b[0m\n",
              "\u001b[1;36mtrain_neg_sample_args\u001b[0m =\u001b[1;33m {'distribution': 'uniform', 'sample_num': 1, 'alpha': 1.0, 'dynamic': False, 'candidate_num': 0}\u001b[0m\n",
              "\u001b[1;36meval_step\u001b[0m =\u001b[1;33m 1\u001b[0m\n",
              "\u001b[1;36mstopping_step\u001b[0m =\u001b[1;33m 10\u001b[0m\n",
              "\u001b[1;36mclip_grad_norm\u001b[0m =\u001b[1;33m None\u001b[0m\n",
              "\u001b[1;36mweight_decay\u001b[0m =\u001b[1;33m 0.0\u001b[0m\n",
              "\u001b[1;36mloss_decimal_place\u001b[0m =\u001b[1;33m 4\u001b[0m\n",
              "\n",
              "\u001b[1;35mEvaluation Hyper Parameters:\n",
              "\u001b[0m\u001b[1;36meval_args\u001b[0m =\u001b[1;33m {'split': {'RS': [0.8, 0.1, 0.1]}, 'group_by': 'user', 'order': 'RO', 'mode': 'full'}\u001b[0m\n",
              "\u001b[1;36mrepeatable\u001b[0m =\u001b[1;33m False\u001b[0m\n",
              "\u001b[1;36mmetrics\u001b[0m =\u001b[1;33m ['Recall', 'MRR', 'NDCG', 'Hit', 'Precision']\u001b[0m\n",
              "\u001b[1;36mtopk\u001b[0m =\u001b[1;33m [10]\u001b[0m\n",
              "\u001b[1;36mvalid_metric\u001b[0m =\u001b[1;33m MRR@10\u001b[0m\n",
              "\u001b[1;36mvalid_metric_bigger\u001b[0m =\u001b[1;33m True\u001b[0m\n",
              "\u001b[1;36meval_batch_size\u001b[0m =\u001b[1;33m 4096\u001b[0m\n",
              "\u001b[1;36mmetric_decimal_place\u001b[0m =\u001b[1;33m 4\u001b[0m\n",
              "\n",
              "\u001b[1;35mDataset Hyper Parameters:\n",
              "\u001b[0m\u001b[1;36mfield_separator\u001b[0m =\u001b[1;33m \t\u001b[0m\n",
              "\u001b[1;36mseq_separator\u001b[0m =\u001b[1;33m  \u001b[0m\n",
              "\u001b[1;36mUSER_ID_FIELD\u001b[0m =\u001b[1;33m user_id\u001b[0m\n",
              "\u001b[1;36mITEM_ID_FIELD\u001b[0m =\u001b[1;33m item_id\u001b[0m\n",
              "\u001b[1;36mRATING_FIELD\u001b[0m =\u001b[1;33m rating\u001b[0m\n",
              "\u001b[1;36mTIME_FIELD\u001b[0m =\u001b[1;33m timestamp\u001b[0m\n",
              "\u001b[1;36mseq_len\u001b[0m =\u001b[1;33m None\u001b[0m\n",
              "\u001b[1;36mLABEL_FIELD\u001b[0m =\u001b[1;33m label\u001b[0m\n",
              "\u001b[1;36mthreshold\u001b[0m =\u001b[1;33m None\u001b[0m\n",
              "\u001b[1;36mNEG_PREFIX\u001b[0m =\u001b[1;33m neg_\u001b[0m\n",
              "\u001b[1;36mload_col\u001b[0m =\u001b[1;33m {'inter': ['user_id', 'item_id', 'rating', 'timestamp']}\u001b[0m\n",
              "\u001b[1;36munload_col\u001b[0m =\u001b[1;33m None\u001b[0m\n",
              "\u001b[1;36munused_col\u001b[0m =\u001b[1;33m None\u001b[0m\n",
              "\u001b[1;36madditional_feat_suffix\u001b[0m =\u001b[1;33m None\u001b[0m\n",
              "\u001b[1;36mrm_dup_inter\u001b[0m =\u001b[1;33m None\u001b[0m\n",
              "\u001b[1;36mval_interval\u001b[0m =\u001b[1;33m None\u001b[0m\n",
              "\u001b[1;36mfilter_inter_by_user_or_item\u001b[0m =\u001b[1;33m True\u001b[0m\n",
              "\u001b[1;36muser_inter_num_interval\u001b[0m =\u001b[1;33m None\u001b[0m\n",
              "\u001b[1;36mitem_inter_num_interval\u001b[0m =\u001b[1;33m None\u001b[0m\n",
              "\u001b[1;36malias_of_user_id\u001b[0m =\u001b[1;33m None\u001b[0m\n",
              "\u001b[1;36malias_of_item_id\u001b[0m =\u001b[1;33m None\u001b[0m\n",
              "\u001b[1;36malias_of_entity_id\u001b[0m =\u001b[1;33m None\u001b[0m\n",
              "\u001b[1;36malias_of_relation_id\u001b[0m =\u001b[1;33m None\u001b[0m\n",
              "\u001b[1;36mpreload_weight\u001b[0m =\u001b[1;33m None\u001b[0m\n",
              "\u001b[1;36mnormalize_field\u001b[0m =\u001b[1;33m None\u001b[0m\n",
              "\u001b[1;36mnormalize_all\u001b[0m =\u001b[1;33m True\u001b[0m\n",
              "\u001b[1;36mITEM_LIST_LENGTH_FIELD\u001b[0m =\u001b[1;33m item_length\u001b[0m\n",
              "\u001b[1;36mLIST_SUFFIX\u001b[0m =\u001b[1;33m _list\u001b[0m\n",
              "\u001b[1;36mMAX_ITEM_LIST_LENGTH\u001b[0m =\u001b[1;33m 50\u001b[0m\n",
              "\u001b[1;36mPOSITION_FIELD\u001b[0m =\u001b[1;33m position_id\u001b[0m\n",
              "\u001b[1;36mHEAD_ENTITY_ID_FIELD\u001b[0m =\u001b[1;33m head_id\u001b[0m\n",
              "\u001b[1;36mTAIL_ENTITY_ID_FIELD\u001b[0m =\u001b[1;33m tail_id\u001b[0m\n",
              "\u001b[1;36mRELATION_ID_FIELD\u001b[0m =\u001b[1;33m relation_id\u001b[0m\n",
              "\u001b[1;36mENTITY_ID_FIELD\u001b[0m =\u001b[1;33m entity_id\u001b[0m\n",
              "\u001b[1;36mkg_reverse_r\u001b[0m =\u001b[1;33m False\u001b[0m\n",
              "\u001b[1;36mentity_kg_num_interval\u001b[0m =\u001b[1;33m None\u001b[0m\n",
              "\u001b[1;36mrelation_kg_num_interval\u001b[0m =\u001b[1;33m None\u001b[0m\n",
              "\u001b[1;36mbenchmark_filename\u001b[0m =\u001b[1;33m None\u001b[0m\n",
              "\n",
              "\u001b[1;35mOther Hyper Parameters: \n",
              "\u001b[0m\u001b[1;36mworker\u001b[0m = \u001b[1;33m0\u001b[0m\n",
              "\u001b[1;36mwandb_project\u001b[0m = \u001b[1;33mrecbole\u001b[0m\n",
              "\u001b[1;36mshuffle\u001b[0m = \u001b[1;33mTrue\u001b[0m\n",
              "\u001b[1;36mrequire_pow\u001b[0m = \u001b[1;33mFalse\u001b[0m\n",
              "\u001b[1;36menable_amp\u001b[0m = \u001b[1;33mFalse\u001b[0m\n",
              "\u001b[1;36menable_scaler\u001b[0m = \u001b[1;33mFalse\u001b[0m\n",
              "\u001b[1;36mtransform\u001b[0m = \u001b[1;33mNone\u001b[0m\n",
              "\u001b[1;36membedding_size\u001b[0m = \u001b[1;33m64\u001b[0m\n",
              "\u001b[1;36mnumerical_features\u001b[0m = \u001b[1;33m[]\u001b[0m\n",
              "\u001b[1;36mdiscretization\u001b[0m = \u001b[1;33mNone\u001b[0m\n",
              "\u001b[1;36mMODEL_TYPE\u001b[0m = \u001b[1;33mModelType.GENERAL\u001b[0m\n",
              "\u001b[1;36mMODEL_INPUT_TYPE\u001b[0m = \u001b[1;33mInputType.PAIRWISE\u001b[0m\n",
              "\u001b[1;36meval_type\u001b[0m = \u001b[1;33mEvaluatorType.RANKING\u001b[0m\n",
              "\u001b[1;36msingle_spec\u001b[0m = \u001b[1;33mTrue\u001b[0m\n",
              "\u001b[1;36mlocal_rank\u001b[0m = \u001b[1;33m0\u001b[0m\n",
              "\u001b[1;36mdevice\u001b[0m = \u001b[1;33mcpu\u001b[0m\n",
              "\u001b[1;36meval_neg_sample_args\u001b[0m = \u001b[1;33m{'distribution': 'uniform', 'sample_num': 'none'}\u001b[0m\n"
            ]
          },
          "metadata": {},
          "execution_count": 7
        }
      ]
    },
    {
      "cell_type": "markdown",
      "source": [
        "You can easily try changing the default hyperparameters of the model or training process by accessing the corresponding key, value pair in the config dics. For instance, here, we will try changin the maximum number of epochs to 100, and the training batch size to 512 to see the influence on the training results."
      ],
      "metadata": {
        "id": "fPebVxUJALLG"
      }
    },
    {
      "cell_type": "code",
      "source": [
        "parameter_dict = {\n",
        "    'epochs' : 100,\n",
        "    'training_batch_size': 512\n",
        "}\n",
        "\n",
        "config = Config(model='BPR', dataset='ml-100k', config_dict=parameter_dict)\n",
        "dataset = create_dataset(config)\n",
        "train_data, valid_data, test_data = data_preparation(config, dataset)\n",
        "model = get_model(config['model'])(config, train_data.dataset).to(config['device'])\n",
        "logger.info(model)\n",
        "# trainer loading and initialization\n",
        "trainer = get_trainer(config['MODEL_TYPE'], config['model'])(config, model)\n",
        "\n",
        "# model training\n",
        "best_valid_score, best_valid_result = trainer.fit(train_data, valid_data)\n",
        "\n",
        "\n",
        "print(best_valid_score)\n",
        "print(best_valid_result)"
      ],
      "metadata": {
        "colab": {
          "base_uri": "https://localhost:8080/"
        },
        "id": "GyjbeNa9uqnQ",
        "outputId": "375ecbd7-b8d3-4e5e-a862-ca92f0b3c62d"
      },
      "execution_count": null,
      "outputs": [
        {
          "output_type": "stream",
          "name": "stdout",
          "text": [
            "0.4026\n",
            "OrderedDict([('recall@10', 0.2263), ('mrr@10', 0.4026), ('ndcg@10', 0.2411), ('hit@10', 0.7815), ('precision@10', 0.1639)])\n"
          ]
        }
      ]
    },
    {
      "cell_type": "code",
      "source": [
        "test_result = trainer.evaluate(test_data)\n",
        "print(test_result)"
      ],
      "metadata": {
        "colab": {
          "base_uri": "https://localhost:8080/"
        },
        "id": "88CsONzmAUmd",
        "outputId": "6302b0d4-f51f-4755-a8a4-85c0e9ec894a"
      },
      "execution_count": null,
      "outputs": [
        {
          "output_type": "stream",
          "name": "stdout",
          "text": [
            "OrderedDict([('recall@10', 0.2526), ('mrr@10', 0.4748), ('ndcg@10', 0.2919), ('hit@10', 0.7953), ('precision@10', 0.1998)])\n"
          ]
        }
      ]
    },
    {
      "cell_type": "markdown",
      "source": [
        "Finally, let's experiment with another model, LightGCN."
      ],
      "metadata": {
        "id": "ug6qiMYPomvO"
      }
    },
    {
      "cell_type": "code",
      "source": [
        "config = Config(model='LightGCN', dataset='ml-100k')\n",
        "dataset = create_dataset(config)\n",
        "train_data, valid_data, test_data = data_preparation(config, dataset)\n",
        "model = get_model(config['model'])(config, train_data.dataset).to(config['device'])\n",
        "logger.info(model)\n",
        "# trainer loading and initialization\n",
        "trainer = get_trainer(config['MODEL_TYPE'], config['model'])(config, model)\n",
        "\n",
        "# model training\n",
        "best_valid_score, best_valid_result = trainer.fit(train_data, valid_data)\n",
        "\n",
        "\n",
        "print(best_valid_score)\n",
        "print(best_valid_result)\n"
      ],
      "metadata": {
        "colab": {
          "base_uri": "https://localhost:8080/"
        },
        "id": "bZslGHI0gHjS",
        "outputId": "4fdcfb3e-bf29-4bd0-b8ad-3ceecef72184"
      },
      "execution_count": null,
      "outputs": [
        {
          "output_type": "stream",
          "name": "stdout",
          "text": [
            "0.4007\n",
            "OrderedDict([('recall@10', 0.2222), ('mrr@10', 0.4007), ('ndcg@10', 0.2398), ('hit@10', 0.7434), ('precision@10', 0.1613)])\n"
          ]
        }
      ]
    },
    {
      "cell_type": "code",
      "source": [
        "test_result = trainer.evaluate(test_data)\n",
        "print(test_result)"
      ],
      "metadata": {
        "colab": {
          "base_uri": "https://localhost:8080/"
        },
        "id": "Zk9SK5JdgE1E",
        "outputId": "619ebc3b-1b6a-4768-e48d-175fc4618399"
      },
      "execution_count": null,
      "outputs": [
        {
          "output_type": "stream",
          "name": "stdout",
          "text": [
            "OrderedDict([('recall@10', 0.2589), ('mrr@10', 0.4743), ('ndcg@10', 0.3004), ('hit@10', 0.7953), ('precision@10', 0.205)])\n"
          ]
        }
      ]
    },
    {
      "cell_type": "markdown",
      "source": [
        "Also, instead of changing the config dict directly by changing its values, you can pass in the hyperparameters from a pre-saved yaml file. You can see the code for this usage below, but since we aren't using it here, it's commented out.\n",
        "\n"
      ],
      "metadata": {
        "id": "JopHFx8RA-J1"
      }
    },
    {
      "cell_type": "code",
      "source": [
        "#config = Config(model='BPR', dataset='ml-100k', config_file_list=['example.yaml'], config_dict=parameter_dict)"
      ],
      "metadata": {
        "id": "Fw10J1PCArDx"
      },
      "execution_count": null,
      "outputs": []
    },
    {
      "cell_type": "markdown",
      "source": [
        "What if we want to develop a new model and want to still use RecBole for its dataset pipeline, evaluator, etc.? You can easily define your own customized model following the instructions [here](https://recbole.io/docs/developer_guide/customize_models.html). All you have to do is to inherit from the proper abstract class (if your new recommender can be taxonomized in one of the recommender taxonomies that Recbole supports) and implement the required functions in your own model class. "
      ],
      "metadata": {
        "id": "Gs9UqlAourBi"
      }
    },
    {
      "cell_type": "markdown",
      "source": [
        "# Using a New Dataset"
      ],
      "metadata": {
        "id": "hf1x3n4LDSze"
      }
    },
    {
      "cell_type": "markdown",
      "source": [
        "In order to characterize most forms of the input data required by different recommendation tasks, RecBole designs an input data format called Atomic Files and you need to convert your raw data into Atomic Files format before data loading.\n",
        "Recbole developers have created atomic files of 28 [commonly used datasets](https://recbole.io/dataset_list.html) that you can download and use them right away. "
      ],
      "metadata": {
        "id": "FrgUzDPpDsoK"
      }
    },
    {
      "cell_type": "code",
      "source": [
        "parameter_dict = {\n",
        "    'epochs' : 10,\n",
        "    'training_batch_size': 512\n",
        "}\n",
        "\n",
        "config = Config(model='EASE', dataset='ml-1m', config_dict=parameter_dict)\n",
        "dataset = create_dataset(config)\n",
        "train_data, valid_data, test_data = data_preparation(config, dataset)\n",
        "model = get_model(config['model'])(config, train_data.dataset).to(config['device'])\n",
        "logger.info(model)\n",
        "# trainer loading and initialization\n",
        "trainer = get_trainer(config['MODEL_TYPE'], config['model'])(config, model)\n",
        "\n",
        "# model training\n",
        "best_valid_score, best_valid_result = trainer.fit(train_data, valid_data)\n",
        "\n",
        "\n",
        "print(best_valid_score)\n",
        "print(best_valid_result)"
      ],
      "metadata": {
        "colab": {
          "base_uri": "https://localhost:8080/"
        },
        "id": "sLHyGDjmjUJ4",
        "outputId": "585341b8-d3c3-4fa6-c1e3-8c02a7f52921"
      },
      "execution_count": null,
      "outputs": [
        {
          "output_type": "stream",
          "name": "stdout",
          "text": [
            "0.4194\n",
            "OrderedDict([('recall@10', 0.1803), ('mrr@10', 0.4194), ('ndcg@10', 0.2393), ('hit@10', 0.7803), ('precision@10', 0.1834)])\n"
          ]
        }
      ]
    },
    {
      "cell_type": "markdown",
      "source": [
        "However, this automatic downloading tool appears to work improperly for some of the datasets that they have provided. It seems to be more proper to download the dataset files from the [recbole website](https://recbole.io/dataset_list.html), make a folder with the name \"dataset\" in your working directory, and copy the files there. "
      ],
      "metadata": {
        "id": "P4qaFw7jx6uj"
      }
    },
    {
      "cell_type": "code",
      "source": [
        "test_result = trainer.evaluate(test_data)\n",
        "print(test_result)"
      ],
      "metadata": {
        "id": "xvdPAhyQx6D1",
        "colab": {
          "base_uri": "https://localhost:8080/"
        },
        "outputId": "fc19bb69-4763-4055-8b31-93cb195ea25e"
      },
      "execution_count": null,
      "outputs": [
        {
          "output_type": "stream",
          "name": "stdout",
          "text": [
            "OrderedDict([('recall@10', 0.2049), ('mrr@10', 0.5096), ('ndcg@10', 0.3019), ('hit@10', 0.8131), ('precision@10', 0.2291)])\n"
          ]
        }
      ]
    },
    {
      "cell_type": "markdown",
      "source": [
        "Conversion of your own datasets into the format that RecBole accepts is also possible. You have to make your data follow the format indicated [here](https://recbole.io/atomic_files.html)."
      ],
      "metadata": {
        "id": "x280gQ2rpClD"
      }
    },
    {
      "cell_type": "markdown",
      "source": [
        "##Evaluation"
      ],
      "metadata": {
        "id": "v2e139z56NJ9"
      }
    },
    {
      "cell_type": "markdown",
      "source": [
        "RecBole supports most of the commonly-used ranking-based and value-based evaluation metrics. The supported ranking-based metrics include HR (hit ratio), NDCG, MRR, recall, MAP and precision, and value-based metrics include AUC, logloss, MAE and RMSE. You can specify your metrics of interest in the \"config\" object shown above. \n",
        "Currently, RecBole doesn't support beyond ranking and value metrics such as diversity, serendipity, etc. If you are interested in evaluating a model with such metrics, you can save and load the trained model and evaluate it yourself. Alternatively, you can define your own metric by creating a new metric class that inherits from the AbstractMetric class of RecBole. You can find the guidance for performing this [here](https://recbole.io/docs/developer_guide/customize_metrics.html). For more convenience, you can see how GAUC is defined by using the discussed abstraction in the line 223 of [metrcis.py](https://github.com/RUCAIBox/RecBole/blob/master/recbole/evaluator/metrics.py) source code and define your own metric class accordingly."
      ],
      "metadata": {
        "id": "jtbWcClRmVIL"
      }
    },
    {
      "cell_type": "markdown",
      "source": [
        "As an example of using different evaluation metrics available in Recbole, let's look at recall, mrr, ndcg, etc. at 1, 3 and 5 instead of 10 for the previous model. All we need to do is to specify a new 'topk' in the config dictionary. You have to be careful to also indicate a new 'valid_metric' which is the metric that RecBole uses for validation because it has to be one of the metrics that you have indicated in 'topk' list. The default value for 'valid_metric' is 'MRR@10' so, if we omit 10 from the topk list, we will encounter an error."
      ],
      "metadata": {
        "id": "WC1iNLzOvik5"
      }
    },
    {
      "cell_type": "code",
      "source": [
        "parameter_dict = {\n",
        "    'epochs' : 10,\n",
        "    'training_batch_size': 512,\n",
        "    'topk' : [1, 3, 5],\n",
        "    'valid_metric' : 'MRR@5'\n",
        "}\n",
        "\n",
        "config = Config(model='EASE', dataset='ml-1m', config_dict=parameter_dict)\n",
        "dataset = create_dataset(config)\n",
        "train_data, valid_data, test_data = data_preparation(config, dataset)\n",
        "model = get_model(config['model'])(config, train_data.dataset).to(config['device'])\n",
        "logger.info(model)\n",
        "# trainer loading and initialization\n",
        "trainer = get_trainer(config['MODEL_TYPE'], config['model'])(config, model)\n",
        "\n",
        "# model training\n",
        "best_valid_score, best_valid_result = trainer.fit(train_data, valid_data)\n",
        "\n",
        "\n",
        "print(best_valid_score)\n",
        "print(best_valid_result)"
      ],
      "metadata": {
        "id": "cB4w5oU8FMwI",
        "colab": {
          "base_uri": "https://localhost:8080/"
        },
        "outputId": "277a7f23-c259-4c3b-b92c-e18005bd3818"
      },
      "execution_count": null,
      "outputs": [
        {
          "output_type": "stream",
          "name": "stdout",
          "text": [
            "0.4045\n",
            "OrderedDict([('recall@1', 0.0312), ('recall@3', 0.0776), ('recall@5', 0.1133), ('mrr@1', 0.2623), ('mrr@3', 0.3761), ('mrr@5', 0.4045), ('ndcg@1', 0.2623), ('ndcg@3', 0.2444), ('ndcg@5', 0.238), ('hit@1', 0.2623), ('hit@3', 0.525), ('hit@5', 0.6498), ('precision@1', 0.2623), ('precision@3', 0.2341), ('precision@5', 0.2125)])\n"
          ]
        }
      ]
    },
    {
      "cell_type": "markdown",
      "source": [
        "The same applies for evaluation on the test split:"
      ],
      "metadata": {
        "id": "6D-eCDFksb-j"
      }
    },
    {
      "cell_type": "code",
      "source": [
        "test_result = trainer.evaluate(test_data)\n",
        "print(test_result)"
      ],
      "metadata": {
        "colab": {
          "base_uri": "https://localhost:8080/"
        },
        "id": "O7cYnFmCwfHl",
        "outputId": "027272b5-30c4-4f25-bf26-3b5c23744877"
      },
      "execution_count": null,
      "outputs": [
        {
          "output_type": "stream",
          "name": "stdout",
          "text": [
            "OrderedDict([('recall@1', 0.0392), ('recall@3', 0.0908), ('recall@5', 0.1293), ('mrr@1', 0.3695), ('mrr@3', 0.4653), ('mrr@5', 0.4879), ('ndcg@1', 0.3695), ('ndcg@3', 0.3268), ('ndcg@5', 0.31), ('hit@1', 0.3695), ('hit@3', 0.5876), ('hit@5', 0.6864), ('precision@1', 0.3695), ('precision@3', 0.3094), ('precision@5', 0.2749)])\n"
          ]
        }
      ]
    },
    {
      "cell_type": "markdown",
      "source": [
        "##Saving and Loading Models"
      ],
      "metadata": {
        "id": "u8EXrX8WzqmH"
      }
    },
    {
      "cell_type": "markdown",
      "source": [
        "When we run a trainer object from RecBole, it will save the best model parameters in training process and its corresponding config settings. If you want to save filtered dataset and split dataloaders, you can set parameter save_dataset and parameter save_dataloaders to True to save filtered dataset and split dataloaders. As an example, let us save the split datasets in the above example."
      ],
      "metadata": {
        "id": "P1CoeJLR2UBS"
      }
    },
    {
      "cell_type": "code",
      "source": [
        "parameter_dict = {\n",
        "    'epochs' : 10,\n",
        "    'training_batch_size': 512,\n",
        "    'topk' : [1, 3, 5],\n",
        "    'valid_metric' : 'MRR@5', \n",
        "    'save_dataloader' : True,\n",
        "    'save_dataset' : True\n",
        "}\n",
        "\n",
        "config = Config(model='EASE', dataset='ml-1m', config_dict=parameter_dict)\n",
        "dataset = create_dataset(config)\n",
        "train_data, valid_data, test_data = data_preparation(config, dataset)\n",
        "model = get_model(config['model'])(config, train_data.dataset).to(config['device'])\n",
        "logger.info(model)\n",
        "# trainer loading and initialization\n",
        "trainer = get_trainer(config['MODEL_TYPE'], config['model'])(config, model)\n",
        "\n",
        "# model training\n",
        "best_valid_score, best_valid_result = trainer.fit(train_data, valid_data)\n",
        "\n",
        "\n",
        "print(best_valid_score)\n",
        "print(best_valid_result)"
      ],
      "metadata": {
        "colab": {
          "base_uri": "https://localhost:8080/"
        },
        "id": "yNz-hzRmz4Vz",
        "outputId": "aa1ea8e2-3698-41ae-d539-109f091a5e03"
      },
      "execution_count": 9,
      "outputs": [
        {
          "output_type": "stream",
          "name": "stdout",
          "text": [
            "0.4064\n",
            "OrderedDict([('recall@1', 0.0309), ('recall@3', 0.0775), ('recall@5', 0.1134), ('mrr@1', 0.2661), ('mrr@3', 0.3786), ('mrr@5', 0.4064), ('ndcg@1', 0.2661), ('ndcg@3', 0.2459), ('ndcg@5', 0.239), ('hit@1', 0.2661), ('hit@3', 0.5268), ('hit@5', 0.648), ('precision@1', 0.2661), ('precision@3', 0.2357), ('precision@5', 0.2136)])\n"
          ]
        }
      ]
    },
    {
      "cell_type": "markdown",
      "source": [
        "Now in order to load the saved and filtered dataset and the best model according to our define validation metric, you can apply load_data_and_model() to get them."
      ],
      "metadata": {
        "id": "B4l3Tc304JI7"
      }
    },
    {
      "cell_type": "code",
      "source": [
        "from recbole.quick_start import load_data_and_model\n",
        "loaded_config, loaded_model, loaded_dataset, loaded_train_data, loaded_valid_data, loaded_test_data = load_data_and_model(\n",
        "    model_file='saved/EASE-Jun-10-2023_23-48-13.pth',)\n",
        "# Here you can replace it by your model path.\n",
        "# And you can also pass 'dataset_file' and 'dataloader_file' to this function."
      ],
      "metadata": {
        "id": "KGIi3E9R4IXx"
      },
      "execution_count": 10,
      "outputs": []
    },
    {
      "cell_type": "code",
      "source": [
        "print(loaded_test_data.config)"
      ],
      "metadata": {
        "colab": {
          "base_uri": "https://localhost:8080/"
        },
        "id": "kVnTiBTTt3Zo",
        "outputId": "d174cfe0-cbe1-4917-c74e-f2848c42fa8e"
      },
      "execution_count": 16,
      "outputs": [
        {
          "output_type": "stream",
          "name": "stdout",
          "text": [
            "\n",
            "General Hyper Parameters:\n",
            "gpu_id = 0\n",
            "use_gpu = True\n",
            "seed = 2020\n",
            "state = INFO\n",
            "reproducibility = True\n",
            "data_path = dataset/ml-1m\n",
            "checkpoint_dir = saved\n",
            "show_progress = True\n",
            "save_dataset = True\n",
            "dataset_save_path = None\n",
            "save_dataloaders = False\n",
            "dataloaders_save_path = None\n",
            "log_wandb = False\n",
            "\n",
            "Training Hyper Parameters:\n",
            "epochs = 10\n",
            "train_batch_size = 2048\n",
            "learner = adam\n",
            "learning_rate = 0.001\n",
            "train_neg_sample_args = {'distribution': 'uniform', 'sample_num': 1, 'alpha': 1.0, 'dynamic': False, 'candidate_num': 0}\n",
            "eval_step = 1\n",
            "stopping_step = 10\n",
            "clip_grad_norm = None\n",
            "weight_decay = 0.0\n",
            "loss_decimal_place = 4\n",
            "\n",
            "Evaluation Hyper Parameters:\n",
            "eval_args = {'split': {'RS': [0.8, 0.1, 0.1]}, 'group_by': 'user', 'order': 'RO', 'mode': 'full'}\n",
            "repeatable = False\n",
            "metrics = ['Recall', 'MRR', 'NDCG', 'Hit', 'Precision']\n",
            "topk = [1, 3, 5]\n",
            "valid_metric = MRR@5\n",
            "valid_metric_bigger = True\n",
            "eval_batch_size = 4096\n",
            "metric_decimal_place = 4\n",
            "\n",
            "Dataset Hyper Parameters:\n",
            "field_separator = \t\n",
            "seq_separator =  \n",
            "USER_ID_FIELD = user_id\n",
            "ITEM_ID_FIELD = item_id\n",
            "RATING_FIELD = rating\n",
            "TIME_FIELD = timestamp\n",
            "seq_len = None\n",
            "LABEL_FIELD = label\n",
            "threshold = None\n",
            "NEG_PREFIX = neg_\n",
            "load_col = {'inter': ['user_id', 'item_id']}\n",
            "unload_col = None\n",
            "unused_col = None\n",
            "additional_feat_suffix = None\n",
            "rm_dup_inter = None\n",
            "val_interval = None\n",
            "filter_inter_by_user_or_item = True\n",
            "user_inter_num_interval = [0,inf)\n",
            "item_inter_num_interval = [0,inf)\n",
            "alias_of_user_id = None\n",
            "alias_of_item_id = None\n",
            "alias_of_entity_id = None\n",
            "alias_of_relation_id = None\n",
            "preload_weight = None\n",
            "normalize_field = None\n",
            "normalize_all = None\n",
            "ITEM_LIST_LENGTH_FIELD = item_length\n",
            "LIST_SUFFIX = _list\n",
            "MAX_ITEM_LIST_LENGTH = 50\n",
            "POSITION_FIELD = position_id\n",
            "HEAD_ENTITY_ID_FIELD = head_id\n",
            "TAIL_ENTITY_ID_FIELD = tail_id\n",
            "RELATION_ID_FIELD = relation_id\n",
            "ENTITY_ID_FIELD = entity_id\n",
            "kg_reverse_r = False\n",
            "entity_kg_num_interval = [0,inf)\n",
            "relation_kg_num_interval = [0,inf)\n",
            "benchmark_filename = None\n",
            "\n",
            "Other Hyper Parameters: \n",
            "worker = 0\n",
            "wandb_project = recbole\n",
            "shuffle = True\n",
            "require_pow = False\n",
            "enable_amp = False\n",
            "enable_scaler = False\n",
            "transform = None\n",
            "reg_weight = 250.0\n",
            "numerical_features = []\n",
            "discretization = None\n",
            "MODEL_TYPE = ModelType.TRADITIONAL\n",
            "training_batch_size = 512\n",
            "save_dataloader = True\n",
            "MODEL_INPUT_TYPE = InputType.POINTWISE\n",
            "eval_type = EvaluatorType.RANKING\n",
            "single_spec = True\n",
            "local_rank = 0\n",
            "device = cpu\n",
            "eval_neg_sample_args = {'distribution': 'uniform', 'sample_num': 'none'}\n",
            "\n",
            "\n"
          ]
        }
      ]
    },
    {
      "cell_type": "code",
      "source": [
        "loaded_trainer"
      ],
      "metadata": {
        "colab": {
          "base_uri": "https://localhost:8080/"
        },
        "id": "x5gJQanbw-gw",
        "outputId": "4dbdd04f-b4af-4f8c-ebad-f2f78e967d6b"
      },
      "execution_count": 21,
      "outputs": [
        {
          "output_type": "execute_result",
          "data": {
            "text/plain": [
              "<recbole.trainer.trainer.TraditionalTrainer at 0x7f7cacfaf910>"
            ]
          },
          "metadata": {},
          "execution_count": 21
        }
      ]
    },
    {
      "cell_type": "code",
      "source": [
        "loaded_trainer = get_trainer(loaded_config['MODEL_TYPE'], loaded_config['model'])(loaded_config, loaded_model)\n",
        "test_result = loaded_trainer.evaluate(loaded_test_data)\n",
        "print(test_result)"
      ],
      "metadata": {
        "id": "7wGXisE16DJy"
      },
      "execution_count": null,
      "outputs": []
    },
    {
      "cell_type": "markdown",
      "source": [
        "As you can see, this leads to an error! If you check the RecBole source code, on line 132 of trainer.py, you can find the reason! Recbole looks gets the local time when trying to load the model. You can adjust this by changing the source code by yourself. This an example of why you may want to fork the Recbole repository and change the code in confronting with such situations. Overall, Recbole is still a developing library and it's a good idea to verify the code you want to run instead of treating it as a black box."
      ],
      "metadata": {
        "id": "VD823r-rxdPC"
      }
    },
    {
      "cell_type": "code",
      "source": [],
      "metadata": {
        "id": "Ry49LG9kxc1W"
      },
      "execution_count": null,
      "outputs": []
    },
    {
      "cell_type": "markdown",
      "source": [
        "## Hyperparamter Tuning with RecBole"
      ],
      "metadata": {
        "id": "MER42VkFlz5V"
      }
    },
    {
      "cell_type": "markdown",
      "source": [
        "Tuning hyperparameters is an essential part of training ML models and recommender systems are no exception. Recbole has an internal hyperparamter tuner, but we suggest you use more stable hyperparameter tuning packages like Ray or Wandb. In this notebook, we will show an example of using Ray for tuning your recommender's hyperparameters.\n",
        "\n",
        "First, let's import an initialize a ray agentand import the necessary packages and files."
      ],
      "metadata": {
        "id": "N6fiM-1hyWFh"
      }
    },
    {
      "cell_type": "code",
      "source": [
        "from recbole.trainer import HyperTuning\n",
        "from recbole.quick_start import objective_function\n",
        "\n"
      ],
      "metadata": {
        "id": "n7GhW0mGo13N"
      },
      "execution_count": null,
      "outputs": []
    },
    {
      "cell_type": "code",
      "source": [
        "import ray\n",
        "ray.init()"
      ],
      "metadata": {
        "id": "nqyKvb-I6O8b",
        "colab": {
          "base_uri": "https://localhost:8080/",
          "height": 78
        },
        "outputId": "68a66432-955c-49b9-ca82-6252804aad27"
      },
      "execution_count": null,
      "outputs": [
        {
          "output_type": "stream",
          "name": "stderr",
          "text": [
            "2023-06-10 14:47:01,564\tINFO worker.py:1636 -- Started a local Ray instance.\n"
          ]
        },
        {
          "output_type": "execute_result",
          "data": {
            "text/plain": [
              "RayContext(dashboard_url='', python_version='3.10.12', ray_version='2.5.0', ray_commit='586c376e0769082cb5cfa1333e8264a5fa6b73ec', address_info={'node_ip_address': '172.28.0.12', 'raylet_ip_address': '172.28.0.12', 'redis_address': None, 'object_store_address': '/tmp/ray/session_2023-06-10_14-46-58_623511_149/sockets/plasma_store', 'raylet_socket_name': '/tmp/ray/session_2023-06-10_14-46-58_623511_149/sockets/raylet', 'webui_url': '', 'session_dir': '/tmp/ray/session_2023-06-10_14-46-58_623511_149', 'metrics_export_port': 62173, 'gcs_address': '172.28.0.12:60482', 'address': '172.28.0.12:60482', 'dashboard_agent_listen_port': 52365, 'node_id': '5a011ead4e6392dc24de317022d950c5f40287e13d5d61fab9698f57'})"
            ],
            "text/html": [
              "<div>\n",
              "    <div style=\"margin-left: 50px;display: flex;flex-direction: row;align-items: center\">\n",
              "        <h3 style=\"color: var(--jp-ui-font-color0)\">Ray</h3>\n",
              "        <svg version=\"1.1\" id=\"ray\" width=\"3em\" viewBox=\"0 0 144.5 144.6\" style=\"margin-left: 3em;margin-right: 3em\">\n",
              "            <g id=\"layer-1\">\n",
              "                <path fill=\"#00a2e9\" class=\"st0\" d=\"M97.3,77.2c-3.8-1.1-6.2,0.9-8.3,5.1c-3.5,6.8-9.9,9.9-17.4,9.6S58,88.1,54.8,81.2c-1.4-3-3-4-6.3-4.1\n",
              "                    c-5.6-0.1-9.9,0.1-13.1,6.4c-3.8,7.6-13.6,10.2-21.8,7.6C5.2,88.4-0.4,80.5,0,71.7c0.1-8.4,5.7-15.8,13.8-18.2\n",
              "                    c8.4-2.6,17.5,0.7,22.3,8c1.3,1.9,1.3,5.2,3.6,5.6c3.9,0.6,8,0.2,12,0.2c1.8,0,1.9-1.6,2.4-2.8c3.5-7.8,9.7-11.8,18-11.9\n",
              "                    c8.2-0.1,14.4,3.9,17.8,11.4c1.3,2.8,2.9,3.6,5.7,3.3c1-0.1,2,0.1,3,0c2.8-0.5,6.4,1.7,8.1-2.7s-2.3-5.5-4.1-7.5\n",
              "                    c-5.1-5.7-10.9-10.8-16.1-16.3C84,38,81.9,37.1,78,38.3C66.7,42,56.2,35.7,53,24.1C50.3,14,57.3,2.8,67.7,0.5\n",
              "                    C78.4-2,89,4.7,91.5,15.3c0.1,0.3,0.1,0.5,0.2,0.8c0.7,3.4,0.7,6.9-0.8,9.8c-1.7,3.2-0.8,5,1.5,7.2c6.7,6.5,13.3,13,19.8,19.7\n",
              "                    c1.8,1.8,3,2.1,5.5,1.2c9.1-3.4,17.9-0.6,23.4,7c4.8,6.9,4.6,16.1-0.4,22.9c-5.4,7.2-14.2,9.9-23.1,6.5c-2.3-0.9-3.5-0.6-5.1,1.1\n",
              "                    c-6.7,6.9-13.6,13.7-20.5,20.4c-1.8,1.8-2.5,3.2-1.4,5.9c3.5,8.7,0.3,18.6-7.7,23.6c-7.9,5-18.2,3.8-24.8-2.9\n",
              "                    c-6.4-6.4-7.4-16.2-2.5-24.3c4.9-7.8,14.5-11,23.1-7.8c3,1.1,4.7,0.5,6.9-1.7C91.7,98.4,98,92.3,104.2,86c1.6-1.6,4.1-2.7,2.6-6.2\n",
              "                    c-1.4-3.3-3.8-2.5-6.2-2.6C99.8,77.2,98.9,77.2,97.3,77.2z M72.1,29.7c5.5,0.1,9.9-4.3,10-9.8c0-0.1,0-0.2,0-0.3\n",
              "                    C81.8,14,77,9.8,71.5,10.2c-5,0.3-9,4.2-9.3,9.2c-0.2,5.5,4,10.1,9.5,10.3C71.8,29.7,72,29.7,72.1,29.7z M72.3,62.3\n",
              "                    c-5.4-0.1-9.9,4.2-10.1,9.7c0,0.2,0,0.3,0,0.5c0.2,5.4,4.5,9.7,9.9,10c5.1,0.1,9.9-4.7,10.1-9.8c0.2-5.5-4-10-9.5-10.3\n",
              "                    C72.6,62.3,72.4,62.3,72.3,62.3z M115,72.5c0.1,5.4,4.5,9.7,9.8,9.9c5.6-0.2,10-4.8,10-10.4c-0.2-5.4-4.6-9.7-10-9.7\n",
              "                    c-5.3-0.1-9.8,4.2-9.9,9.5C115,72.1,115,72.3,115,72.5z M19.5,62.3c-5.4,0.1-9.8,4.4-10,9.8c-0.1,5.1,5.2,10.4,10.2,10.3\n",
              "                    c5.6-0.2,10-4.9,9.8-10.5c-0.1-5.4-4.5-9.7-9.9-9.6C19.6,62.3,19.5,62.3,19.5,62.3z M71.8,134.6c5.9,0.2,10.3-3.9,10.4-9.6\n",
              "                    c0.5-5.5-3.6-10.4-9.1-10.8c-5.5-0.5-10.4,3.6-10.8,9.1c0,0.5,0,0.9,0,1.4c-0.2,5.3,4,9.8,9.3,10\n",
              "                    C71.6,134.6,71.7,134.6,71.8,134.6z\"/>\n",
              "            </g>\n",
              "        </svg>\n",
              "        <table>\n",
              "            <tr>\n",
              "                <td style=\"text-align: left\"><b>Python version:</b></td>\n",
              "                <td style=\"text-align: left\"><b>3.10.12</b></td>\n",
              "            </tr>\n",
              "            <tr>\n",
              "                <td style=\"text-align: left\"><b>Ray version:</b></td>\n",
              "                <td style=\"text-align: left\"><b> 2.5.0</b></td>\n",
              "            </tr>\n",
              "            \n",
              "        </table>\n",
              "    </div>\n",
              "</div>\n"
            ]
          },
          "metadata": {},
          "execution_count": 32
        }
      ]
    },
    {
      "cell_type": "code",
      "source": [
        "import os\n",
        "import numpy as np\n",
        "\n",
        "from recbole.trainer import HyperTuning\n",
        "from recbole.quick_start import objective_function\n",
        "from ray import tune\n",
        "from ray.tune.schedulers import ASHAScheduler\n",
        "import math"
      ],
      "metadata": {
        "id": "BlV9UmukeeC1"
      },
      "execution_count": null,
      "outputs": []
    },
    {
      "cell_type": "markdown",
      "source": [
        "In order to perform hp tuning, we should have an objective function as the one defined below. Please note that we have adjusted this function to work with ray and the original objective function implemented in the recbole's repository doesn't report the validation metric to ray. If you want to tune on another metric, please make sure you are reporting it at the end of this function as well."
      ],
      "metadata": {
        "id": "s5bb0zP_y9zx"
      }
    },
    {
      "cell_type": "code",
      "source": [
        "def objective_function(config_dict=None, config_file_list=None):\n",
        "\n",
        "    config = Config(config_dict=config_dict, config_file_list=config_file_list)\n",
        "    #init_seed(config['seed'])\n",
        "    #init_seed(np.random.RandomState(config['seed']))\n",
        "    \n",
        "    dataset = create_dataset(config)\n",
        "    train_data, valid_data, test_data = data_preparation(config, dataset)\n",
        "    model_name = config['model']\n",
        "    model = get_model(model_name)(config, train_data._dataset).to(config['device'])\n",
        "    trainer = get_trainer(config['MODEL_TYPE'], config['model'])(config, model)\n",
        "    best_valid_score, best_valid_result = trainer.fit(train_data, valid_data, verbose=False)\n",
        "    test_result = trainer.evaluate(test_data)\n",
        "\n",
        "    return {\n",
        "        'model': model_name,\n",
        "        'best_valid_score': best_valid_score,\n",
        "        'valid_score_bigger': config['valid_metric_bigger'],\n",
        "        'best_valid_result': best_valid_result,\n",
        "        'test_result': test_result,\n",
        "        'mrr@10': best_valid_result['mrr@10']\n",
        "    }"
      ],
      "metadata": {
        "id": "LkHRXoWtBUvp"
      },
      "execution_count": null,
      "outputs": []
    },
    {
      "cell_type": "markdown",
      "source": [
        "Finally, define the ray_tune function and run the tuning jobs. We specify the model and dataset (and other training non-tuned hyperparameter configurations) in \"example.yaml\" file, and specify the tuned hyperparameters and their ranges and selection methods in the \"hyper.test\" file. Make sure that these files are in your current working directory."
      ],
      "metadata": {
        "id": "67PNbSo3zZuj"
      }
    },
    {
      "cell_type": "code",
      "source": [
        "def ray_tune(params_file, config_file):\n",
        "\n",
        "      output_file = 'hyper_example.result'\n",
        "      params_file = (os.path.join(os.getcwd(), params_file))\n",
        "      config_file_list = [os.path.join(os.getcwd(), config_file)]\n",
        "      #ray.init()\n",
        "      tune.register_trainable(\"train_func\", objective_function)\n",
        "      config = {}\n",
        "      with open(params_file, \"r\") as fp:\n",
        "        for line in fp:\n",
        "            para_list = line.strip().split(\" \")\n",
        "            if len(para_list) < 3:\n",
        "                continue\n",
        "            para_name, para_type, para_value = (\n",
        "                para_list[0],\n",
        "                para_list[1],\n",
        "                \"\".join(para_list[2:]),\n",
        "            )\n",
        "            if para_type == \"choice\":\n",
        "                para_value = eval(para_value)\n",
        "                config[para_name] = tune.choice(para_value)\n",
        "            elif para_type == \"uniform\":\n",
        "                low, high = para_value.strip().split(\",\")\n",
        "                config[para_name] = tune.uniform(float(low), float(high))\n",
        "            elif para_type == \"quniform\":\n",
        "                low, high, q = para_value.strip().split(\",\")\n",
        "                config[para_name] = tune.quniform(float(low), float(high), float(q))\n",
        "            elif para_type == \"loguniform\":\n",
        "                low, high = para_value.strip().split(\",\")\n",
        "                config[para_name] = tune.loguniform(\n",
        "                    math.exp(float(low)), math.exp(float(high))\n",
        "                )\n",
        "            else:\n",
        "                raise ValueError(\"Illegal param type [{}]\".format(para_type))\n",
        "      scheduler = ASHAScheduler(\n",
        "        metric=\"mrr@10\", mode=\"max\", max_t=10, grace_period=1, reduction_factor=2)\n",
        "      local_dir = \"./ray_log\"\n",
        "      result = tune.run(\n",
        "        tune.with_parameters(objective_function, config_file_list=config_file_list),\n",
        "        config=config,\n",
        "        num_samples=5,\n",
        "        log_to_file=output_file,\n",
        "        scheduler=scheduler,\n",
        "        local_dir=local_dir,\n",
        "        resources_per_trial={\"cpu\": 1},\n",
        "    )\n",
        "    \n",
        "      best_trial = result.get_best_trial(\"mrr@10\", \"max\", \"last\")\n",
        "      print(\"best params: \", best_trial.config)\n",
        "      print(\"best result: \", best_trial.last_result)\n"
      ],
      "metadata": {
        "id": "ftBVlP8TfkE7"
      },
      "execution_count": null,
      "outputs": []
    },
    {
      "cell_type": "code",
      "source": [
        "ray_tune('hyper.test', 'example.yaml')"
      ],
      "metadata": {
        "colab": {
          "base_uri": "https://localhost:8080/"
        },
        "id": "VyqGK853yg5Z",
        "outputId": "e8a0c3d0-ccb1-4be2-aae0-bf675a10a47e"
      },
      "execution_count": null,
      "outputs": [
        {
          "output_type": "stream",
          "name": "stderr",
          "text": [
            "/usr/local/lib/python3.10/dist-packages/ray/tune/tune.py:258: UserWarning: Passing a `local_dir` is deprecated and will be removed in the future. Pass `storage_path` instead or set the`RAY_AIR_LOCAL_CACHE_DIR` environment variable instead.\n",
            "  warnings.warn(\n",
            "2023-06-10 15:57:10,560\tWARNING callback.py:144 -- The TensorboardX logger cannot be instantiated because either TensorboardX or one of it's dependencies is not installed. Please make sure you have the latest version of TensorboardX installed: `pip install -U tensorboardx`\n"
          ]
        },
        {
          "output_type": "stream",
          "name": "stdout",
          "text": [
            "== Status ==\n",
            "Current time: 2023-06-10 15:57:10 (running for 00:00:00.19)\n",
            "Using AsyncHyperBand: num_stopped=0\n",
            "Bracket: Iter 8.000: None | Iter 4.000: None | Iter 2.000: None | Iter 1.000: None\n",
            "Logical resource usage: 0/2 CPUs, 0/0 GPUs\n",
            "Result logdir: /content/ray_log/objective_function_2023-06-10_15-57-10\n",
            "Number of trials: 5/5 (5 PENDING)\n",
            "+--------------------------------+----------+-------+------------------+-----------------+\n",
            "| Trial name                     | status   | loc   |   embedding_size |   learning_rate |\n",
            "|--------------------------------+----------+-------+------------------+-----------------|\n",
            "| objective_function_7565c_00000 | PENDING  |       |                8 |      0.428019   |\n",
            "| objective_function_7565c_00001 | PENDING  |       |                8 |      0.207121   |\n",
            "| objective_function_7565c_00002 | PENDING  |       |                8 |      0.00269814 |\n",
            "| objective_function_7565c_00003 | PENDING  |       |               16 |      0.00566054 |\n",
            "| objective_function_7565c_00004 | PENDING  |       |               32 |      0.662215   |\n",
            "+--------------------------------+----------+-------+------------------+-----------------+\n",
            "\n",
            "\n",
            "== Status ==\n",
            "Current time: 2023-06-10 15:57:15 (running for 00:00:05.24)\n",
            "Using AsyncHyperBand: num_stopped=0\n",
            "Bracket: Iter 8.000: None | Iter 4.000: None | Iter 2.000: None | Iter 1.000: None\n",
            "Logical resource usage: 2.0/2 CPUs, 0/0 GPUs\n",
            "Result logdir: /content/ray_log/objective_function_2023-06-10_15-57-10\n",
            "Number of trials: 5/5 (5 PENDING)\n",
            "+--------------------------------+----------+-------+------------------+-----------------+\n",
            "| Trial name                     | status   | loc   |   embedding_size |   learning_rate |\n",
            "|--------------------------------+----------+-------+------------------+-----------------|\n",
            "| objective_function_7565c_00000 | PENDING  |       |                8 |      0.428019   |\n",
            "| objective_function_7565c_00001 | PENDING  |       |                8 |      0.207121   |\n",
            "| objective_function_7565c_00002 | PENDING  |       |                8 |      0.00269814 |\n",
            "| objective_function_7565c_00003 | PENDING  |       |               16 |      0.00566054 |\n",
            "| objective_function_7565c_00004 | PENDING  |       |               32 |      0.662215   |\n",
            "+--------------------------------+----------+-------+------------------+-----------------+\n",
            "\n",
            "\n",
            "== Status ==\n",
            "Current time: 2023-06-10 15:57:20 (running for 00:00:10.31)\n",
            "Using AsyncHyperBand: num_stopped=0\n",
            "Bracket: Iter 8.000: None | Iter 4.000: None | Iter 2.000: None | Iter 1.000: None\n",
            "Logical resource usage: 2.0/2 CPUs, 0/0 GPUs\n",
            "Result logdir: /content/ray_log/objective_function_2023-06-10_15-57-10\n",
            "Number of trials: 5/5 (5 PENDING)\n",
            "+--------------------------------+----------+-------+------------------+-----------------+\n",
            "| Trial name                     | status   | loc   |   embedding_size |   learning_rate |\n",
            "|--------------------------------+----------+-------+------------------+-----------------|\n",
            "| objective_function_7565c_00000 | PENDING  |       |                8 |      0.428019   |\n",
            "| objective_function_7565c_00001 | PENDING  |       |                8 |      0.207121   |\n",
            "| objective_function_7565c_00002 | PENDING  |       |                8 |      0.00269814 |\n",
            "| objective_function_7565c_00003 | PENDING  |       |               16 |      0.00566054 |\n",
            "| objective_function_7565c_00004 | PENDING  |       |               32 |      0.662215   |\n",
            "+--------------------------------+----------+-------+------------------+-----------------+\n",
            "\n",
            "\n"
          ]
        },
        {
          "output_type": "stream",
          "name": "stderr",
          "text": [
            "(pid=41646) 2023-06-10 15:57:24.339877: W tensorflow/compiler/tf2tensorrt/utils/py_utils.cc:38] TF-TRT Warning: Could not find TensorRT\n"
          ]
        },
        {
          "output_type": "stream",
          "name": "stdout",
          "text": [
            "== Status ==\n",
            "Current time: 2023-06-10 15:57:25 (running for 00:00:15.37)\n",
            "Using AsyncHyperBand: num_stopped=0\n",
            "Bracket: Iter 8.000: None | Iter 4.000: None | Iter 2.000: None | Iter 1.000: None\n",
            "Logical resource usage: 2.0/2 CPUs, 0/0 GPUs\n",
            "Result logdir: /content/ray_log/objective_function_2023-06-10_15-57-10\n",
            "Number of trials: 5/5 (5 PENDING)\n",
            "+--------------------------------+----------+-------+------------------+-----------------+\n",
            "| Trial name                     | status   | loc   |   embedding_size |   learning_rate |\n",
            "|--------------------------------+----------+-------+------------------+-----------------|\n",
            "| objective_function_7565c_00000 | PENDING  |       |                8 |      0.428019   |\n",
            "| objective_function_7565c_00001 | PENDING  |       |                8 |      0.207121   |\n",
            "| objective_function_7565c_00002 | PENDING  |       |                8 |      0.00269814 |\n",
            "| objective_function_7565c_00003 | PENDING  |       |               16 |      0.00566054 |\n",
            "| objective_function_7565c_00004 | PENDING  |       |               32 |      0.662215   |\n",
            "+--------------------------------+----------+-------+------------------+-----------------+\n",
            "\n",
            "\n",
            "== Status ==\n",
            "Current time: 2023-06-10 15:57:30 (running for 00:00:20.38)\n",
            "Using AsyncHyperBand: num_stopped=0\n",
            "Bracket: Iter 8.000: None | Iter 4.000: None | Iter 2.000: None | Iter 1.000: None\n",
            "Logical resource usage: 2.0/2 CPUs, 0/0 GPUs\n",
            "Result logdir: /content/ray_log/objective_function_2023-06-10_15-57-10\n",
            "Number of trials: 5/5 (3 PENDING, 2 RUNNING)\n",
            "+--------------------------------+----------+-------------------+------------------+-----------------+\n",
            "| Trial name                     | status   | loc               |   embedding_size |   learning_rate |\n",
            "|--------------------------------+----------+-------------------+------------------+-----------------|\n",
            "| objective_function_7565c_00000 | RUNNING  | 172.28.0.12:41646 |                8 |      0.428019   |\n",
            "| objective_function_7565c_00001 | RUNNING  | 172.28.0.12:41680 |                8 |      0.207121   |\n",
            "| objective_function_7565c_00002 | PENDING  |                   |                8 |      0.00269814 |\n",
            "| objective_function_7565c_00003 | PENDING  |                   |               16 |      0.00566054 |\n",
            "| objective_function_7565c_00004 | PENDING  |                   |               32 |      0.662215   |\n",
            "+--------------------------------+----------+-------------------+------------------+-----------------+\n",
            "\n",
            "\n",
            "== Status ==\n",
            "Current time: 2023-06-10 15:57:36 (running for 00:00:25.45)\n",
            "Using AsyncHyperBand: num_stopped=0\n",
            "Bracket: Iter 8.000: None | Iter 4.000: None | Iter 2.000: None | Iter 1.000: None\n",
            "Logical resource usage: 2.0/2 CPUs, 0/0 GPUs\n",
            "Result logdir: /content/ray_log/objective_function_2023-06-10_15-57-10\n",
            "Number of trials: 5/5 (3 PENDING, 2 RUNNING)\n",
            "+--------------------------------+----------+-------------------+------------------+-----------------+\n",
            "| Trial name                     | status   | loc               |   embedding_size |   learning_rate |\n",
            "|--------------------------------+----------+-------------------+------------------+-----------------|\n",
            "| objective_function_7565c_00000 | RUNNING  | 172.28.0.12:41646 |                8 |      0.428019   |\n",
            "| objective_function_7565c_00001 | RUNNING  | 172.28.0.12:41680 |                8 |      0.207121   |\n",
            "| objective_function_7565c_00002 | PENDING  |                   |                8 |      0.00269814 |\n",
            "| objective_function_7565c_00003 | PENDING  |                   |               16 |      0.00566054 |\n",
            "| objective_function_7565c_00004 | PENDING  |                   |               32 |      0.662215   |\n",
            "+--------------------------------+----------+-------------------+------------------+-----------------+\n",
            "\n",
            "\n",
            "== Status ==\n",
            "Current time: 2023-06-10 15:57:41 (running for 00:00:30.51)\n",
            "Using AsyncHyperBand: num_stopped=0\n",
            "Bracket: Iter 8.000: None | Iter 4.000: None | Iter 2.000: None | Iter 1.000: None\n",
            "Logical resource usage: 2.0/2 CPUs, 0/0 GPUs\n",
            "Result logdir: /content/ray_log/objective_function_2023-06-10_15-57-10\n",
            "Number of trials: 5/5 (3 PENDING, 2 RUNNING)\n",
            "+--------------------------------+----------+-------------------+------------------+-----------------+\n",
            "| Trial name                     | status   | loc               |   embedding_size |   learning_rate |\n",
            "|--------------------------------+----------+-------------------+------------------+-----------------|\n",
            "| objective_function_7565c_00000 | RUNNING  | 172.28.0.12:41646 |                8 |      0.428019   |\n",
            "| objective_function_7565c_00001 | RUNNING  | 172.28.0.12:41680 |                8 |      0.207121   |\n",
            "| objective_function_7565c_00002 | PENDING  |                   |                8 |      0.00269814 |\n",
            "| objective_function_7565c_00003 | PENDING  |                   |               16 |      0.00566054 |\n",
            "| objective_function_7565c_00004 | PENDING  |                   |               32 |      0.662215   |\n",
            "+--------------------------------+----------+-------------------+------------------+-----------------+\n",
            "\n",
            "\n",
            "== Status ==\n",
            "Current time: 2023-06-10 15:57:46 (running for 00:00:35.57)\n",
            "Using AsyncHyperBand: num_stopped=0\n",
            "Bracket: Iter 8.000: None | Iter 4.000: None | Iter 2.000: None | Iter 1.000: None\n",
            "Logical resource usage: 2.0/2 CPUs, 0/0 GPUs\n",
            "Result logdir: /content/ray_log/objective_function_2023-06-10_15-57-10\n",
            "Number of trials: 5/5 (3 PENDING, 2 RUNNING)\n",
            "+--------------------------------+----------+-------------------+------------------+-----------------+\n",
            "| Trial name                     | status   | loc               |   embedding_size |   learning_rate |\n",
            "|--------------------------------+----------+-------------------+------------------+-----------------|\n",
            "| objective_function_7565c_00000 | RUNNING  | 172.28.0.12:41646 |                8 |      0.428019   |\n",
            "| objective_function_7565c_00001 | RUNNING  | 172.28.0.12:41680 |                8 |      0.207121   |\n",
            "| objective_function_7565c_00002 | PENDING  |                   |                8 |      0.00269814 |\n",
            "| objective_function_7565c_00003 | PENDING  |                   |               16 |      0.00566054 |\n",
            "| objective_function_7565c_00004 | PENDING  |                   |               32 |      0.662215   |\n",
            "+--------------------------------+----------+-------------------+------------------+-----------------+\n",
            "\n",
            "\n",
            "== Status ==\n",
            "Current time: 2023-06-10 15:57:51 (running for 00:00:40.65)\n",
            "Using AsyncHyperBand: num_stopped=0\n",
            "Bracket: Iter 8.000: None | Iter 4.000: None | Iter 2.000: None | Iter 1.000: None\n",
            "Logical resource usage: 2.0/2 CPUs, 0/0 GPUs\n",
            "Result logdir: /content/ray_log/objective_function_2023-06-10_15-57-10\n",
            "Number of trials: 5/5 (3 PENDING, 2 RUNNING)\n",
            "+--------------------------------+----------+-------------------+------------------+-----------------+\n",
            "| Trial name                     | status   | loc               |   embedding_size |   learning_rate |\n",
            "|--------------------------------+----------+-------------------+------------------+-----------------|\n",
            "| objective_function_7565c_00000 | RUNNING  | 172.28.0.12:41646 |                8 |      0.428019   |\n",
            "| objective_function_7565c_00001 | RUNNING  | 172.28.0.12:41680 |                8 |      0.207121   |\n",
            "| objective_function_7565c_00002 | PENDING  |                   |                8 |      0.00269814 |\n",
            "| objective_function_7565c_00003 | PENDING  |                   |               16 |      0.00566054 |\n",
            "| objective_function_7565c_00004 | PENDING  |                   |               32 |      0.662215   |\n",
            "+--------------------------------+----------+-------------------+------------------+-----------------+\n",
            "\n",
            "\n",
            "== Status ==\n",
            "Current time: 2023-06-10 15:57:56 (running for 00:00:45.72)\n",
            "Using AsyncHyperBand: num_stopped=0\n",
            "Bracket: Iter 8.000: None | Iter 4.000: None | Iter 2.000: None | Iter 1.000: None\n",
            "Logical resource usage: 2.0/2 CPUs, 0/0 GPUs\n",
            "Result logdir: /content/ray_log/objective_function_2023-06-10_15-57-10\n",
            "Number of trials: 5/5 (3 PENDING, 2 RUNNING)\n",
            "+--------------------------------+----------+-------------------+------------------+-----------------+\n",
            "| Trial name                     | status   | loc               |   embedding_size |   learning_rate |\n",
            "|--------------------------------+----------+-------------------+------------------+-----------------|\n",
            "| objective_function_7565c_00000 | RUNNING  | 172.28.0.12:41646 |                8 |      0.428019   |\n",
            "| objective_function_7565c_00001 | RUNNING  | 172.28.0.12:41680 |                8 |      0.207121   |\n",
            "| objective_function_7565c_00002 | PENDING  |                   |                8 |      0.00269814 |\n",
            "| objective_function_7565c_00003 | PENDING  |                   |               16 |      0.00566054 |\n",
            "| objective_function_7565c_00004 | PENDING  |                   |               32 |      0.662215   |\n",
            "+--------------------------------+----------+-------------------+------------------+-----------------+\n",
            "\n",
            "\n",
            "Result for objective_function_7565c_00000:\n",
            "  best_valid_result:\n",
            "    hit@10: 0.562\n",
            "    mrr@10: 0.2713\n",
            "    ndcg@10: 0.1406\n",
            "    precision@10: 0.1001\n",
            "    recall@10: 0.1208\n",
            "  best_valid_score: 0.2713\n",
            "  date: 2023-06-10_15-58-00\n",
            "  done: false\n",
            "  hostname: 389c9d6dbd38\n",
            "  iterations_since_restore: 1\n",
            "  model: BPR\n",
            "  mrr@10: 0.2713\n",
            "  node_ip: 172.28.0.12\n",
            "  pid: 41646\n",
            "  test_result:\n",
            "    hit@10: 0.6182\n",
            "    mrr@10: 0.3198\n",
            "    ndcg@10: 0.1746\n",
            "    precision@10: 0.1252\n",
            "    recall@10: 0.1446\n",
            "  time_since_restore: 33.82152485847473\n",
            "  time_this_iter_s: 33.82152485847473\n",
            "  time_total_s: 33.82152485847473\n",
            "  timestamp: 1686412680\n",
            "  training_iteration: 1\n",
            "  trial_id: 7565c_00000\n",
            "  valid_score_bigger: true\n",
            "  \n",
            "Trial objective_function_7565c_00000 completed.\n",
            "== Status ==\n",
            "Current time: 2023-06-10 15:58:01 (running for 00:00:50.74)\n",
            "Using AsyncHyperBand: num_stopped=0\n",
            "Bracket: Iter 8.000: None | Iter 4.000: None | Iter 2.000: None | Iter 1.000: 0.2713\n",
            "Logical resource usage: 2.0/2 CPUs, 0/0 GPUs\n",
            "Result logdir: /content/ray_log/objective_function_2023-06-10_15-57-10\n",
            "Number of trials: 5/5 (2 PENDING, 2 RUNNING, 1 TERMINATED)\n",
            "+--------------------------------+------------+-------------------+------------------+-----------------+--------+------------------+--------------------+----------+\n",
            "| Trial name                     | status     | loc               |   embedding_size |   learning_rate |   iter |   total time (s) |   best_valid_score |   mrr@10 |\n",
            "|--------------------------------+------------+-------------------+------------------+-----------------+--------+------------------+--------------------+----------|\n",
            "| objective_function_7565c_00001 | RUNNING    | 172.28.0.12:41680 |                8 |      0.207121   |        |                  |                    |          |\n",
            "| objective_function_7565c_00002 | RUNNING    | 172.28.0.12:41646 |                8 |      0.00269814 |        |                  |                    |          |\n",
            "| objective_function_7565c_00003 | PENDING    |                   |               16 |      0.00566054 |        |                  |                    |          |\n",
            "| objective_function_7565c_00004 | PENDING    |                   |               32 |      0.662215   |        |                  |                    |          |\n",
            "| objective_function_7565c_00000 | TERMINATED | 172.28.0.12:41646 |                8 |      0.428019   |      1 |          33.8215 |             0.2713 |   0.2713 |\n",
            "+--------------------------------+------------+-------------------+------------------+-----------------+--------+------------------+--------------------+----------+\n",
            "\n",
            "\n",
            "Result for objective_function_7565c_00001:\n",
            "  best_valid_result:\n",
            "    hit@10: 0.5652\n",
            "    mrr@10: 0.257\n",
            "    ndcg@10: 0.1346\n",
            "    precision@10: 0.0918\n",
            "    recall@10: 0.1223\n",
            "  best_valid_score: 0.257\n",
            "  date: 2023-06-10_15-58-02\n",
            "  done: true\n",
            "  hostname: 389c9d6dbd38\n",
            "  iterations_since_restore: 1\n",
            "  model: BPR\n",
            "  mrr@10: 0.257\n",
            "  node_ip: 172.28.0.12\n",
            "  pid: 41680\n",
            "  test_result:\n",
            "    hit@10: 0.5461\n",
            "    mrr@10: 0.2476\n",
            "    ndcg@10: 0.1371\n",
            "    precision@10: 0.0993\n",
            "    recall@10: 0.1214\n",
            "  time_since_restore: 34.35398983955383\n",
            "  time_this_iter_s: 34.35398983955383\n",
            "  time_total_s: 34.35398983955383\n",
            "  timestamp: 1686412682\n",
            "  training_iteration: 1\n",
            "  trial_id: 7565c_00001\n",
            "  valid_score_bigger: true\n",
            "  \n",
            "Trial objective_function_7565c_00001 completed.\n",
            "== Status ==\n",
            "Current time: 2023-06-10 15:58:06 (running for 00:00:55.82)\n",
            "Using AsyncHyperBand: num_stopped=1\n",
            "Bracket: Iter 8.000: None | Iter 4.000: None | Iter 2.000: None | Iter 1.000: 0.26415\n",
            "Logical resource usage: 2.0/2 CPUs, 0/0 GPUs\n",
            "Result logdir: /content/ray_log/objective_function_2023-06-10_15-57-10\n",
            "Number of trials: 5/5 (1 PENDING, 2 RUNNING, 2 TERMINATED)\n",
            "+--------------------------------+------------+-------------------+------------------+-----------------+--------+------------------+--------------------+----------+\n",
            "| Trial name                     | status     | loc               |   embedding_size |   learning_rate |   iter |   total time (s) |   best_valid_score |   mrr@10 |\n",
            "|--------------------------------+------------+-------------------+------------------+-----------------+--------+------------------+--------------------+----------|\n",
            "| objective_function_7565c_00002 | RUNNING    | 172.28.0.12:41646 |                8 |      0.00269814 |        |                  |                    |          |\n",
            "| objective_function_7565c_00003 | RUNNING    | 172.28.0.12:41680 |               16 |      0.00566054 |        |                  |                    |          |\n",
            "| objective_function_7565c_00004 | PENDING    |                   |               32 |      0.662215   |        |                  |                    |          |\n",
            "| objective_function_7565c_00000 | TERMINATED | 172.28.0.12:41646 |                8 |      0.428019   |      1 |          33.8215 |             0.2713 |   0.2713 |\n",
            "| objective_function_7565c_00001 | TERMINATED | 172.28.0.12:41680 |                8 |      0.207121   |      1 |          34.354  |             0.257  |   0.257  |\n",
            "+--------------------------------+------------+-------------------+------------------+-----------------+--------+------------------+--------------------+----------+\n",
            "\n",
            "\n",
            "== Status ==\n",
            "Current time: 2023-06-10 15:58:11 (running for 00:01:00.90)\n",
            "Using AsyncHyperBand: num_stopped=1\n",
            "Bracket: Iter 8.000: None | Iter 4.000: None | Iter 2.000: None | Iter 1.000: 0.26415\n",
            "Logical resource usage: 2.0/2 CPUs, 0/0 GPUs\n",
            "Result logdir: /content/ray_log/objective_function_2023-06-10_15-57-10\n",
            "Number of trials: 5/5 (1 PENDING, 2 RUNNING, 2 TERMINATED)\n",
            "+--------------------------------+------------+-------------------+------------------+-----------------+--------+------------------+--------------------+----------+\n",
            "| Trial name                     | status     | loc               |   embedding_size |   learning_rate |   iter |   total time (s) |   best_valid_score |   mrr@10 |\n",
            "|--------------------------------+------------+-------------------+------------------+-----------------+--------+------------------+--------------------+----------|\n",
            "| objective_function_7565c_00002 | RUNNING    | 172.28.0.12:41646 |                8 |      0.00269814 |        |                  |                    |          |\n",
            "| objective_function_7565c_00003 | RUNNING    | 172.28.0.12:41680 |               16 |      0.00566054 |        |                  |                    |          |\n",
            "| objective_function_7565c_00004 | PENDING    |                   |               32 |      0.662215   |        |                  |                    |          |\n",
            "| objective_function_7565c_00000 | TERMINATED | 172.28.0.12:41646 |                8 |      0.428019   |      1 |          33.8215 |             0.2713 |   0.2713 |\n",
            "| objective_function_7565c_00001 | TERMINATED | 172.28.0.12:41680 |                8 |      0.207121   |      1 |          34.354  |             0.257  |   0.257  |\n",
            "+--------------------------------+------------+-------------------+------------------+-----------------+--------+------------------+--------------------+----------+\n",
            "\n",
            "\n",
            "== Status ==\n",
            "Current time: 2023-06-10 15:58:16 (running for 00:01:05.96)\n",
            "Using AsyncHyperBand: num_stopped=1\n",
            "Bracket: Iter 8.000: None | Iter 4.000: None | Iter 2.000: None | Iter 1.000: 0.26415\n",
            "Logical resource usage: 2.0/2 CPUs, 0/0 GPUs\n",
            "Result logdir: /content/ray_log/objective_function_2023-06-10_15-57-10\n",
            "Number of trials: 5/5 (1 PENDING, 2 RUNNING, 2 TERMINATED)\n",
            "+--------------------------------+------------+-------------------+------------------+-----------------+--------+------------------+--------------------+----------+\n",
            "| Trial name                     | status     | loc               |   embedding_size |   learning_rate |   iter |   total time (s) |   best_valid_score |   mrr@10 |\n",
            "|--------------------------------+------------+-------------------+------------------+-----------------+--------+------------------+--------------------+----------|\n",
            "| objective_function_7565c_00002 | RUNNING    | 172.28.0.12:41646 |                8 |      0.00269814 |        |                  |                    |          |\n",
            "| objective_function_7565c_00003 | RUNNING    | 172.28.0.12:41680 |               16 |      0.00566054 |        |                  |                    |          |\n",
            "| objective_function_7565c_00004 | PENDING    |                   |               32 |      0.662215   |        |                  |                    |          |\n",
            "| objective_function_7565c_00000 | TERMINATED | 172.28.0.12:41646 |                8 |      0.428019   |      1 |          33.8215 |             0.2713 |   0.2713 |\n",
            "| objective_function_7565c_00001 | TERMINATED | 172.28.0.12:41680 |                8 |      0.207121   |      1 |          34.354  |             0.257  |   0.257  |\n",
            "+--------------------------------+------------+-------------------+------------------+-----------------+--------+------------------+--------------------+----------+\n",
            "\n",
            "\n",
            "== Status ==\n",
            "Current time: 2023-06-10 15:58:21 (running for 00:01:11.03)\n",
            "Using AsyncHyperBand: num_stopped=1\n",
            "Bracket: Iter 8.000: None | Iter 4.000: None | Iter 2.000: None | Iter 1.000: 0.26415\n",
            "Logical resource usage: 2.0/2 CPUs, 0/0 GPUs\n",
            "Result logdir: /content/ray_log/objective_function_2023-06-10_15-57-10\n",
            "Number of trials: 5/5 (1 PENDING, 2 RUNNING, 2 TERMINATED)\n",
            "+--------------------------------+------------+-------------------+------------------+-----------------+--------+------------------+--------------------+----------+\n",
            "| Trial name                     | status     | loc               |   embedding_size |   learning_rate |   iter |   total time (s) |   best_valid_score |   mrr@10 |\n",
            "|--------------------------------+------------+-------------------+------------------+-----------------+--------+------------------+--------------------+----------|\n",
            "| objective_function_7565c_00002 | RUNNING    | 172.28.0.12:41646 |                8 |      0.00269814 |        |                  |                    |          |\n",
            "| objective_function_7565c_00003 | RUNNING    | 172.28.0.12:41680 |               16 |      0.00566054 |        |                  |                    |          |\n",
            "| objective_function_7565c_00004 | PENDING    |                   |               32 |      0.662215   |        |                  |                    |          |\n",
            "| objective_function_7565c_00000 | TERMINATED | 172.28.0.12:41646 |                8 |      0.428019   |      1 |          33.8215 |             0.2713 |   0.2713 |\n",
            "| objective_function_7565c_00001 | TERMINATED | 172.28.0.12:41680 |                8 |      0.207121   |      1 |          34.354  |             0.257  |   0.257  |\n",
            "+--------------------------------+------------+-------------------+------------------+-----------------+--------+------------------+--------------------+----------+\n",
            "\n",
            "\n",
            "== Status ==\n",
            "Current time: 2023-06-10 15:58:26 (running for 00:01:16.10)\n",
            "Using AsyncHyperBand: num_stopped=1\n",
            "Bracket: Iter 8.000: None | Iter 4.000: None | Iter 2.000: None | Iter 1.000: 0.26415\n",
            "Logical resource usage: 2.0/2 CPUs, 0/0 GPUs\n",
            "Result logdir: /content/ray_log/objective_function_2023-06-10_15-57-10\n",
            "Number of trials: 5/5 (1 PENDING, 2 RUNNING, 2 TERMINATED)\n",
            "+--------------------------------+------------+-------------------+------------------+-----------------+--------+------------------+--------------------+----------+\n",
            "| Trial name                     | status     | loc               |   embedding_size |   learning_rate |   iter |   total time (s) |   best_valid_score |   mrr@10 |\n",
            "|--------------------------------+------------+-------------------+------------------+-----------------+--------+------------------+--------------------+----------|\n",
            "| objective_function_7565c_00002 | RUNNING    | 172.28.0.12:41646 |                8 |      0.00269814 |        |                  |                    |          |\n",
            "| objective_function_7565c_00003 | RUNNING    | 172.28.0.12:41680 |               16 |      0.00566054 |        |                  |                    |          |\n",
            "| objective_function_7565c_00004 | PENDING    |                   |               32 |      0.662215   |        |                  |                    |          |\n",
            "| objective_function_7565c_00000 | TERMINATED | 172.28.0.12:41646 |                8 |      0.428019   |      1 |          33.8215 |             0.2713 |   0.2713 |\n",
            "| objective_function_7565c_00001 | TERMINATED | 172.28.0.12:41680 |                8 |      0.207121   |      1 |          34.354  |             0.257  |   0.257  |\n",
            "+--------------------------------+------------+-------------------+------------------+-----------------+--------+------------------+--------------------+----------+\n",
            "\n",
            "\n",
            "== Status ==\n",
            "Current time: 2023-06-10 15:58:31 (running for 00:01:21.17)\n",
            "Using AsyncHyperBand: num_stopped=1\n",
            "Bracket: Iter 8.000: None | Iter 4.000: None | Iter 2.000: None | Iter 1.000: 0.26415\n",
            "Logical resource usage: 2.0/2 CPUs, 0/0 GPUs\n",
            "Result logdir: /content/ray_log/objective_function_2023-06-10_15-57-10\n",
            "Number of trials: 5/5 (1 PENDING, 2 RUNNING, 2 TERMINATED)\n",
            "+--------------------------------+------------+-------------------+------------------+-----------------+--------+------------------+--------------------+----------+\n",
            "| Trial name                     | status     | loc               |   embedding_size |   learning_rate |   iter |   total time (s) |   best_valid_score |   mrr@10 |\n",
            "|--------------------------------+------------+-------------------+------------------+-----------------+--------+------------------+--------------------+----------|\n",
            "| objective_function_7565c_00002 | RUNNING    | 172.28.0.12:41646 |                8 |      0.00269814 |        |                  |                    |          |\n",
            "| objective_function_7565c_00003 | RUNNING    | 172.28.0.12:41680 |               16 |      0.00566054 |        |                  |                    |          |\n",
            "| objective_function_7565c_00004 | PENDING    |                   |               32 |      0.662215   |        |                  |                    |          |\n",
            "| objective_function_7565c_00000 | TERMINATED | 172.28.0.12:41646 |                8 |      0.428019   |      1 |          33.8215 |             0.2713 |   0.2713 |\n",
            "| objective_function_7565c_00001 | TERMINATED | 172.28.0.12:41680 |                8 |      0.207121   |      1 |          34.354  |             0.257  |   0.257  |\n",
            "+--------------------------------+------------+-------------------+------------------+-----------------+--------+------------------+--------------------+----------+\n",
            "\n",
            "\n",
            "== Status ==\n",
            "Current time: 2023-06-10 15:58:36 (running for 00:01:26.23)\n",
            "Using AsyncHyperBand: num_stopped=1\n",
            "Bracket: Iter 8.000: None | Iter 4.000: None | Iter 2.000: None | Iter 1.000: 0.26415\n",
            "Logical resource usage: 2.0/2 CPUs, 0/0 GPUs\n",
            "Result logdir: /content/ray_log/objective_function_2023-06-10_15-57-10\n",
            "Number of trials: 5/5 (1 PENDING, 2 RUNNING, 2 TERMINATED)\n",
            "+--------------------------------+------------+-------------------+------------------+-----------------+--------+------------------+--------------------+----------+\n",
            "| Trial name                     | status     | loc               |   embedding_size |   learning_rate |   iter |   total time (s) |   best_valid_score |   mrr@10 |\n",
            "|--------------------------------+------------+-------------------+------------------+-----------------+--------+------------------+--------------------+----------|\n",
            "| objective_function_7565c_00002 | RUNNING    | 172.28.0.12:41646 |                8 |      0.00269814 |        |                  |                    |          |\n",
            "| objective_function_7565c_00003 | RUNNING    | 172.28.0.12:41680 |               16 |      0.00566054 |        |                  |                    |          |\n",
            "| objective_function_7565c_00004 | PENDING    |                   |               32 |      0.662215   |        |                  |                    |          |\n",
            "| objective_function_7565c_00000 | TERMINATED | 172.28.0.12:41646 |                8 |      0.428019   |      1 |          33.8215 |             0.2713 |   0.2713 |\n",
            "| objective_function_7565c_00001 | TERMINATED | 172.28.0.12:41680 |                8 |      0.207121   |      1 |          34.354  |             0.257  |   0.257  |\n",
            "+--------------------------------+------------+-------------------+------------------+-----------------+--------+------------------+--------------------+----------+\n",
            "\n",
            "\n",
            "Result for objective_function_7565c_00003:\n",
            "  best_valid_result:\n",
            "    hit@10: 0.7466\n",
            "    mrr@10: 0.3862\n",
            "    ndcg@10: 0.227\n",
            "    precision@10: 0.1566\n",
            "    recall@10: 0.2087\n",
            "  best_valid_score: 0.3862\n",
            "  date: 2023-06-10_15-58-41\n",
            "  done: false\n",
            "  hostname: 389c9d6dbd38\n",
            "  iterations_since_restore: 1\n",
            "  model: BPR\n",
            "  mrr@10: 0.3862\n",
            "  node_ip: 172.28.0.12\n",
            "  pid: 41680\n",
            "  test_result:\n",
            "    hit@10: 0.7646\n",
            "    mrr@10: 0.4594\n",
            "    ndcg@10: 0.2723\n",
            "    precision@10: 0.1838\n",
            "    recall@10: 0.2273\n",
            "  time_since_restore: 38.78921556472778\n",
            "  time_this_iter_s: 38.78921556472778\n",
            "  time_total_s: 38.78921556472778\n",
            "  timestamp: 1686412721\n",
            "  training_iteration: 1\n",
            "  trial_id: 7565c_00003\n",
            "  valid_score_bigger: true\n",
            "  \n",
            "Trial objective_function_7565c_00003 completed.\n",
            "== Status ==\n",
            "Current time: 2023-06-10 15:58:41 (running for 00:01:31.28)\n",
            "Using AsyncHyperBand: num_stopped=1\n",
            "Bracket: Iter 8.000: None | Iter 4.000: None | Iter 2.000: None | Iter 1.000: 0.2713\n",
            "Logical resource usage: 2.0/2 CPUs, 0/0 GPUs\n",
            "Result logdir: /content/ray_log/objective_function_2023-06-10_15-57-10\n",
            "Number of trials: 5/5 (2 RUNNING, 3 TERMINATED)\n",
            "+--------------------------------+------------+-------------------+------------------+-----------------+--------+------------------+--------------------+----------+\n",
            "| Trial name                     | status     | loc               |   embedding_size |   learning_rate |   iter |   total time (s) |   best_valid_score |   mrr@10 |\n",
            "|--------------------------------+------------+-------------------+------------------+-----------------+--------+------------------+--------------------+----------|\n",
            "| objective_function_7565c_00002 | RUNNING    | 172.28.0.12:41646 |                8 |      0.00269814 |        |                  |                    |          |\n",
            "| objective_function_7565c_00004 | RUNNING    | 172.28.0.12:41680 |               32 |      0.662215   |        |                  |                    |          |\n",
            "| objective_function_7565c_00000 | TERMINATED | 172.28.0.12:41646 |                8 |      0.428019   |      1 |          33.8215 |             0.2713 |   0.2713 |\n",
            "| objective_function_7565c_00001 | TERMINATED | 172.28.0.12:41680 |                8 |      0.207121   |      1 |          34.354  |             0.257  |   0.257  |\n",
            "| objective_function_7565c_00003 | TERMINATED | 172.28.0.12:41680 |               16 |      0.00566054 |      1 |          38.7892 |             0.3862 |   0.3862 |\n",
            "+--------------------------------+------------+-------------------+------------------+-----------------+--------+------------------+--------------------+----------+\n",
            "\n",
            "\n",
            "== Status ==\n",
            "Current time: 2023-06-10 15:58:46 (running for 00:01:36.32)\n",
            "Using AsyncHyperBand: num_stopped=1\n",
            "Bracket: Iter 8.000: None | Iter 4.000: None | Iter 2.000: None | Iter 1.000: 0.2713\n",
            "Logical resource usage: 2.0/2 CPUs, 0/0 GPUs\n",
            "Result logdir: /content/ray_log/objective_function_2023-06-10_15-57-10\n",
            "Number of trials: 5/5 (2 RUNNING, 3 TERMINATED)\n",
            "+--------------------------------+------------+-------------------+------------------+-----------------+--------+------------------+--------------------+----------+\n",
            "| Trial name                     | status     | loc               |   embedding_size |   learning_rate |   iter |   total time (s) |   best_valid_score |   mrr@10 |\n",
            "|--------------------------------+------------+-------------------+------------------+-----------------+--------+------------------+--------------------+----------|\n",
            "| objective_function_7565c_00002 | RUNNING    | 172.28.0.12:41646 |                8 |      0.00269814 |        |                  |                    |          |\n",
            "| objective_function_7565c_00004 | RUNNING    | 172.28.0.12:41680 |               32 |      0.662215   |        |                  |                    |          |\n",
            "| objective_function_7565c_00000 | TERMINATED | 172.28.0.12:41646 |                8 |      0.428019   |      1 |          33.8215 |             0.2713 |   0.2713 |\n",
            "| objective_function_7565c_00001 | TERMINATED | 172.28.0.12:41680 |                8 |      0.207121   |      1 |          34.354  |             0.257  |   0.257  |\n",
            "| objective_function_7565c_00003 | TERMINATED | 172.28.0.12:41680 |               16 |      0.00566054 |      1 |          38.7892 |             0.3862 |   0.3862 |\n",
            "+--------------------------------+------------+-------------------+------------------+-----------------+--------+------------------+--------------------+----------+\n",
            "\n",
            "\n",
            "== Status ==\n",
            "Current time: 2023-06-10 15:58:51 (running for 00:01:41.37)\n",
            "Using AsyncHyperBand: num_stopped=1\n",
            "Bracket: Iter 8.000: None | Iter 4.000: None | Iter 2.000: None | Iter 1.000: 0.2713\n",
            "Logical resource usage: 2.0/2 CPUs, 0/0 GPUs\n",
            "Result logdir: /content/ray_log/objective_function_2023-06-10_15-57-10\n",
            "Number of trials: 5/5 (2 RUNNING, 3 TERMINATED)\n",
            "+--------------------------------+------------+-------------------+------------------+-----------------+--------+------------------+--------------------+----------+\n",
            "| Trial name                     | status     | loc               |   embedding_size |   learning_rate |   iter |   total time (s) |   best_valid_score |   mrr@10 |\n",
            "|--------------------------------+------------+-------------------+------------------+-----------------+--------+------------------+--------------------+----------|\n",
            "| objective_function_7565c_00002 | RUNNING    | 172.28.0.12:41646 |                8 |      0.00269814 |        |                  |                    |          |\n",
            "| objective_function_7565c_00004 | RUNNING    | 172.28.0.12:41680 |               32 |      0.662215   |        |                  |                    |          |\n",
            "| objective_function_7565c_00000 | TERMINATED | 172.28.0.12:41646 |                8 |      0.428019   |      1 |          33.8215 |             0.2713 |   0.2713 |\n",
            "| objective_function_7565c_00001 | TERMINATED | 172.28.0.12:41680 |                8 |      0.207121   |      1 |          34.354  |             0.257  |   0.257  |\n",
            "| objective_function_7565c_00003 | TERMINATED | 172.28.0.12:41680 |               16 |      0.00566054 |      1 |          38.7892 |             0.3862 |   0.3862 |\n",
            "+--------------------------------+------------+-------------------+------------------+-----------------+--------+------------------+--------------------+----------+\n",
            "\n",
            "\n",
            "== Status ==\n",
            "Current time: 2023-06-10 15:58:57 (running for 00:01:46.43)\n",
            "Using AsyncHyperBand: num_stopped=1\n",
            "Bracket: Iter 8.000: None | Iter 4.000: None | Iter 2.000: None | Iter 1.000: 0.2713\n",
            "Logical resource usage: 2.0/2 CPUs, 0/0 GPUs\n",
            "Result logdir: /content/ray_log/objective_function_2023-06-10_15-57-10\n",
            "Number of trials: 5/5 (2 RUNNING, 3 TERMINATED)\n",
            "+--------------------------------+------------+-------------------+------------------+-----------------+--------+------------------+--------------------+----------+\n",
            "| Trial name                     | status     | loc               |   embedding_size |   learning_rate |   iter |   total time (s) |   best_valid_score |   mrr@10 |\n",
            "|--------------------------------+------------+-------------------+------------------+-----------------+--------+------------------+--------------------+----------|\n",
            "| objective_function_7565c_00002 | RUNNING    | 172.28.0.12:41646 |                8 |      0.00269814 |        |                  |                    |          |\n",
            "| objective_function_7565c_00004 | RUNNING    | 172.28.0.12:41680 |               32 |      0.662215   |        |                  |                    |          |\n",
            "| objective_function_7565c_00000 | TERMINATED | 172.28.0.12:41646 |                8 |      0.428019   |      1 |          33.8215 |             0.2713 |   0.2713 |\n",
            "| objective_function_7565c_00001 | TERMINATED | 172.28.0.12:41680 |                8 |      0.207121   |      1 |          34.354  |             0.257  |   0.257  |\n",
            "| objective_function_7565c_00003 | TERMINATED | 172.28.0.12:41680 |               16 |      0.00566054 |      1 |          38.7892 |             0.3862 |   0.3862 |\n",
            "+--------------------------------+------------+-------------------+------------------+-----------------+--------+------------------+--------------------+----------+\n",
            "\n",
            "\n",
            "== Status ==\n",
            "Current time: 2023-06-10 15:59:02 (running for 00:01:51.50)\n",
            "Using AsyncHyperBand: num_stopped=1\n",
            "Bracket: Iter 8.000: None | Iter 4.000: None | Iter 2.000: None | Iter 1.000: 0.2713\n",
            "Logical resource usage: 2.0/2 CPUs, 0/0 GPUs\n",
            "Result logdir: /content/ray_log/objective_function_2023-06-10_15-57-10\n",
            "Number of trials: 5/5 (2 RUNNING, 3 TERMINATED)\n",
            "+--------------------------------+------------+-------------------+------------------+-----------------+--------+------------------+--------------------+----------+\n",
            "| Trial name                     | status     | loc               |   embedding_size |   learning_rate |   iter |   total time (s) |   best_valid_score |   mrr@10 |\n",
            "|--------------------------------+------------+-------------------+------------------+-----------------+--------+------------------+--------------------+----------|\n",
            "| objective_function_7565c_00002 | RUNNING    | 172.28.0.12:41646 |                8 |      0.00269814 |        |                  |                    |          |\n",
            "| objective_function_7565c_00004 | RUNNING    | 172.28.0.12:41680 |               32 |      0.662215   |        |                  |                    |          |\n",
            "| objective_function_7565c_00000 | TERMINATED | 172.28.0.12:41646 |                8 |      0.428019   |      1 |          33.8215 |             0.2713 |   0.2713 |\n",
            "| objective_function_7565c_00001 | TERMINATED | 172.28.0.12:41680 |                8 |      0.207121   |      1 |          34.354  |             0.257  |   0.257  |\n",
            "| objective_function_7565c_00003 | TERMINATED | 172.28.0.12:41680 |               16 |      0.00566054 |      1 |          38.7892 |             0.3862 |   0.3862 |\n",
            "+--------------------------------+------------+-------------------+------------------+-----------------+--------+------------------+--------------------+----------+\n",
            "\n",
            "\n",
            "Result for objective_function_7565c_00002:\n",
            "  best_valid_result:\n",
            "    hit@10: 0.6882\n",
            "    mrr@10: 0.3671\n",
            "    ndcg@10: 0.2085\n",
            "    precision@10: 0.1432\n",
            "    recall@10: 0.1838\n",
            "  best_valid_score: 0.3671\n",
            "  date: 2023-06-10_15-59-06\n",
            "  done: false\n",
            "  hostname: 389c9d6dbd38\n",
            "  iterations_since_restore: 1\n",
            "  model: BPR\n",
            "  mrr@10: 0.3671\n",
            "  node_ip: 172.28.0.12\n",
            "  pid: 41646\n",
            "  test_result:\n",
            "    hit@10: 0.7391\n",
            "    mrr@10: 0.4263\n",
            "    ndcg@10: 0.2582\n",
            "    precision@10: 0.1791\n",
            "    recall@10: 0.2214\n",
            "  time_since_restore: 66.03488993644714\n",
            "  time_this_iter_s: 66.03488993644714\n",
            "  time_total_s: 66.03488993644714\n",
            "  timestamp: 1686412746\n",
            "  training_iteration: 1\n",
            "  trial_id: 7565c_00002\n",
            "  valid_score_bigger: true\n",
            "  \n",
            "Trial objective_function_7565c_00002 completed.\n",
            "== Status ==\n",
            "Current time: 2023-06-10 15:59:07 (running for 00:01:56.52)\n",
            "Using AsyncHyperBand: num_stopped=1\n",
            "Bracket: Iter 8.000: None | Iter 4.000: None | Iter 2.000: None | Iter 1.000: 0.3192\n",
            "Logical resource usage: 1.0/2 CPUs, 0/0 GPUs\n",
            "Result logdir: /content/ray_log/objective_function_2023-06-10_15-57-10\n",
            "Number of trials: 5/5 (1 RUNNING, 4 TERMINATED)\n",
            "+--------------------------------+------------+-------------------+------------------+-----------------+--------+------------------+--------------------+----------+\n",
            "| Trial name                     | status     | loc               |   embedding_size |   learning_rate |   iter |   total time (s) |   best_valid_score |   mrr@10 |\n",
            "|--------------------------------+------------+-------------------+------------------+-----------------+--------+------------------+--------------------+----------|\n",
            "| objective_function_7565c_00004 | RUNNING    | 172.28.0.12:41680 |               32 |      0.662215   |        |                  |                    |          |\n",
            "| objective_function_7565c_00000 | TERMINATED | 172.28.0.12:41646 |                8 |      0.428019   |      1 |          33.8215 |             0.2713 |   0.2713 |\n",
            "| objective_function_7565c_00001 | TERMINATED | 172.28.0.12:41680 |                8 |      0.207121   |      1 |          34.354  |             0.257  |   0.257  |\n",
            "| objective_function_7565c_00002 | TERMINATED | 172.28.0.12:41646 |                8 |      0.00269814 |      1 |          66.0349 |             0.3671 |   0.3671 |\n",
            "| objective_function_7565c_00003 | TERMINATED | 172.28.0.12:41680 |               16 |      0.00566054 |      1 |          38.7892 |             0.3862 |   0.3862 |\n",
            "+--------------------------------+------------+-------------------+------------------+-----------------+--------+------------------+--------------------+----------+\n",
            "\n",
            "\n",
            "== Status ==\n",
            "Current time: 2023-06-10 15:59:12 (running for 00:02:01.60)\n",
            "Using AsyncHyperBand: num_stopped=1\n",
            "Bracket: Iter 8.000: None | Iter 4.000: None | Iter 2.000: None | Iter 1.000: 0.3192\n",
            "Logical resource usage: 1.0/2 CPUs, 0/0 GPUs\n",
            "Result logdir: /content/ray_log/objective_function_2023-06-10_15-57-10\n",
            "Number of trials: 5/5 (1 RUNNING, 4 TERMINATED)\n",
            "+--------------------------------+------------+-------------------+------------------+-----------------+--------+------------------+--------------------+----------+\n",
            "| Trial name                     | status     | loc               |   embedding_size |   learning_rate |   iter |   total time (s) |   best_valid_score |   mrr@10 |\n",
            "|--------------------------------+------------+-------------------+------------------+-----------------+--------+------------------+--------------------+----------|\n",
            "| objective_function_7565c_00004 | RUNNING    | 172.28.0.12:41680 |               32 |      0.662215   |        |                  |                    |          |\n",
            "| objective_function_7565c_00000 | TERMINATED | 172.28.0.12:41646 |                8 |      0.428019   |      1 |          33.8215 |             0.2713 |   0.2713 |\n",
            "| objective_function_7565c_00001 | TERMINATED | 172.28.0.12:41680 |                8 |      0.207121   |      1 |          34.354  |             0.257  |   0.257  |\n",
            "| objective_function_7565c_00002 | TERMINATED | 172.28.0.12:41646 |                8 |      0.00269814 |      1 |          66.0349 |             0.3671 |   0.3671 |\n",
            "| objective_function_7565c_00003 | TERMINATED | 172.28.0.12:41680 |               16 |      0.00566054 |      1 |          38.7892 |             0.3862 |   0.3862 |\n",
            "+--------------------------------+------------+-------------------+------------------+-----------------+--------+------------------+--------------------+----------+\n",
            "\n",
            "\n",
            "== Status ==\n",
            "Current time: 2023-06-10 15:59:17 (running for 00:02:06.66)\n",
            "Using AsyncHyperBand: num_stopped=1\n",
            "Bracket: Iter 8.000: None | Iter 4.000: None | Iter 2.000: None | Iter 1.000: 0.3192\n",
            "Logical resource usage: 1.0/2 CPUs, 0/0 GPUs\n",
            "Result logdir: /content/ray_log/objective_function_2023-06-10_15-57-10\n",
            "Number of trials: 5/5 (1 RUNNING, 4 TERMINATED)\n",
            "+--------------------------------+------------+-------------------+------------------+-----------------+--------+------------------+--------------------+----------+\n",
            "| Trial name                     | status     | loc               |   embedding_size |   learning_rate |   iter |   total time (s) |   best_valid_score |   mrr@10 |\n",
            "|--------------------------------+------------+-------------------+------------------+-----------------+--------+------------------+--------------------+----------|\n",
            "| objective_function_7565c_00004 | RUNNING    | 172.28.0.12:41680 |               32 |      0.662215   |        |                  |                    |          |\n",
            "| objective_function_7565c_00000 | TERMINATED | 172.28.0.12:41646 |                8 |      0.428019   |      1 |          33.8215 |             0.2713 |   0.2713 |\n",
            "| objective_function_7565c_00001 | TERMINATED | 172.28.0.12:41680 |                8 |      0.207121   |      1 |          34.354  |             0.257  |   0.257  |\n",
            "| objective_function_7565c_00002 | TERMINATED | 172.28.0.12:41646 |                8 |      0.00269814 |      1 |          66.0349 |             0.3671 |   0.3671 |\n",
            "| objective_function_7565c_00003 | TERMINATED | 172.28.0.12:41680 |               16 |      0.00566054 |      1 |          38.7892 |             0.3862 |   0.3862 |\n",
            "+--------------------------------+------------+-------------------+------------------+-----------------+--------+------------------+--------------------+----------+\n",
            "\n",
            "\n",
            "== Status ==\n",
            "Current time: 2023-06-10 15:59:22 (running for 00:02:11.71)\n",
            "Using AsyncHyperBand: num_stopped=1\n",
            "Bracket: Iter 8.000: None | Iter 4.000: None | Iter 2.000: None | Iter 1.000: 0.3192\n",
            "Logical resource usage: 1.0/2 CPUs, 0/0 GPUs\n",
            "Result logdir: /content/ray_log/objective_function_2023-06-10_15-57-10\n",
            "Number of trials: 5/5 (1 RUNNING, 4 TERMINATED)\n",
            "+--------------------------------+------------+-------------------+------------------+-----------------+--------+------------------+--------------------+----------+\n",
            "| Trial name                     | status     | loc               |   embedding_size |   learning_rate |   iter |   total time (s) |   best_valid_score |   mrr@10 |\n",
            "|--------------------------------+------------+-------------------+------------------+-----------------+--------+------------------+--------------------+----------|\n",
            "| objective_function_7565c_00004 | RUNNING    | 172.28.0.12:41680 |               32 |      0.662215   |        |                  |                    |          |\n",
            "| objective_function_7565c_00000 | TERMINATED | 172.28.0.12:41646 |                8 |      0.428019   |      1 |          33.8215 |             0.2713 |   0.2713 |\n",
            "| objective_function_7565c_00001 | TERMINATED | 172.28.0.12:41680 |                8 |      0.207121   |      1 |          34.354  |             0.257  |   0.257  |\n",
            "| objective_function_7565c_00002 | TERMINATED | 172.28.0.12:41646 |                8 |      0.00269814 |      1 |          66.0349 |             0.3671 |   0.3671 |\n",
            "| objective_function_7565c_00003 | TERMINATED | 172.28.0.12:41680 |               16 |      0.00566054 |      1 |          38.7892 |             0.3862 |   0.3862 |\n",
            "+--------------------------------+------------+-------------------+------------------+-----------------+--------+------------------+--------------------+----------+\n",
            "\n",
            "\n",
            "== Status ==\n",
            "Current time: 2023-06-10 15:59:27 (running for 00:02:16.77)\n",
            "Using AsyncHyperBand: num_stopped=1\n",
            "Bracket: Iter 8.000: None | Iter 4.000: None | Iter 2.000: None | Iter 1.000: 0.3192\n",
            "Logical resource usage: 1.0/2 CPUs, 0/0 GPUs\n",
            "Result logdir: /content/ray_log/objective_function_2023-06-10_15-57-10\n",
            "Number of trials: 5/5 (1 RUNNING, 4 TERMINATED)\n",
            "+--------------------------------+------------+-------------------+------------------+-----------------+--------+------------------+--------------------+----------+\n",
            "| Trial name                     | status     | loc               |   embedding_size |   learning_rate |   iter |   total time (s) |   best_valid_score |   mrr@10 |\n",
            "|--------------------------------+------------+-------------------+------------------+-----------------+--------+------------------+--------------------+----------|\n",
            "| objective_function_7565c_00004 | RUNNING    | 172.28.0.12:41680 |               32 |      0.662215   |        |                  |                    |          |\n",
            "| objective_function_7565c_00000 | TERMINATED | 172.28.0.12:41646 |                8 |      0.428019   |      1 |          33.8215 |             0.2713 |   0.2713 |\n",
            "| objective_function_7565c_00001 | TERMINATED | 172.28.0.12:41680 |                8 |      0.207121   |      1 |          34.354  |             0.257  |   0.257  |\n",
            "| objective_function_7565c_00002 | TERMINATED | 172.28.0.12:41646 |                8 |      0.00269814 |      1 |          66.0349 |             0.3671 |   0.3671 |\n",
            "| objective_function_7565c_00003 | TERMINATED | 172.28.0.12:41680 |               16 |      0.00566054 |      1 |          38.7892 |             0.3862 |   0.3862 |\n",
            "+--------------------------------+------------+-------------------+------------------+-----------------+--------+------------------+--------------------+----------+\n",
            "\n",
            "\n",
            "Result for objective_function_7565c_00004:\n",
            "  best_valid_result:\n",
            "    hit@10: 0.4602\n",
            "    mrr@10: 0.2101\n",
            "    ndcg@10: 0.1009\n",
            "    precision@10: 0.0701\n",
            "    recall@10: 0.0841\n",
            "  best_valid_score: 0.2101\n",
            "  date: 2023-06-10_15-59-29\n",
            "  done: true\n",
            "  hostname: 389c9d6dbd38\n",
            "  iterations_since_restore: 1\n",
            "  model: BPR\n",
            "  mrr@10: 0.2101\n",
            "  node_ip: 172.28.0.12\n",
            "  pid: 41680\n",
            "  test_result:\n",
            "    hit@10: 0.4655\n",
            "    mrr@10: 0.1951\n",
            "    ndcg@10: 0.1036\n",
            "    precision@10: 0.0782\n",
            "    recall@10: 0.0884\n",
            "  time_since_restore: 48.51164960861206\n",
            "  time_this_iter_s: 48.51164960861206\n",
            "  time_total_s: 48.51164960861206\n",
            "  timestamp: 1686412769\n",
            "  training_iteration: 1\n",
            "  trial_id: 7565c_00004\n",
            "  valid_score_bigger: true\n",
            "  \n",
            "Trial objective_function_7565c_00004 completed.\n",
            "== Status ==\n",
            "Current time: 2023-06-10 15:59:29 (running for 00:02:19.12)\n",
            "Using AsyncHyperBand: num_stopped=2\n",
            "Bracket: Iter 8.000: None | Iter 4.000: None | Iter 2.000: None | Iter 1.000: 0.2713\n",
            "Logical resource usage: 1.0/2 CPUs, 0/0 GPUs\n",
            "Result logdir: /content/ray_log/objective_function_2023-06-10_15-57-10\n",
            "Number of trials: 5/5 (5 TERMINATED)\n",
            "+--------------------------------+------------+-------------------+------------------+-----------------+--------+------------------+--------------------+----------+\n",
            "| Trial name                     | status     | loc               |   embedding_size |   learning_rate |   iter |   total time (s) |   best_valid_score |   mrr@10 |\n",
            "|--------------------------------+------------+-------------------+------------------+-----------------+--------+------------------+--------------------+----------|\n",
            "| objective_function_7565c_00000 | TERMINATED | 172.28.0.12:41646 |                8 |      0.428019   |      1 |          33.8215 |             0.2713 |   0.2713 |\n",
            "| objective_function_7565c_00001 | TERMINATED | 172.28.0.12:41680 |                8 |      0.207121   |      1 |          34.354  |             0.257  |   0.257  |\n",
            "| objective_function_7565c_00002 | TERMINATED | 172.28.0.12:41646 |                8 |      0.00269814 |      1 |          66.0349 |             0.3671 |   0.3671 |\n",
            "| objective_function_7565c_00003 | TERMINATED | 172.28.0.12:41680 |               16 |      0.00566054 |      1 |          38.7892 |             0.3862 |   0.3862 |\n",
            "| objective_function_7565c_00004 | TERMINATED | 172.28.0.12:41680 |               32 |      0.662215   |      1 |          48.5116 |             0.2101 |   0.2101 |\n",
            "+--------------------------------+------------+-------------------+------------------+-----------------+--------+------------------+--------------------+----------+\n",
            "\n",
            "\n"
          ]
        },
        {
          "output_type": "stream",
          "name": "stderr",
          "text": [
            "2023-06-10 15:59:29,719\tINFO tune.py:1111 -- Total run time: 139.17 seconds (139.11 seconds for the tuning loop).\n"
          ]
        },
        {
          "output_type": "stream",
          "name": "stdout",
          "text": [
            "best params:  {'learning_rate': 0.005660537073988653, 'embedding_size': 16}\n",
            "best result:  {'model': 'BPR', 'best_valid_score': 0.3862, 'valid_score_bigger': True, 'best_valid_result': OrderedDict([('recall@10', 0.2087), ('mrr@10', 0.3862), ('ndcg@10', 0.227), ('hit@10', 0.7466), ('precision@10', 0.1566)]), 'test_result': OrderedDict([('recall@10', 0.2273), ('mrr@10', 0.4594), ('ndcg@10', 0.2723), ('hit@10', 0.7646), ('precision@10', 0.1838)]), 'mrr@10': 0.3862, 'time_this_iter_s': 38.78921556472778, 'done': True, 'training_iteration': 1, 'trial_id': '7565c_00003', 'date': '2023-06-10_15-58-41', 'timestamp': 1686412721, 'time_total_s': 38.78921556472778, 'pid': 41680, 'hostname': '389c9d6dbd38', 'node_ip': '172.28.0.12', 'config': {'learning_rate': 0.005660537073988653, 'embedding_size': 16}, 'time_since_restore': 38.78921556472778, 'iterations_since_restore': 1, 'experiment_tag': '3_embedding_size=16,learning_rate=0.0057'}\n"
          ]
        }
      ]
    },
    {
      "cell_type": "code",
      "source": [],
      "metadata": {
        "id": "DBYaHo_7xmZx"
      },
      "execution_count": null,
      "outputs": []
    },
    {
      "cell_type": "code",
      "source": [],
      "metadata": {
        "id": "CpnlJnfSxmXe"
      },
      "execution_count": null,
      "outputs": []
    },
    {
      "cell_type": "code",
      "source": [],
      "metadata": {
        "id": "nTIKhvgsxmVC"
      },
      "execution_count": null,
      "outputs": []
    },
    {
      "cell_type": "code",
      "source": [],
      "metadata": {
        "id": "NM3pcxbhxmSq"
      },
      "execution_count": null,
      "outputs": []
    },
    {
      "cell_type": "code",
      "source": [],
      "metadata": {
        "id": "PSjYOPI8xmQf"
      },
      "execution_count": null,
      "outputs": []
    },
    {
      "cell_type": "code",
      "source": [],
      "metadata": {
        "id": "jYcfRgBklXiI"
      },
      "execution_count": null,
      "outputs": []
    }
  ]
}