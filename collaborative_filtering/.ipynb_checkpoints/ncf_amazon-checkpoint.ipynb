{
 "cells": [
  {
   "cell_type": "markdown",
   "id": "0412f542",
   "metadata": {},
   "source": [
    "# Neural Collaborative Filtering - Amazon Review Dataset"
   ]
  },
  {
   "cell_type": "markdown",
   "id": "f72eeea3",
   "metadata": {},
   "source": [
    "## Imports and Global Variables"
   ]
  },
  {
   "cell_type": "code",
   "execution_count": 1,
   "id": "e731568b",
   "metadata": {},
   "outputs": [],
   "source": [
    "import pandas as pd\n",
    "\n",
    "from recommenders.models.ncf.ncf_singlenode import NCF\n",
    "from recommenders.datasets.ncd import Dataset as NCFDataset\n",
    "from recommenders.datasets.python_splitters import python_chrono_split"
   ]
  },
  {
   "cell_type": "code",
   "execution_count": 2,
   "id": "3a8dcc6d",
   "metadata": {},
   "outputs": [],
   "source": [
    "DATA_PATH = \"../data/amazon_reviews/Office_Products.csv\"\n",
    "TRAIN_FILE = \"train.csv\"\n",
    "TEST_FILE = \"test.csv\"\n",
    "LOO_TEST_FILE = \"loo_test.csv\"\n",
    "\n",
    "MIN_REVIEWS = 15\n",
    "SEED = 42\n",
    "EPOCHS = 100 \n",
    "BATCH_SIZE = 256"
   ]
  },
  {
   "cell_type": "markdown",
   "id": "465a9a62",
   "metadata": {},
   "source": [
    "## Data"
   ]
  },
  {
   "cell_type": "code",
   "execution_count": 3,
   "id": "3f6a81fc",
   "metadata": {},
   "outputs": [
    {
     "data": {
      "text/html": [
       "<div>\n",
       "<style scoped>\n",
       "    .dataframe tbody tr th:only-of-type {\n",
       "        vertical-align: middle;\n",
       "    }\n",
       "\n",
       "    .dataframe tbody tr th {\n",
       "        vertical-align: top;\n",
       "    }\n",
       "\n",
       "    .dataframe thead th {\n",
       "        text-align: right;\n",
       "    }\n",
       "</style>\n",
       "<table border=\"1\" class=\"dataframe\">\n",
       "  <thead>\n",
       "    <tr style=\"text-align: right;\">\n",
       "      <th></th>\n",
       "      <th>itemID</th>\n",
       "      <th>userID</th>\n",
       "      <th>rating</th>\n",
       "      <th>timestamp</th>\n",
       "    </tr>\n",
       "  </thead>\n",
       "  <tbody>\n",
       "    <tr>\n",
       "      <th>0</th>\n",
       "      <td>0140503528</td>\n",
       "      <td>A2WJLOXXIB7NF3</td>\n",
       "      <td>3.0</td>\n",
       "      <td>1162512000</td>\n",
       "    </tr>\n",
       "    <tr>\n",
       "      <th>1</th>\n",
       "      <td>0140503528</td>\n",
       "      <td>A1RKICUK0GG6VF</td>\n",
       "      <td>5.0</td>\n",
       "      <td>1147132800</td>\n",
       "    </tr>\n",
       "    <tr>\n",
       "      <th>2</th>\n",
       "      <td>0140503528</td>\n",
       "      <td>A1QA5E50M398VW</td>\n",
       "      <td>5.0</td>\n",
       "      <td>1142035200</td>\n",
       "    </tr>\n",
       "    <tr>\n",
       "      <th>3</th>\n",
       "      <td>0140503528</td>\n",
       "      <td>A3N0HBW8IP8CZQ</td>\n",
       "      <td>5.0</td>\n",
       "      <td>980294400</td>\n",
       "    </tr>\n",
       "    <tr>\n",
       "      <th>4</th>\n",
       "      <td>0140503528</td>\n",
       "      <td>A1K1JW1C5CUSUZ</td>\n",
       "      <td>5.0</td>\n",
       "      <td>964915200</td>\n",
       "    </tr>\n",
       "    <tr>\n",
       "      <th>...</th>\n",
       "      <td>...</td>\n",
       "      <td>...</td>\n",
       "      <td>...</td>\n",
       "      <td>...</td>\n",
       "    </tr>\n",
       "    <tr>\n",
       "      <th>5581308</th>\n",
       "      <td>B01HJF6JIA</td>\n",
       "      <td>A1MZM2RPZNEAV7</td>\n",
       "      <td>5.0</td>\n",
       "      <td>1519084800</td>\n",
       "    </tr>\n",
       "    <tr>\n",
       "      <th>5581309</th>\n",
       "      <td>B01HJF6JIA</td>\n",
       "      <td>A3MY8HH0ZQDXIL</td>\n",
       "      <td>5.0</td>\n",
       "      <td>1513641600</td>\n",
       "    </tr>\n",
       "    <tr>\n",
       "      <th>5581310</th>\n",
       "      <td>B01HJF6JIA</td>\n",
       "      <td>A1FNE2AS2H4UCN</td>\n",
       "      <td>5.0</td>\n",
       "      <td>1507766400</td>\n",
       "    </tr>\n",
       "    <tr>\n",
       "      <th>5581311</th>\n",
       "      <td>B01HJF6JIA</td>\n",
       "      <td>A13K8XJJE5OWBJ</td>\n",
       "      <td>5.0</td>\n",
       "      <td>1507680000</td>\n",
       "    </tr>\n",
       "    <tr>\n",
       "      <th>5581312</th>\n",
       "      <td>B01HJF6JIA</td>\n",
       "      <td>A3IN62EIHVZY9N</td>\n",
       "      <td>1.0</td>\n",
       "      <td>1492819200</td>\n",
       "    </tr>\n",
       "  </tbody>\n",
       "</table>\n",
       "<p>5581313 rows × 4 columns</p>\n",
       "</div>"
      ],
      "text/plain": [
       "             itemID          userID  rating   timestamp\n",
       "0        0140503528  A2WJLOXXIB7NF3     3.0  1162512000\n",
       "1        0140503528  A1RKICUK0GG6VF     5.0  1147132800\n",
       "2        0140503528  A1QA5E50M398VW     5.0  1142035200\n",
       "3        0140503528  A3N0HBW8IP8CZQ     5.0   980294400\n",
       "4        0140503528  A1K1JW1C5CUSUZ     5.0   964915200\n",
       "...             ...             ...     ...         ...\n",
       "5581308  B01HJF6JIA  A1MZM2RPZNEAV7     5.0  1519084800\n",
       "5581309  B01HJF6JIA  A3MY8HH0ZQDXIL     5.0  1513641600\n",
       "5581310  B01HJF6JIA  A1FNE2AS2H4UCN     5.0  1507766400\n",
       "5581311  B01HJF6JIA  A13K8XJJE5OWBJ     5.0  1507680000\n",
       "5581312  B01HJF6JIA  A3IN62EIHVZY9N     1.0  1492819200\n",
       "\n",
       "[5581313 rows x 4 columns]"
      ]
     },
     "execution_count": 3,
     "metadata": {},
     "output_type": "execute_result"
    }
   ],
   "source": [
    "# Load Dataframe\n",
    "df = pd.read_csv(DATA_PATH, names=[\"itemID\", \"userID\", \"rating\", \"timestamp\"])\n",
    "df"
   ]
  },
  {
   "cell_type": "code",
   "execution_count": 4,
   "id": "77d3463e",
   "metadata": {},
   "outputs": [
    {
     "data": {
      "text/plain": [
       "itemID        306800\n",
       "userID       3404914\n",
       "rating             5\n",
       "timestamp       6985\n",
       "dtype: int64"
      ]
     },
     "execution_count": 4,
     "metadata": {},
     "output_type": "execute_result"
    }
   ],
   "source": [
    "# Look at number of unqiue column values\n",
    "df.nunique()"
   ]
  },
  {
   "cell_type": "code",
   "execution_count": 5,
   "id": "c7ceca07",
   "metadata": {},
   "outputs": [
    {
     "data": {
      "text/plain": [
       "A3TTVIQ9RRHNIB    438\n",
       "AC5HC2TJVWOFT     339\n",
       "A3OXHLG6DIBRW8    337\n",
       "A3N77PJ4KP3CJP    285\n",
       "AVU1ILDDYW301     225\n",
       "                 ... \n",
       "A26XZ0XKDY68TI      1\n",
       "A3CRLM7USFSS13      1\n",
       "A17Y39FI2YVK0K      1\n",
       "A34RN56CII0XPS      1\n",
       "A13K8XJJE5OWBJ      1\n",
       "Name: userID, Length: 3404914, dtype: int64"
      ]
     },
     "execution_count": 5,
     "metadata": {},
     "output_type": "execute_result"
    }
   ],
   "source": [
    "# Get value counts per user id \n",
    "vc = df.userID.value_counts() \n",
    "\n",
    "# Filter only users with more reviews than MIN_REVIEWS \n",
    "df = df[df.userID.isin(vc[vc > MIN_REVIEWS].index)] "
   ]
  },
  {
   "cell_type": "code",
   "execution_count": 7,
   "id": "e21144b2",
   "metadata": {},
   "outputs": [],
   "source": [
    "# Split into train and test\n",
    "train, test = python_chrono_split(df, .75)\n",
    "\n",
    "# Filter out any users or items in test that do note appear in training set\n",
    "test = test[test[\"userID\"].isin(train[\"userID\"].unique())]\n",
    "test = test[test[\"itemID\"].isin(train[\"itemID\"].unique())]\n",
    "\n",
    "# Leave one out testing\n",
    "loo_test = test.groupby(\"userID\").last().reset_index()"
   ]
  },
  {
   "cell_type": "code",
   "execution_count": null,
   "id": "86397e29",
   "metadata": {},
   "outputs": [],
   "source": [
    "# Save datasets into csv files\n",
    "train.to_csv(TRAIN_FILE, index=False)\n",
    "test.to_csv(TEST_FILE, index=False)\n",
    "loo_test.to_csv(LOO_TEST_FILE, index=False)"
   ]
  },
  {
   "cell_type": "code",
   "execution_count": null,
   "id": "1184559c",
   "metadata": {},
   "outputs": [],
   "source": [
    "data = NCFDataset(train_file=TRAIN_FILE, test_file=LOO_TEST_FILE, seed=SEED, overwrite_test_file_full=True)"
   ]
  },
  {
   "cell_type": "markdown",
   "id": "96eeb424",
   "metadata": {},
   "source": [
    "## Model"
   ]
  },
  {
   "cell_type": "code",
   "execution_count": null,
   "id": "1eedbb2f",
   "metadata": {},
   "outputs": [],
   "source": [
    "model = NCF (\n",
    "    n_users=data.n_users, \n",
    "    n_items=data.n_items,\n",
    "    model_type=\"NeuMF\",\n",
    "    n_factors=4,\n",
    "    layer_sizes=[16,8,4],\n",
    "    n_epochs=EPOCHS,\n",
    "    batch_size=BATCH_SIZE,\n",
    "    learning_rate=1e-3,\n",
    "    verbose=10,\n",
    "    seed=SEED\n",
    ")"
   ]
  },
  {
   "cell_type": "code",
   "execution_count": null,
   "id": "08d521ec",
   "metadata": {},
   "outputs": [],
   "source": [
    "with Timer() as train_time:\n",
    "    model.fit(data)\n",
    "\n",
    "print(\"Took {} seconds for training.\".format(train_time.interval))"
   ]
  }
 ],
 "metadata": {
  "kernelspec": {
   "display_name": "recsys",
   "language": "python",
   "name": "recsys"
  },
  "language_info": {
   "codemirror_mode": {
    "name": "ipython",
    "version": 3
   },
   "file_extension": ".py",
   "mimetype": "text/x-python",
   "name": "python",
   "nbconvert_exporter": "python",
   "pygments_lexer": "ipython3",
   "version": "3.7.13"
  }
 },
 "nbformat": 4,
 "nbformat_minor": 5
}
