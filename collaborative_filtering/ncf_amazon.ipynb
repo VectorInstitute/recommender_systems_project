{
 "cells": [
  {
   "cell_type": "markdown",
   "id": "92600fc2",
   "metadata": {},
   "source": [
    "# Neural Collaborative Filtering - Amazon Review Dataset"
   ]
  },
  {
   "cell_type": "markdown",
   "id": "f3d15d40",
   "metadata": {},
   "source": [
    "## Imports and Global Variables"
   ]
  },
  {
   "cell_type": "code",
   "execution_count": 1,
   "id": "5942a757",
   "metadata": {},
   "outputs": [],
   "source": [
    "import pandas as pd\n",
    "\n",
    "from recommenders.models.ncf.dataset import Dataset as NCFDataset\n",
    "from recommenders.datasets.python_splitters import python_chrono_split"
   ]
  },
  {
   "cell_type": "code",
   "execution_count": 2,
   "id": "f1963397",
   "metadata": {},
   "outputs": [],
   "source": [
    "DATA_PATH = \"../data/amazon_reviews/Instant_Video.csv\"\n",
    "TRAIN_FILE = \"train.csv\"\n",
    "TEST_FILE = \"test.csv\"\n",
    "LOO_TEST_FILE = \"loo_test.csv\"\n",
    "\n",
    "MIN_REVIEWS = 15\n",
    "SEED = 42\n",
    "EPOCHS = 100 \n",
    "BATCH_SIZE = 256"
   ]
  },
  {
   "cell_type": "markdown",
   "id": "41a5b0c8",
   "metadata": {},
   "source": [
    "## Data"
   ]
  },
  {
   "cell_type": "code",
   "execution_count": 3,
   "id": "1cc5036a",
   "metadata": {},
   "outputs": [
    {
     "data": {
      "text/html": [
       "<div>\n",
       "<style scoped>\n",
       "    .dataframe tbody tr th:only-of-type {\n",
       "        vertical-align: middle;\n",
       "    }\n",
       "\n",
       "    .dataframe tbody tr th {\n",
       "        vertical-align: top;\n",
       "    }\n",
       "\n",
       "    .dataframe thead th {\n",
       "        text-align: right;\n",
       "    }\n",
       "</style>\n",
       "<table border=\"1\" class=\"dataframe\">\n",
       "  <thead>\n",
       "    <tr style=\"text-align: right;\">\n",
       "      <th></th>\n",
       "      <th>itemID</th>\n",
       "      <th>userID</th>\n",
       "      <th>rating</th>\n",
       "      <th>timestamp</th>\n",
       "    </tr>\n",
       "  </thead>\n",
       "  <tbody>\n",
       "    <tr>\n",
       "      <th>0</th>\n",
       "      <td>A1EE2E3N7PW666</td>\n",
       "      <td>B000GFDAUG</td>\n",
       "      <td>5.0</td>\n",
       "      <td>1202256000</td>\n",
       "    </tr>\n",
       "    <tr>\n",
       "      <th>1</th>\n",
       "      <td>AGZ8SM1BGK3CK</td>\n",
       "      <td>B000GFDAUG</td>\n",
       "      <td>5.0</td>\n",
       "      <td>1198195200</td>\n",
       "    </tr>\n",
       "    <tr>\n",
       "      <th>2</th>\n",
       "      <td>A2VHZ21245KBT7</td>\n",
       "      <td>B000GIOPK2</td>\n",
       "      <td>4.0</td>\n",
       "      <td>1215388800</td>\n",
       "    </tr>\n",
       "    <tr>\n",
       "      <th>3</th>\n",
       "      <td>ACX8YW2D5EGP6</td>\n",
       "      <td>B000GIOPK2</td>\n",
       "      <td>4.0</td>\n",
       "      <td>1185840000</td>\n",
       "    </tr>\n",
       "    <tr>\n",
       "      <th>4</th>\n",
       "      <td>A9RNMO9MUSMTJ</td>\n",
       "      <td>B000GIOPK2</td>\n",
       "      <td>2.0</td>\n",
       "      <td>1281052800</td>\n",
       "    </tr>\n",
       "    <tr>\n",
       "      <th>...</th>\n",
       "      <td>...</td>\n",
       "      <td>...</td>\n",
       "      <td>...</td>\n",
       "      <td>...</td>\n",
       "    </tr>\n",
       "    <tr>\n",
       "      <th>583928</th>\n",
       "      <td>A9MBSKL8LTFN9</td>\n",
       "      <td>B00LTMHUW4</td>\n",
       "      <td>5.0</td>\n",
       "      <td>1405987200</td>\n",
       "    </tr>\n",
       "    <tr>\n",
       "      <th>583929</th>\n",
       "      <td>A3U3RFL0XE4F7V</td>\n",
       "      <td>B00LTMJ29S</td>\n",
       "      <td>4.0</td>\n",
       "      <td>1405382400</td>\n",
       "    </tr>\n",
       "    <tr>\n",
       "      <th>583930</th>\n",
       "      <td>AEO407GROR6JB</td>\n",
       "      <td>B00LU8ONBI</td>\n",
       "      <td>1.0</td>\n",
       "      <td>1405468800</td>\n",
       "    </tr>\n",
       "    <tr>\n",
       "      <th>583931</th>\n",
       "      <td>A2YXWWVABHWIXN</td>\n",
       "      <td>B00LU8ONBI</td>\n",
       "      <td>5.0</td>\n",
       "      <td>1405728000</td>\n",
       "    </tr>\n",
       "    <tr>\n",
       "      <th>583932</th>\n",
       "      <td>ANZJEQZRYUCBC</td>\n",
       "      <td>B00LXQXLGU</td>\n",
       "      <td>4.0</td>\n",
       "      <td>1405900800</td>\n",
       "    </tr>\n",
       "  </tbody>\n",
       "</table>\n",
       "<p>583933 rows × 4 columns</p>\n",
       "</div>"
      ],
      "text/plain": [
       "                itemID      userID  rating   timestamp\n",
       "0       A1EE2E3N7PW666  B000GFDAUG     5.0  1202256000\n",
       "1        AGZ8SM1BGK3CK  B000GFDAUG     5.0  1198195200\n",
       "2       A2VHZ21245KBT7  B000GIOPK2     4.0  1215388800\n",
       "3        ACX8YW2D5EGP6  B000GIOPK2     4.0  1185840000\n",
       "4        A9RNMO9MUSMTJ  B000GIOPK2     2.0  1281052800\n",
       "...                ...         ...     ...         ...\n",
       "583928   A9MBSKL8LTFN9  B00LTMHUW4     5.0  1405987200\n",
       "583929  A3U3RFL0XE4F7V  B00LTMJ29S     4.0  1405382400\n",
       "583930   AEO407GROR6JB  B00LU8ONBI     1.0  1405468800\n",
       "583931  A2YXWWVABHWIXN  B00LU8ONBI     5.0  1405728000\n",
       "583932   ANZJEQZRYUCBC  B00LXQXLGU     4.0  1405900800\n",
       "\n",
       "[583933 rows x 4 columns]"
      ]
     },
     "execution_count": 3,
     "metadata": {},
     "output_type": "execute_result"
    }
   ],
   "source": [
    "# Load Dataframe\n",
    "df = pd.read_csv(DATA_PATH, names=[\"itemID\", \"userID\", \"rating\", \"timestamp\"])\n",
    "df"
   ]
  },
  {
   "cell_type": "code",
   "execution_count": 4,
   "id": "16c38123",
   "metadata": {},
   "outputs": [
    {
     "data": {
      "text/html": [
       "<div>\n",
       "<style scoped>\n",
       "    .dataframe tbody tr th:only-of-type {\n",
       "        vertical-align: middle;\n",
       "    }\n",
       "\n",
       "    .dataframe tbody tr th {\n",
       "        vertical-align: top;\n",
       "    }\n",
       "\n",
       "    .dataframe thead th {\n",
       "        text-align: right;\n",
       "    }\n",
       "</style>\n",
       "<table border=\"1\" class=\"dataframe\">\n",
       "  <thead>\n",
       "    <tr style=\"text-align: right;\">\n",
       "      <th></th>\n",
       "      <th>itemID</th>\n",
       "      <th>userID</th>\n",
       "      <th>rating</th>\n",
       "      <th>timestamp</th>\n",
       "    </tr>\n",
       "  </thead>\n",
       "  <tbody>\n",
       "    <tr>\n",
       "      <th>0</th>\n",
       "      <td>45550</td>\n",
       "      <td>0</td>\n",
       "      <td>5.0</td>\n",
       "      <td>1202256000</td>\n",
       "    </tr>\n",
       "    <tr>\n",
       "      <th>1</th>\n",
       "      <td>367442</td>\n",
       "      <td>0</td>\n",
       "      <td>5.0</td>\n",
       "      <td>1198195200</td>\n",
       "    </tr>\n",
       "    <tr>\n",
       "      <th>2</th>\n",
       "      <td>212056</td>\n",
       "      <td>1</td>\n",
       "      <td>4.0</td>\n",
       "      <td>1215388800</td>\n",
       "    </tr>\n",
       "    <tr>\n",
       "      <th>3</th>\n",
       "      <td>354802</td>\n",
       "      <td>1</td>\n",
       "      <td>4.0</td>\n",
       "      <td>1185840000</td>\n",
       "    </tr>\n",
       "    <tr>\n",
       "      <th>4</th>\n",
       "      <td>344843</td>\n",
       "      <td>1</td>\n",
       "      <td>2.0</td>\n",
       "      <td>1281052800</td>\n",
       "    </tr>\n",
       "    <tr>\n",
       "      <th>...</th>\n",
       "      <td>...</td>\n",
       "      <td>...</td>\n",
       "      <td>...</td>\n",
       "      <td>...</td>\n",
       "    </tr>\n",
       "    <tr>\n",
       "      <th>583928</th>\n",
       "      <td>344395</td>\n",
       "      <td>23961</td>\n",
       "      <td>5.0</td>\n",
       "      <td>1405987200</td>\n",
       "    </tr>\n",
       "    <tr>\n",
       "      <th>583929</th>\n",
       "      <td>320050</td>\n",
       "      <td>23962</td>\n",
       "      <td>4.0</td>\n",
       "      <td>1405382400</td>\n",
       "    </tr>\n",
       "    <tr>\n",
       "      <th>583930</th>\n",
       "      <td>360238</td>\n",
       "      <td>23963</td>\n",
       "      <td>1.0</td>\n",
       "      <td>1405468800</td>\n",
       "    </tr>\n",
       "    <tr>\n",
       "      <th>583931</th>\n",
       "      <td>222722</td>\n",
       "      <td>23963</td>\n",
       "      <td>5.0</td>\n",
       "      <td>1405728000</td>\n",
       "    </tr>\n",
       "    <tr>\n",
       "      <th>583932</th>\n",
       "      <td>389399</td>\n",
       "      <td>23964</td>\n",
       "      <td>4.0</td>\n",
       "      <td>1405900800</td>\n",
       "    </tr>\n",
       "  </tbody>\n",
       "</table>\n",
       "<p>583933 rows × 4 columns</p>\n",
       "</div>"
      ],
      "text/plain": [
       "        itemID  userID  rating   timestamp\n",
       "0        45550       0     5.0  1202256000\n",
       "1       367442       0     5.0  1198195200\n",
       "2       212056       1     4.0  1215388800\n",
       "3       354802       1     4.0  1185840000\n",
       "4       344843       1     2.0  1281052800\n",
       "...        ...     ...     ...         ...\n",
       "583928  344395   23961     5.0  1405987200\n",
       "583929  320050   23962     4.0  1405382400\n",
       "583930  360238   23963     1.0  1405468800\n",
       "583931  222722   23963     5.0  1405728000\n",
       "583932  389399   23964     4.0  1405900800\n",
       "\n",
       "[583933 rows x 4 columns]"
      ]
     },
     "execution_count": 4,
     "metadata": {},
     "output_type": "execute_result"
    }
   ],
   "source": [
    "# Change user and item identifies to integers\n",
    "df[\"userID\"] = df.groupby([\"userID\"]).ngroup()\n",
    "df[\"itemID\"] = df.groupby([\"itemID\"]).ngroup()\n",
    "df"
   ]
  },
  {
   "cell_type": "code",
   "execution_count": 5,
   "id": "6603bbc6",
   "metadata": {},
   "outputs": [
    {
     "data": {
      "text/plain": [
       "itemID       426922\n",
       "userID        23965\n",
       "rating            5\n",
       "timestamp      3027\n",
       "dtype: int64"
      ]
     },
     "execution_count": 5,
     "metadata": {},
     "output_type": "execute_result"
    }
   ],
   "source": [
    "# Look at number of unqiue column values\n",
    "df.nunique()"
   ]
  },
  {
   "cell_type": "code",
   "execution_count": 6,
   "id": "9671bff1",
   "metadata": {},
   "outputs": [],
   "source": [
    "# Get value counts per user id \n",
    "vc = df.userID.value_counts() \n",
    "\n",
    "# Filter only users with more reviews than MIN_REVIEWS \n",
    "df = df[df.userID.isin(vc[vc > MIN_REVIEWS].index)] "
   ]
  },
  {
   "cell_type": "code",
   "execution_count": 7,
   "id": "d1bdf575",
   "metadata": {},
   "outputs": [],
   "source": [
    "# Split into train and test\n",
    "train, test = python_chrono_split(df, .75)\n",
    "\n",
    "# Filter out any users or items in test that do note appear in training set\n",
    "test = test[test[\"userID\"].isin(train[\"userID\"].unique())]\n",
    "test = test[test[\"itemID\"].isin(train[\"itemID\"].unique())]\n",
    "\n",
    "# Leave one out testing\n",
    "loo_test = test.groupby(\"userID\").last().reset_index()"
   ]
  },
  {
   "cell_type": "code",
   "execution_count": 8,
   "id": "a0482e89",
   "metadata": {},
   "outputs": [],
   "source": [
    "# Save datasets into csv files\n",
    "train.to_csv(TRAIN_FILE, index=False)\n",
    "test.to_csv(TEST_FILE, index=False)\n",
    "loo_test.to_csv(LOO_TEST_FILE, index=False)"
   ]
  },
  {
   "cell_type": "code",
   "execution_count": 9,
   "id": "41ff162a",
   "metadata": {},
   "outputs": [
    {
     "name": "stderr",
     "output_type": "stream",
     "text": [
      "INFO:recommenders.models.ncf.dataset:Indexing train.csv ...\n",
      "INFO:recommenders.models.ncf.dataset:Indexing loo_test.csv ...\n",
      "INFO:recommenders.models.ncf.dataset:Creating full leave-one-out test file loo_test_full.csv ...\n",
      "100%|███████████████████████████████████████| 3315/3315 [03:36<00:00, 15.35it/s]\n",
      "INFO:recommenders.models.ncf.dataset:Indexing loo_test_full.csv ...\n"
     ]
    }
   ],
   "source": [
    "data = NCFDataset(train_file=TRAIN_FILE, test_file=LOO_TEST_FILE, seed=SEED, overwrite_test_file_full=True)"
   ]
  },
  {
   "cell_type": "markdown",
   "id": "0b523dad",
   "metadata": {},
   "source": [
    "## Model"
   ]
  },
  {
   "cell_type": "code",
   "execution_count": null,
   "id": "9c8f29c9",
   "metadata": {},
   "outputs": [],
   "source": []
  },
  {
   "cell_type": "code",
   "execution_count": null,
   "id": "f9e829d7",
   "metadata": {},
   "outputs": [],
   "source": []
  }
 ],
 "metadata": {
  "kernelspec": {
   "display_name": "recsys",
   "language": "python",
   "name": "recsys"
  },
  "language_info": {
   "codemirror_mode": {
    "name": "ipython",
    "version": 3
   },
   "file_extension": ".py",
   "mimetype": "text/x-python",
   "name": "python",
   "nbconvert_exporter": "python",
   "pygments_lexer": "ipython3",
   "version": "3.7.13"
  }
 },
 "nbformat": 4,
 "nbformat_minor": 5
}
