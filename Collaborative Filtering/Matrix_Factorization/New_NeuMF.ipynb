{
  "nbformat": 4,
  "nbformat_minor": 0,
  "metadata": {
    "colab": {
      "provenance": []
    },
    "kernelspec": {
      "name": "python3",
      "display_name": "Python 3"
    },
    "language_info": {
      "name": "python"
    }
  },
  "cells": [
    {
      "cell_type": "markdown",
      "source": [
        "# Introduction"
      ],
      "metadata": {
        "id": "C_SVxtWQWCr0"
      }
    },
    {
      "cell_type": "markdown",
      "source": [
        "In this notebook, we will introduce and explain the implementation of [Neural Collaborative Filtering](https://arxiv.org/pdf/1708.05031.pdf) and study its performance. As you know from the demo session, Collaborative Filtering (CF) is one of the major recommendation approaches that allows for inclusion of information from other users or items in prediction of a user’s preference toward an item. What CF basically does is identifying patterns and similarities among users or items to make recommendation. CF has shown to be extremely powerful and in real-world projects different variants of CF have been widely exploited and shown outstanding performance. \n",
        "\n",
        "As deep neural architectures attracted a lot of attention by showing remarkable performance in various tasks such as computer vision, Natural Language Processing, etc. in the second decade of the century, researchers in recommendation area sought for methods to incorporate their power in recommendation as well. Neural CF paper is probably one of the most well-known works in this realm that tried to incorporate neural networks into CF. They high level idea of Neural CF is that an inner product between latent features of user and item features that were learnt using linear transformations of the data might be insufficient for capturing possibly complex underlying structure of the user behaviours. Therefore, this work tries to “*supercharge  the CF framework with non-linearities by leveraging a multi-layer perceptron to learn the user-item interaction function*”. We encourage you to have a  look at the [original paper](https://arxiv.org/pdf/1708.05031.pdf) that was presented in WWW 2017.\n",
        "\n",
        " We will finish this introduction with two final notes about the Neural CF. First, after we formally introduce the network’s structure, you can easily convince yourself that if you remove the non-linear activations from the neural network, you will re-obtain the original linear Matrix Factorization. Please take a moment and think about it! Second, although at the time, Neural CF attracted substantial attention and the paper’s results showed progress over the existing methodologies in top N recommendation, [a paper](https://colab.research.google.com/drive/1ih44InL4F_SJf7OU4YKovlrXtYlZ6_0e#scrollTo=TYY8R743PTKH&line=2&uniqifier=1) in RecSys 19 scrutinized the performance of neural recommendation approaches and we encourage you to have a look at it as well.  "
      ],
      "metadata": {
        "id": "TYY8R743PTKH"
      }
    },
    {
      "cell_type": "markdown",
      "source": [
        "# Problem Statement"
      ],
      "metadata": {
        "id": "UlOJ1pt4WB7z"
      }
    },
    {
      "cell_type": "markdown",
      "source": [
        "Let's first define the problem that We are dealing with. Consider a set of users $U$ such that $|U|=M$, a set of items $I$ such that $|I|=N$, and a set of historical interactions between some of the users and the items $Y \\in \\mathbb{R}^{M \\times N}$. This paper focuses on implicit feedback which indirectly reflects users’ preference through behaviours like watching videos, purchasing products and clicking items. Compared to explicit feedback (i.e., ratings and reviews), implicit feedback can be tracked automatically and is thus much easier to collect for content providers. However, it is more challenging to utilize, since user satisfaction is not observed and there is a natural scarcity of negative feedback. Denoting a user-item interaction record $y_{ui} \\in Y$ to be the record of implicit feedback of user $u$ toward item $i$, $y_{ui}=1$ if the user has interacted with the item and otherwise $y_{ui}=0$. Note that since the feedback is implicit, we have no information on whether the user had a positive preference toward the item and whether she liked it or not. Hence, the implicit feedback is inherently a very noisy evidenced about the user’s preferences. \n",
        "\n",
        "Eventually, the recommendation problem is to estimate the scores of unobserved entries in $Y$, and use them to make recommendations. Formally speaking, the task is to obtain the values $\\hat{y}_{ui}=f(u,i|\\theta)$ where $\\hat{y}_{ui}$ are the predicted scores for interaction between the user and item, $f$ is an interaction function that maps the model parameters $\\theta$ to the predicted score. As in other Machine Learning problems, parameters $\\theta$ are learnt by minimizing a proper loss function. This work focuses on two types of loss functions that are widely used in recommendation research:\n",
        "\n",
        "**1- Pointwise loss**: Using point wise loss, the problem is formulated as a regression task in which the objective is to  minimize the squared error between predicted score \\hat{y}_(u,i) and target value y(u,i). The problem that arises is that there are several unobserved instances in the user preference matrix that we have to deal with and obtain errors for such records. Often, the proposed workaround is to treat all the unobserved interactions equivalent to negative feedback and replacing them with a value of zero to be able to solve the optimization problem. You can easily convince yourself that this assumption is too severe because a lack of interaction does not necessarily imply lack of interest. In implementation, since the set of unobserved interactions often has a much larger cardinality than the observed ones, often a subset of them is sampled and used as the negative records. This approach is called \"Negative Sampling\".\n",
        "\n",
        "**2- Pairwise loss:** In order to deal with the aforementioned issue in a more intelligent way, pairwise loss tries to rank observed entries higher than the unobserved instances. This task is performed by maximizing the margin between the observed instances and the unobserved ones. \n",
        "\n",
        "Neural CF parametrizes the interaction function using a neural network and optimizes the network parameters using either one of these losses. In this notebook, we use pointwise loss."
      ],
      "metadata": {
        "id": "sU0gpexoWJ8J"
      }
    },
    {
      "cell_type": "markdown",
      "source": [
        "\n",
        "\n",
        "In the following sections, we will define the Neural CF architecture and its components. A majority of the code used in this notebook is obtained from [here](https://github.com/pyy0715/Neural-Collaborative-Filtering/tree/master). Now, first, let's install and import the required packages."
      ],
      "metadata": {
        "id": "WUHyRyLMbaAm"
      }
    },
    {
      "cell_type": "code",
      "source": [
        "!pip install -q tensorboardX\n"
      ],
      "metadata": {
        "colab": {
          "base_uri": "https://localhost:8080/"
        },
        "id": "P-_Aa2OfpX9V",
        "outputId": "735e68dd-cc38-409e-ebb4-85aa7277183f"
      },
      "execution_count": null,
      "outputs": [
        {
          "output_type": "stream",
          "name": "stdout",
          "text": [
            "\u001b[?25l     \u001b[90m━━━━━━━━━━━━━━━━━━━━━━━━━━━━━━━━━━━━━━━━\u001b[0m \u001b[32m0.0/114.5 kB\u001b[0m \u001b[31m?\u001b[0m eta \u001b[36m-:--:--\u001b[0m\r\u001b[2K     \u001b[91m━━━━━━━━━━━━━━━━━━━━━━━━━━━━━━━━━━━━━\u001b[0m\u001b[90m╺\u001b[0m \u001b[32m112.6/114.5 kB\u001b[0m \u001b[31m13.1 MB/s\u001b[0m eta \u001b[36m0:00:01\u001b[0m\r\u001b[2K     \u001b[90m━━━━━━━━━━━━━━━━━━━━━━━━━━━━━━━━━━━━━━━\u001b[0m \u001b[32m114.5/114.5 kB\u001b[0m \u001b[31m2.5 MB/s\u001b[0m eta \u001b[36m0:00:00\u001b[0m\n",
            "\u001b[?25h"
          ]
        }
      ]
    },
    {
      "cell_type": "code",
      "execution_count": null,
      "metadata": {
        "id": "OmohZOq5o2yY"
      },
      "outputs": [],
      "source": [
        "import os\n",
        "import time\n",
        "import random\n",
        "import argparse\n",
        "import numpy as np \n",
        "import pandas as pd \n",
        "import torch\n",
        "import torch.nn as nn\n",
        "import torch.optim as optim\n",
        "import torch.utils.data as data\n",
        "from tensorboardX import SummaryWriter"
      ]
    },
    {
      "cell_type": "code",
      "source": [
        "def seed_everything(seed):\n",
        "    random.seed(seed)\n",
        "    os.environ['PYTHONHASHSEED'] = str(seed)\n",
        "    np.random.seed(seed)\n",
        "    torch.manual_seed(seed)\n",
        "    torch.cuda.manual_seed(seed)\n",
        "    torch.backends.cudnn.deterministic = True\n",
        "    torch.backends.cudnn.benchmark = True"
      ],
      "metadata": {
        "id": "LMh7c5KwtH5Y"
      },
      "execution_count": null,
      "outputs": []
    },
    {
      "cell_type": "code",
      "source": [
        "##Importing the data file from google drive\n",
        "\n",
        "from google.colab import drive\n",
        "drive.mount('/content/drive/')          # this will direct you to a link where you can get anmhkk authorization key\n",
        "import sys\n",
        "sys.path.append('/content/drive/My Drive/')\n",
        "##Changing the working directory\n",
        "\n",
        "%cd '/content/drive/My Drive/'\n"
      ],
      "metadata": {
        "colab": {
          "base_uri": "https://localhost:8080/"
        },
        "id": "Ug7vLd_0pl7v",
        "outputId": "9c24cdae-c548-4440-a52a-38ff503738b7"
      },
      "execution_count": null,
      "outputs": [
        {
          "output_type": "stream",
          "name": "stdout",
          "text": [
            "Drive already mounted at /content/drive/; to attempt to forcibly remount, call drive.mount(\"/content/drive/\", force_remount=True).\n",
            "/content/drive/My Drive\n"
          ]
        }
      ]
    },
    {
      "cell_type": "code",
      "source": [
        "%cd VectorProject/\n"
      ],
      "metadata": {
        "colab": {
          "base_uri": "https://localhost:8080/"
        },
        "id": "IFIlRpxwpphb",
        "outputId": "7bcca39c-c66f-4718-f316-0dd17968e18f"
      },
      "execution_count": null,
      "outputs": [
        {
          "output_type": "stream",
          "name": "stdout",
          "text": [
            "/content/drive/My Drive/VectorProject\n"
          ]
        }
      ]
    },
    {
      "cell_type": "code",
      "source": [
        "ls"
      ],
      "metadata": {
        "colab": {
          "base_uri": "https://localhost:8080/"
        },
        "id": "E4mxiNfdprO3",
        "outputId": "ffba12e4-8b34-4468-aba0-999652bd95bc"
      },
      "execution_count": null,
      "outputs": [
        {
          "output_type": "stream",
          "name": "stdout",
          "text": [
            "LFM_ratings.txt  ML_ratings.txt  u.data\n"
          ]
        }
      ]
    },
    {
      "cell_type": "code",
      "source": [
        "ml = pd.read_csv(\n",
        "\t'u.data', \n",
        "\tsep=\"\\t\", \n",
        "\tnames = ['user_id', 'item_id', 'rating', 'timestamp'], \n",
        "\tengine='python')\n",
        "ml"
      ],
      "metadata": {
        "colab": {
          "base_uri": "https://localhost:8080/",
          "height": 423
        },
        "id": "tGL_ShZKqHph",
        "outputId": "103b567b-0d03-4097-b71a-3e8f20d2aefe"
      },
      "execution_count": null,
      "outputs": [
        {
          "output_type": "execute_result",
          "data": {
            "text/plain": [
              "       user_id  item_id  rating  timestamp\n",
              "0          196      242       3  881250949\n",
              "1          186      302       3  891717742\n",
              "2           22      377       1  878887116\n",
              "3          244       51       2  880606923\n",
              "4          166      346       1  886397596\n",
              "...        ...      ...     ...        ...\n",
              "99995      880      476       3  880175444\n",
              "99996      716      204       5  879795543\n",
              "99997      276     1090       1  874795795\n",
              "99998       13      225       2  882399156\n",
              "99999       12      203       3  879959583\n",
              "\n",
              "[100000 rows x 4 columns]"
            ],
            "text/html": [
              "\n",
              "  <div id=\"df-995e90d4-440b-40f5-91df-01ff6959f678\">\n",
              "    <div class=\"colab-df-container\">\n",
              "      <div>\n",
              "<style scoped>\n",
              "    .dataframe tbody tr th:only-of-type {\n",
              "        vertical-align: middle;\n",
              "    }\n",
              "\n",
              "    .dataframe tbody tr th {\n",
              "        vertical-align: top;\n",
              "    }\n",
              "\n",
              "    .dataframe thead th {\n",
              "        text-align: right;\n",
              "    }\n",
              "</style>\n",
              "<table border=\"1\" class=\"dataframe\">\n",
              "  <thead>\n",
              "    <tr style=\"text-align: right;\">\n",
              "      <th></th>\n",
              "      <th>user_id</th>\n",
              "      <th>item_id</th>\n",
              "      <th>rating</th>\n",
              "      <th>timestamp</th>\n",
              "    </tr>\n",
              "  </thead>\n",
              "  <tbody>\n",
              "    <tr>\n",
              "      <th>0</th>\n",
              "      <td>196</td>\n",
              "      <td>242</td>\n",
              "      <td>3</td>\n",
              "      <td>881250949</td>\n",
              "    </tr>\n",
              "    <tr>\n",
              "      <th>1</th>\n",
              "      <td>186</td>\n",
              "      <td>302</td>\n",
              "      <td>3</td>\n",
              "      <td>891717742</td>\n",
              "    </tr>\n",
              "    <tr>\n",
              "      <th>2</th>\n",
              "      <td>22</td>\n",
              "      <td>377</td>\n",
              "      <td>1</td>\n",
              "      <td>878887116</td>\n",
              "    </tr>\n",
              "    <tr>\n",
              "      <th>3</th>\n",
              "      <td>244</td>\n",
              "      <td>51</td>\n",
              "      <td>2</td>\n",
              "      <td>880606923</td>\n",
              "    </tr>\n",
              "    <tr>\n",
              "      <th>4</th>\n",
              "      <td>166</td>\n",
              "      <td>346</td>\n",
              "      <td>1</td>\n",
              "      <td>886397596</td>\n",
              "    </tr>\n",
              "    <tr>\n",
              "      <th>...</th>\n",
              "      <td>...</td>\n",
              "      <td>...</td>\n",
              "      <td>...</td>\n",
              "      <td>...</td>\n",
              "    </tr>\n",
              "    <tr>\n",
              "      <th>99995</th>\n",
              "      <td>880</td>\n",
              "      <td>476</td>\n",
              "      <td>3</td>\n",
              "      <td>880175444</td>\n",
              "    </tr>\n",
              "    <tr>\n",
              "      <th>99996</th>\n",
              "      <td>716</td>\n",
              "      <td>204</td>\n",
              "      <td>5</td>\n",
              "      <td>879795543</td>\n",
              "    </tr>\n",
              "    <tr>\n",
              "      <th>99997</th>\n",
              "      <td>276</td>\n",
              "      <td>1090</td>\n",
              "      <td>1</td>\n",
              "      <td>874795795</td>\n",
              "    </tr>\n",
              "    <tr>\n",
              "      <th>99998</th>\n",
              "      <td>13</td>\n",
              "      <td>225</td>\n",
              "      <td>2</td>\n",
              "      <td>882399156</td>\n",
              "    </tr>\n",
              "    <tr>\n",
              "      <th>99999</th>\n",
              "      <td>12</td>\n",
              "      <td>203</td>\n",
              "      <td>3</td>\n",
              "      <td>879959583</td>\n",
              "    </tr>\n",
              "  </tbody>\n",
              "</table>\n",
              "<p>100000 rows × 4 columns</p>\n",
              "</div>\n",
              "      <button class=\"colab-df-convert\" onclick=\"convertToInteractive('df-995e90d4-440b-40f5-91df-01ff6959f678')\"\n",
              "              title=\"Convert this dataframe to an interactive table.\"\n",
              "              style=\"display:none;\">\n",
              "        \n",
              "  <svg xmlns=\"http://www.w3.org/2000/svg\" height=\"24px\"viewBox=\"0 0 24 24\"\n",
              "       width=\"24px\">\n",
              "    <path d=\"M0 0h24v24H0V0z\" fill=\"none\"/>\n",
              "    <path d=\"M18.56 5.44l.94 2.06.94-2.06 2.06-.94-2.06-.94-.94-2.06-.94 2.06-2.06.94zm-11 1L8.5 8.5l.94-2.06 2.06-.94-2.06-.94L8.5 2.5l-.94 2.06-2.06.94zm10 10l.94 2.06.94-2.06 2.06-.94-2.06-.94-.94-2.06-.94 2.06-2.06.94z\"/><path d=\"M17.41 7.96l-1.37-1.37c-.4-.4-.92-.59-1.43-.59-.52 0-1.04.2-1.43.59L10.3 9.45l-7.72 7.72c-.78.78-.78 2.05 0 2.83L4 21.41c.39.39.9.59 1.41.59.51 0 1.02-.2 1.41-.59l7.78-7.78 2.81-2.81c.8-.78.8-2.07 0-2.86zM5.41 20L4 18.59l7.72-7.72 1.47 1.35L5.41 20z\"/>\n",
              "  </svg>\n",
              "      </button>\n",
              "      \n",
              "  <style>\n",
              "    .colab-df-container {\n",
              "      display:flex;\n",
              "      flex-wrap:wrap;\n",
              "      gap: 12px;\n",
              "    }\n",
              "\n",
              "    .colab-df-convert {\n",
              "      background-color: #E8F0FE;\n",
              "      border: none;\n",
              "      border-radius: 50%;\n",
              "      cursor: pointer;\n",
              "      display: none;\n",
              "      fill: #1967D2;\n",
              "      height: 32px;\n",
              "      padding: 0 0 0 0;\n",
              "      width: 32px;\n",
              "    }\n",
              "\n",
              "    .colab-df-convert:hover {\n",
              "      background-color: #E2EBFA;\n",
              "      box-shadow: 0px 1px 2px rgba(60, 64, 67, 0.3), 0px 1px 3px 1px rgba(60, 64, 67, 0.15);\n",
              "      fill: #174EA6;\n",
              "    }\n",
              "\n",
              "    [theme=dark] .colab-df-convert {\n",
              "      background-color: #3B4455;\n",
              "      fill: #D2E3FC;\n",
              "    }\n",
              "\n",
              "    [theme=dark] .colab-df-convert:hover {\n",
              "      background-color: #434B5C;\n",
              "      box-shadow: 0px 1px 3px 1px rgba(0, 0, 0, 0.15);\n",
              "      filter: drop-shadow(0px 1px 2px rgba(0, 0, 0, 0.3));\n",
              "      fill: #FFFFFF;\n",
              "    }\n",
              "  </style>\n",
              "\n",
              "      <script>\n",
              "        const buttonEl =\n",
              "          document.querySelector('#df-995e90d4-440b-40f5-91df-01ff6959f678 button.colab-df-convert');\n",
              "        buttonEl.style.display =\n",
              "          google.colab.kernel.accessAllowed ? 'block' : 'none';\n",
              "\n",
              "        async function convertToInteractive(key) {\n",
              "          const element = document.querySelector('#df-995e90d4-440b-40f5-91df-01ff6959f678');\n",
              "          const dataTable =\n",
              "            await google.colab.kernel.invokeFunction('convertToInteractive',\n",
              "                                                     [key], {});\n",
              "          if (!dataTable) return;\n",
              "\n",
              "          const docLinkHtml = 'Like what you see? Visit the ' +\n",
              "            '<a target=\"_blank\" href=https://colab.research.google.com/notebooks/data_table.ipynb>data table notebook</a>'\n",
              "            + ' to learn more about interactive tables.';\n",
              "          element.innerHTML = '';\n",
              "          dataTable['output_type'] = 'display_data';\n",
              "          await google.colab.output.renderOutput(dataTable, element);\n",
              "          const docLink = document.createElement('div');\n",
              "          docLink.innerHTML = docLinkHtml;\n",
              "          element.appendChild(docLink);\n",
              "        }\n",
              "      </script>\n",
              "    </div>\n",
              "  </div>\n",
              "  "
            ]
          },
          "metadata": {},
          "execution_count": 12
        }
      ]
    },
    {
      "cell_type": "code",
      "source": [
        "# set the num_users, items\n",
        "num_users = ml['user_id'].nunique()+1\n",
        "num_items = ml['item_id'].nunique()+1"
      ],
      "metadata": {
        "id": "oz0YZ-jSqUst"
      },
      "execution_count": null,
      "outputs": []
    },
    {
      "cell_type": "code",
      "source": [
        "class Rating_Datset(torch.utils.data.Dataset):\n",
        "\tdef __init__(self, user_list, item_list, rating_list):\n",
        "\t\tsuper(Rating_Datset, self).__init__()\n",
        "\t\tself.user_list = user_list\n",
        "\t\tself.item_list = item_list\n",
        "\t\tself.rating_list = rating_list\n",
        "\n",
        "\tdef __len__(self):\n",
        "\t\treturn len(self.user_list)\n",
        "\n",
        "\tdef __getitem__(self, idx):\n",
        "\t\tuser = self.user_list[idx]\n",
        "\t\titem = self.item_list[idx]\n",
        "\t\trating = self.rating_list[idx]\n",
        "\t\t\n",
        "\t\treturn (\n",
        "\t\t\ttorch.tensor(user, dtype=torch.long),\n",
        "\t\t\ttorch.tensor(item, dtype=torch.long),\n",
        "\t\t\ttorch.tensor(rating, dtype=torch.float)\n",
        "\t\t\t)"
      ],
      "metadata": {
        "id": "NrAViNDxrXqZ"
      },
      "execution_count": null,
      "outputs": []
    },
    {
      "cell_type": "code",
      "source": [
        "class NCF_Data(object):\n",
        "\t\"\"\"\n",
        "\tConstruct Dataset for NCF\n",
        "\t\"\"\"\n",
        "\tdef __init__(self, config, ratings):\n",
        "\t\tself.ratings = ratings\n",
        "\t\tself.num_ng = config[\"num_ng\"]\n",
        "\t\tself.num_ng_test = config[\"num_ng_test\"]\n",
        "\t\tself.batch_size = config[\"batch_size\"]\n",
        "\n",
        "\t\tself.preprocess_ratings = self._reindex(self.ratings)\n",
        "\n",
        "\t\tself.user_pool = set(self.ratings['user_id'].unique())\n",
        "\t\tself.item_pool = set(self.ratings['item_id'].unique())\n",
        "\n",
        "\t\tself.train_ratings, self.test_ratings = self._leave_one_out(self.preprocess_ratings)\n",
        "\t\tself.negatives = self._negative_sampling(self.preprocess_ratings)\n",
        "\t\trandom.seed(config[\"seed\"])\n",
        "\t\n",
        "\tdef _reindex(self, ratings):\n",
        "\t\t\"\"\"\n",
        "\t\tProcess dataset to reindex userID and itemID, also set rating as binary feedback\n",
        "\t\t\"\"\"\n",
        "\t\tuser_list = list(ratings['user_id'].drop_duplicates())\n",
        "\t\tuser2id = {w: i for i, w in enumerate(user_list)}\n",
        "\n",
        "\t\titem_list = list(ratings['item_id'].drop_duplicates())\n",
        "\t\titem2id = {w: i for i, w in enumerate(item_list)}\n",
        "\n",
        "\t\tratings['user_id'] = ratings['user_id'].apply(lambda x: user2id[x])\n",
        "\t\tratings['item_id'] = ratings['item_id'].apply(lambda x: item2id[x])\n",
        "\t\tratings['rating'] = ratings['rating'].apply(lambda x: float(x > 0))\n",
        "\t\treturn ratings\n",
        "\n",
        "\tdef _leave_one_out(self, ratings):\n",
        "\t\t\"\"\"\n",
        "\t\tleave-one-out evaluation protocol in paper Bayer et al. WWW 2017\n",
        "\t\tFor each user, we hold-out her latest interaction as the test\n",
        "\t\tset and utilized the remaining data for training.\n",
        "\t\t\"\"\"\n",
        "\t\t# find the latest interaction using the timestamps\n",
        "\t\tratings['rank_latest'] = ratings.groupby(['user_id'])['timestamp'].rank(method='first', ascending=False)\n",
        "\t\t# the last interaction is held out for test\n",
        "\t\ttest = ratings.loc[ratings['rank_latest'] == 1]\n",
        "\t\t# other interations will be used for training\n",
        "\t\ttrain = ratings.loc[ratings['rank_latest'] > 1]\n",
        "\t\t# verify the number of users in the test and train sets are equal\n",
        "\t\tassert train['user_id'].nunique()==test['user_id'].nunique(), 'Not Match Train User with Test User'\n",
        "\t\treturn train[['user_id', 'item_id', 'rating']], test[['user_id', 'item_id', 'rating']]\n",
        "\n",
        "\tdef _negative_sampling(self, ratings):\n",
        "\t\t#groups the item IDs per user and converts them into sets, eliminating duplicates, resetting the index, then renaming the column\n",
        "\t\tinteract_status = (\n",
        "\t\t\tratings.groupby('user_id')['item_id']\n",
        "\t\t\t.apply(set)\n",
        "\t\t\t.reset_index()\n",
        "\t\t\t.rename(columns={'item_id': 'interacted_items'}))\n",
        "\n",
        "\t\tinteract_status['negative_items'] = interact_status['interacted_items'].apply(lambda x: self.item_pool - x)\n",
        "\t\tinteract_status['negative_samples'] = interact_status['negative_items'].apply(lambda x: random.sample(x, self.num_ng_test))\n",
        "\t\treturn interact_status[['user_id', 'negative_items', 'negative_samples']]\n",
        "\n",
        "\tdef get_train_instance(self):\n",
        "\t\t\"combines positive ratings with randomly sampled negative items for each user and constructs the user-item-rating data\"\n",
        "\t\tusers, items, ratings = [], [], []\n",
        "\t\ttrain_ratings = pd.merge(self.train_ratings, self.negatives[['user_id', 'negative_items']], on='user_id')\n",
        "\t\ttrain_ratings['negatives'] = train_ratings['negative_items'].apply(lambda x: random.sample(x, self.num_ng))\n",
        "\t\tfor row in train_ratings.itertuples():\n",
        "\t\t\tusers.append(int(row.user_id))\n",
        "\t\t\titems.append(int(row.item_id))\n",
        "\t\t\tratings.append(float(row.rating))\n",
        "\t\t\tfor i in range(self.num_ng):\n",
        "\t\t\t\tusers.append(int(row.user_id))\n",
        "\t\t\t\titems.append(int(row.negatives[i]))\n",
        "\t\t\t\tratings.append(float(0))  # negative samples get 0 rating\n",
        "\t\tdataset = Rating_Datset(\n",
        "\t\t\tuser_list=users,\n",
        "\t\t\titem_list=items,\n",
        "\t\t\trating_list=ratings)\n",
        "\t\treturn torch.utils.data.DataLoader(dataset, batch_size=self.batch_size, shuffle=True, num_workers=4)\n",
        "\n",
        "\tdef get_test_instance(self):\n",
        "\t\t\"does the same for the test set\"\n",
        "\t\tusers, items, ratings = [], [], []\n",
        "\t\ttest_ratings = pd.merge(self.test_ratings, self.negatives[['user_id', 'negative_samples']], on='user_id')\n",
        "\t\tfor row in test_ratings.itertuples():\n",
        "\t\t\tusers.append(int(row.user_id))\n",
        "\t\t\titems.append(int(row.item_id))\n",
        "\t\t\tratings.append(float(row.rating))\n",
        "\t\t\tfor i in getattr(row, 'negative_samples'):\n",
        "\t\t\t\tusers.append(int(row.user_id))\n",
        "\t\t\t\titems.append(int(i))\n",
        "\t\t\t\tratings.append(float(0))\n",
        "\t\tdataset = Rating_Datset(\n",
        "\t\t\tuser_list=users,\n",
        "\t\t\titem_list=items,\n",
        "\t\t\trating_list=ratings)\n",
        "\t\treturn torch.utils.data.DataLoader(dataset, batch_size=self.num_ng_test+1, shuffle=False, num_workers=2)"
      ],
      "metadata": {
        "id": "0Yvbtz49qhUO"
      },
      "execution_count": null,
      "outputs": []
    },
    {
      "cell_type": "markdown",
      "source": [
        "Here, we define the evaluation metrics that can be used to assess how well the network is doing."
      ],
      "metadata": {
        "id": "ONMKOOPpfqy-"
      }
    },
    {
      "cell_type": "code",
      "source": [
        "def hit(ng_item, pred_items):\n",
        "\tif ng_item in pred_items:\n",
        "\t\treturn 1\n",
        "\treturn 0\n",
        "\n",
        "\n",
        "def ndcg(ng_item, pred_items):\n",
        "\tif ng_item in pred_items:\n",
        "\t\tindex = pred_items.index(ng_item)\n",
        "\t\treturn np.reciprocal(np.log2(index+2))\n",
        "\treturn 0\n",
        "\n",
        "\n",
        "def metrics(model, test_loader, top_k, device):\n",
        "\tHR, NDCG = [], []\n",
        "\n",
        "\tfor user, item, label in test_loader:\n",
        "\t\tuser = user.to(device)\n",
        "\t\titem = item.to(device)\n",
        "\n",
        "\t\tpredictions = model(user, item)\n",
        "\t\t_, indices = torch.topk(predictions, top_k)\n",
        "\t\trecommends = torch.take(\n",
        "\t\t\t\titem, indices).cpu().numpy().tolist()\n",
        "\n",
        "\t\tng_item = item[0].item() # leave one-out evaluation has only one item per user\n",
        "\t\tHR.append(hit(ng_item, recommends))\n",
        "\t\tNDCG.append(ndcg(ng_item, recommends))\n",
        "\n",
        "\treturn np.mean(HR), np.mean(NDCG)"
      ],
      "metadata": {
        "id": "nJcFAi-5rzC8"
      },
      "execution_count": null,
      "outputs": []
    },
    {
      "cell_type": "markdown",
      "source": [
        "**Neural MF Architecture**:\n",
        "Neural Collaborative filtering has two major components:\n",
        "1. GMF: This component is basically like the vanilla MF model that you are already familiar with. GMF applies a linear kernel to model user-item interactions.\n",
        "2. MLP: This component is a Multi-layer Perceptron neural network that has non-linear activation functions used to model the nonlinearities in user-item interactions.\n",
        "![NeuCF.webp](data:image/webp;base64,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)\n",
        "By combining these two components, Neural CF tries to obtain a proper estimation of the user-item interaction records. Each of the two components has its own trainable embedding layer that is optimized independently from the other layer’s embeddings. The input to the GMF component is the element-wize product of the user and item embeddings, but the input to the MLP are their concatenation. Finally, the output of the two networks are concatenated and input to a final layer that will output the logic representing the likelihood of presence of an interaction between the user and the item. These logits are converted to legitimate probabilities by applying a final activation in the original paper. In the following cells, we implement each of the components, and run the model optimization to train the model. \n",
        "\n",
        "Also, note that in the original implementation of the paper, first GMF and MLP components are pre-trained and then used as an initialization for the whole network, but this is skipped in this implementation. You can easily perform this using this code. \n"
      ],
      "metadata": {
        "id": "mpll2Q4agoY-"
      }
    },
    {
      "cell_type": "code",
      "source": [
        "class NeuMF(nn.Module):\n",
        "    def __init__(self, config, num_users, num_items):\n",
        "        super(NeuMF, self).__init__()\n",
        "        self.num_users = num_users\n",
        "        self.num_items = num_items\n",
        "        self.factor_num_mf = config[\"factor_num\"]\n",
        "        self.factor_num_mlp =  int(config[\"layers\"][0]/2)\n",
        "        self.layers = config[\"layers\"]\n",
        "\n",
        "        self.embedding_user_mlp = nn.Embedding(num_embeddings=self.num_users, embedding_dim=self.factor_num_mlp)\n",
        "        self.embedding_item_mlp = nn.Embedding(num_embeddings=self.num_items, embedding_dim=self.factor_num_mlp)\n",
        "\n",
        "        self.embedding_user_mf = nn.Embedding(num_embeddings=self.num_users, embedding_dim=self.factor_num_mf)\n",
        "        self.embedding_item_mf = nn.Embedding(num_embeddings=self.num_items, embedding_dim=self.factor_num_mf)\n",
        "\n",
        "        self.fc_layers = nn.ModuleList()\n",
        "        for idx, (in_size, out_size) in enumerate(zip(config[\"layers\"][:-1], config[\"layers\"][1:])):\n",
        "            self.fc_layers.append(torch.nn.Linear(in_size, out_size))\n",
        "            self.fc_layers.append(nn.ReLU())\n",
        "\n",
        "        self.affine_output = nn.Linear(in_features=config[\"layers\"][-1] + self.factor_num_mf, out_features=1)\n",
        "        self.logistic = nn.Sigmoid()\n",
        "        self.init_weight()\n",
        "\n",
        "    def init_weight(self):\n",
        "      \"initializing the weights as a unit normal. You can think of more advanced ways for initialization, but this is what the original paper does.\"\n",
        "        nn.init.normal_(self.embedding_user_mlp.weight, std=0.01)\n",
        "        nn.init.normal_(self.embedding_item_mlp.weight, std=0.01)\n",
        "        nn.init.normal_(self.embedding_user_mf.weight, std=0.01)\n",
        "        nn.init.normal_(self.embedding_item_mf.weight, std=0.01)\n",
        "        \n",
        "        for m in self.fc_layers:\n",
        "            if isinstance(m, nn.Linear):\n",
        "                nn.init.xavier_uniform_(m.weight)\n",
        "                \n",
        "        nn.init.xavier_uniform_(self.affine_output.weight)\n",
        "\n",
        "        for m in self.modules():\n",
        "            if isinstance(m, nn.Linear) and m.bias is not None:\n",
        "                m.bias.data.zero_()\n",
        "\n",
        "    def forward(self, user_indices, item_indices):\n",
        "        user_embedding_mlp = self.embedding_user_mlp(user_indices)\n",
        "        item_embedding_mlp = self.embedding_item_mlp(item_indices)\n",
        "\n",
        "        user_embedding_mf = self.embedding_user_mf(user_indices)\n",
        "        item_embedding_mf = self.embedding_item_mf(item_indices)\n",
        "\n",
        "        mlp_vector = torch.cat([user_embedding_mlp, item_embedding_mlp], dim=-1)\n",
        "        mf_vector =torch.mul(user_embedding_mf, item_embedding_mf)\n",
        "\n",
        "        for idx, _ in enumerate(range(len(self.fc_layers))):\n",
        "            mlp_vector = self.fc_layers[idx](mlp_vector)\n",
        "\n",
        "        vector = torch.cat([mlp_vector, mf_vector], dim=-1)\n",
        "        logits = self.affine_output(vector)\n",
        "        rating = self.logistic(logits)\n",
        "        return rating.squeeze()"
      ],
      "metadata": {
        "id": "9vgrtf2OsESE"
      },
      "execution_count": null,
      "outputs": []
    },
    {
      "cell_type": "code",
      "source": [
        "# model hyperparameters \n",
        "config={\n",
        "    \"seed\" :98,\n",
        "    \"lr\":0.001,\n",
        "    \"epochs\": 5,\n",
        "    \"batch_size\":2048,\n",
        "    \"top_k\": 3,\n",
        "    \"num_ng\":4,\n",
        "    \"num_ng_test\":10,\n",
        "    \"factor_num\":32,\n",
        "    \"layers\":[64,32,16,8],\n",
        "\n",
        "}\n",
        "\n",
        "\n",
        "\n",
        "device = torch.device(\"cuda:0\" if torch.cuda.is_available() else \"cpu\")\n",
        "writer = SummaryWriter()\n",
        "\n",
        "# seed for Reproducibility\n",
        "seed_everything(config[\"seed\"])\n",
        "\n",
        "\n",
        "\n",
        "# construct the train and test datasets\n",
        "data = NCF_Data(config, ml)\n",
        "train_loader = data.get_train_instance()\n",
        "test_loader = data.get_test_instance()\n",
        "\n",
        "# set model and loss, optimizer\n",
        "model = NeuMF(config, num_users, num_items)\n",
        "model = model.to(device)\n",
        "loss_function = nn.BCELoss()\n",
        "optimizer = optim.Adam(model.parameters(), lr=config[\"lr\"])\n",
        "\n",
        "# train, evaluation\n",
        "best_hr = 0\n",
        "for epoch in range(1, config[\"epochs\"]+1):\n",
        "\tmodel.train() # Enable dropout (if have).\n",
        "\tstart_time = time.time()\n",
        "\n",
        "\tfor user, item, label in train_loader:\n",
        "\t\tuser = user.to(device)\n",
        "\t\titem = item.to(device)\n",
        "\t\tlabel = label.to(device)\n",
        "\n",
        "\t\toptimizer.zero_grad()\n",
        "\t\tprediction = model(user, item)\n",
        "\t\tloss = loss_function(prediction, label)\n",
        "\t\tloss.backward()\n",
        "\t\toptimizer.step()\n",
        "\t\twriter.add_scalar('loss/Train_loss', loss.item(), epoch)\n",
        "  \n",
        "\n",
        "\n",
        "\n",
        "\tmodel.eval()\n",
        "\tHR, NDCG = metrics(model, test_loader, config[\"top_k\"], device)\n",
        "\twriter.add_scalar('Perfomance/HR@10', HR, epoch)\n",
        "\twriter.add_scalar('Perfomance/NDCG@10', NDCG, epoch)\n",
        "\n",
        "\telapsed_time = time.time() - start_time\n",
        "\tprint(\"The time elapse of epoch {:03d}\".format(epoch) + \" is: \" + \n",
        "\t\t\ttime.strftime(\"%H: %M: %S\", time.gmtime(elapsed_time)))\n",
        "\tprint(\"HR: {:.3f}\\tNDCG: {:.3f}\".format(np.mean(HR), np.mean(NDCG)))\n",
        "\n",
        "\tif HR > best_hr:\n",
        "\t\tbest_hr, best_ndcg, best_epoch = HR, NDCG, epoch\n",
        "\t\ttorch.save(model,'model.pt')\n",
        "\n",
        "writer.close()"
      ],
      "metadata": {
        "colab": {
          "base_uri": "https://localhost:8080/"
        },
        "id": "lj_f4XBRsqMI",
        "outputId": "214249cf-9a43-43a5-dacc-5061418f0874"
      },
      "execution_count": null,
      "outputs": [
        {
          "output_type": "stream",
          "name": "stderr",
          "text": [
            "<ipython-input-17-2e3bd90031b5>:52: DeprecationWarning: Sampling from a set deprecated\n",
            "since Python 3.9 and will be removed in a subsequent version.\n",
            "  interact_status['negative_samples'] = interact_status['negative_items'].apply(lambda x: random.sample(x, self.num_ng_test))\n",
            "<ipython-input-17-2e3bd90031b5>:58: DeprecationWarning: Sampling from a set deprecated\n",
            "since Python 3.9 and will be removed in a subsequent version.\n",
            "  train_ratings['negatives'] = train_ratings['negative_items'].apply(lambda x: random.sample(x, self.num_ng))\n",
            "/usr/local/lib/python3.10/dist-packages/torch/utils/data/dataloader.py:561: UserWarning: This DataLoader will create 4 worker processes in total. Our suggested max number of worker in current system is 2, which is smaller than what this DataLoader is going to create. Please be aware that excessive worker creation might get DataLoader running slow or even freeze, lower the worker number to avoid potential slowness/freeze if necessary.\n",
            "  warnings.warn(_create_warning_msg(\n",
            "/usr/local/lib/python3.10/dist-packages/torch/utils/data/dataloader.py:561: UserWarning: This DataLoader will create 4 worker processes in total. Our suggested max number of worker in current system is 2, which is smaller than what this DataLoader is going to create. Please be aware that excessive worker creation might get DataLoader running slow or even freeze, lower the worker number to avoid potential slowness/freeze if necessary.\n",
            "  warnings.warn(_create_warning_msg(\n"
          ]
        },
        {
          "output_type": "stream",
          "name": "stdout",
          "text": [
            "The time elapse of epoch 001 is: 00: 00: 16\n",
            "HR: 0.662\tNDCG: 0.527\n",
            "The time elapse of epoch 002 is: 00: 00: 16\n",
            "HR: 0.725\tNDCG: 0.600\n",
            "The time elapse of epoch 003 is: 00: 00: 16\n",
            "HR: 0.771\tNDCG: 0.634\n",
            "The time elapse of epoch 004 is: 00: 00: 16\n",
            "HR: 0.787\tNDCG: 0.649\n",
            "The time elapse of epoch 005 is: 00: 00: 16\n",
            "HR: 0.793\tNDCG: 0.658\n"
          ]
        }
      ]
    },
    {
      "cell_type": "code",
      "source": [],
      "metadata": {
        "id": "Ez0VjJ2a8iQg"
      },
      "execution_count": null,
      "outputs": []
    }
  ]
}