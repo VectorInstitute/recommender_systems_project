{
  "cells": [
    {
      "cell_type": "markdown",
      "metadata": {
        "id": "QA9yWV4n2tzG"
      },
      "source": [
        "# Matrix Factorization-based Collaborative Filtering"
      ]
    },
    {
      "cell_type": "markdown",
      "metadata": {
        "id": "HuIRX3aT25iZ"
      },
      "source": [
        "In this tutorial, you will see an example of using a strong Matrix Factorization (MF) method for recommendation, namely [SVD++](https://https://dl.acm.org/doi/pdf/10.1145/1401890.1401944). Please follow the instructions step-by-step as they try to explain different stages of developing an MF-based recommender."
      ]
    },
    {
      "cell_type": "markdown",
      "metadata": {
        "id": "XOzf1Cdaef8x"
      },
      "source": [
        "**Step1:** Importing necessary packages and loading the data\n",
        "\n",
        "First things first, we begin by install a group of necessary packages that are used in this notebook. The main ones are numpy and torch with which you probably are familiar. Major MF methods are already implemented in recommendation packages such as [Surprise](https://https://surpriselib.com/) and [LightFM](https://https://making.lyst.com/lightfm/docs/home.html), but here you can see a from scratch implementation. The main reasons for this are developing a deeper acquaintance for under-the-hood details of how an MF-based recommender works, and the fact that most of these excellent packages are not optimal for training using GPUs, but we need the acceleration caused by GPU and autodiff tools for gradient descent-based real-world applications on massive datasets."
      ]
    },
    {
      "cell_type": "code",
      "execution_count": null,
      "metadata": {
        "id": "BVAKZMc1dtKJ"
      },
      "outputs": [],
      "source": [
        "import os, sys, re, pickle, torch\n",
        "import numpy as np\n",
        "from numpy.random import default_rng\n",
        "import numpy as np\n",
        "import pandas as pd\n",
        "import pickle\n",
        "from tqdm import tqdm\n",
        "import time\n",
        "import sys, os\n",
        "import pickle\n",
        "from torch import nn\n",
        "from collections import defaultdict"
      ]
    },
    {
      "cell_type": "code",
      "execution_count": null,
      "metadata": {
        "colab": {
          "base_uri": "https://localhost:8080/"
        },
        "id": "bGHv8o9qlTBx",
        "outputId": "31fda5ab-a2ef-4e52-a0a7-5d214c911c74"
      },
      "outputs": [
        {
          "name": "stdout",
          "output_type": "stream",
          "text": [
            "Mounted at /content/drive/\n",
            "/content/drive/My Drive\n"
          ]
        }
      ],
      "source": [
        "##Importing the data file from google drive\n",
        "\n",
        "from google.colab import drive\n",
        "drive.mount('/content/drive/')          # this will direct you to a link where you can get anmhkk authorization key\n",
        "import sys\n",
        "sys.path.append('/content/drive/My Drive/')\n",
        "##Changing the working directory\n",
        "\n",
        "%cd '/content/drive/My Drive/'\n"
      ]
    },
    {
      "cell_type": "code",
      "execution_count": null,
      "metadata": {
        "colab": {
          "base_uri": "https://localhost:8080/"
        },
        "id": "oQhgoq87mN_B",
        "outputId": "729d9f31-6127-413f-d9fa-36a8deb343b9"
      },
      "outputs": [
        {
          "name": "stdout",
          "output_type": "stream",
          "text": [
            "/content/drive/My Drive/VectorProject\n"
          ]
        }
      ],
      "source": [
        "%cd VectorProject/"
      ]
    },
    {
      "cell_type": "markdown",
      "metadata": {
        "id": "1mgvpYuv5uMZ"
      },
      "source": [
        "In this folder, you are provided with three data files. \"u.data\" is the ratings data file of [MovieLens 100K](https://grouplens.org/datasets/movielens/100k/), \"ML_ratings\" includes a larger version of the same dataset, [MovieLens 20m ](https://grouplens.org/datasets/movielens/20m/), and LFM_ratings are the ratings from [LastFM ](https://grouplens.org/datasets/hetrec-2011/). You are more than welcome to explore working with the larger two datasets, but due to the greater training time, we just use MovieLens 100k for this showcase tutorial."
      ]
    },
    {
      "cell_type": "code",
      "execution_count": null,
      "metadata": {
        "colab": {
          "base_uri": "https://localhost:8080/"
        },
        "id": "WsS0JQWCmXYJ",
        "outputId": "393a4363-2015-4342-dbeb-281c79cce900"
      },
      "outputs": [
        {
          "name": "stdout",
          "output_type": "stream",
          "text": [
            "LFM_ratings.txt  ML_ratings.txt  u.data\n"
          ]
        }
      ],
      "source": [
        "ls"
      ]
    },
    {
      "cell_type": "code",
      "execution_count": null,
      "metadata": {
        "id": "aBULpqIIqkKz"
      },
      "outputs": [],
      "source": [
        "\n",
        "def u_i_dict_maker(rec):\n",
        "  \"\"\"\n",
        "    Calculates the user to item mapping dictionary. Keys of this dict are \n",
        "    user ids and values are the list of movies each user likes\n",
        "    \"\"\"\n",
        "\n",
        "  u_i_dict = defaultdict(list)\n",
        "  for line in enumerate(rec):\n",
        "    if line[1][1] not in u_i_dict[line[1][0]]:\n",
        "      u_i_dict[line[1][0]].append(line[1][1])\n",
        "  \n",
        "  return u_i_dict\n",
        "\n",
        "\n",
        "def load_rec_data(rec_path):\n",
        "  \"\"\"\n",
        "    Reads the ratings data from the text files and converts them to numpy arrays.\n",
        "    Next, it randomly splits the data to train, validation, and test sets.\n",
        "    Finally, it forms the user to item mapping dicts for each split.\n",
        "  \"\"\"\n",
        "  rec = np.genfromtxt(rec_path, delimiter='\\t', dtype=np.int32)\n",
        "  rec = rec[:,:3]\n",
        "  rec_mapped = 1*rec\n",
        "  unique_users = np.unique(rec[:,0])\n",
        "  unique_items = np.unique(rec[:,1])\n",
        "  users_map = {val: i for i, val in enumerate(unique_users)}\n",
        "  items_map = {val: i for i, val in enumerate(unique_items)}\n",
        "\n",
        "  ufunc = np.vectorize(lambda x: users_map[x])\n",
        "  ifunc = np.vectorize(lambda x: items_map[x])\n",
        "\n",
        "  # the mapped recommendation matrix where both user and item ids are 0,1,2,...\n",
        "  np.random.seed(42)\n",
        "  rec_mapped[:,0] = ufunc(rec[:,0])\n",
        "  rec_mapped[:,1] = ifunc(rec[:,1])\n",
        "\n",
        "  # split to train, test, and val\n",
        "  train_ratio = 0.7 # 70% of data for training\n",
        "  val_ratio = 0.15 # 15% of data for validation\n",
        "  test_ratio = 0.15 # 15% of data for testing\n",
        "  indices = np.arange(rec_mapped.shape[0])\n",
        "  np.random.shuffle(indices)\n",
        "  # split the data array into train, validation, and test sets\n",
        "  train_indices = indices[:int(train_ratio*len(indices))]\n",
        "  val_indices = indices[int(train_ratio*len(indices)):int((train_ratio+val_ratio)*len(indices))]\n",
        "  test_indices = indices[int((train_ratio+val_ratio)*len(indices)):]\n",
        "\n",
        "  train_data = rec_mapped[train_indices]\n",
        "  val_data = rec_mapped[val_indices]\n",
        "  test_data = rec_mapped[test_indices]\n",
        "  # remove users from test and val that are not present in train\n",
        "  #(we can't test on users for which we didn't have any training data. Although SVD++ is useful for the cold-start problem,\n",
        "  # you often want to study that experiment separately)\n",
        "  train_users = train_data[:,0]\n",
        "  val_data = val_data[np.isin(val_data[:,0], train_users)]\n",
        "  test_data = test_data[np.isin(test_data[:,0], train_users)]\n",
        "\n",
        "\n",
        "  #maps each user to the list of items she interacted with\n",
        "\n",
        "  u_i_dict_train, u_i_dict_val, u_i_dict_test = u_i_dict_maker(train_data), u_i_dict_maker(val_data), u_i_dict_maker(test_data)\n",
        "\n",
        "\n",
        "  return rec_mapped, train_data, val_data, test_data, u_i_dict_train, u_i_dict_val, u_i_dict_test"
      ]
    },
    {
      "cell_type": "code",
      "execution_count": null,
      "metadata": {
        "id": "mhNlbmX3lLPt"
      },
      "outputs": [],
      "source": [
        "\n",
        "ML_mapped, train_ML, val_ML, test_ML, u_i_dict_train_ML, u_i_dict_val_ML, u_i_dict_test_ML = load_rec_data('u.data')\n"
      ]
    },
    {
      "cell_type": "markdown",
      "metadata": {
        "id": "gzDDaSzL8ThH"
      },
      "source": [
        "Let's have a look at the data statistics. As you see, MovieLens 100k is a minuscule dataset usually used for tutorials rather than research."
      ]
    },
    {
      "cell_type": "code",
      "execution_count": null,
      "metadata": {
        "colab": {
          "base_uri": "https://localhost:8080/"
        },
        "id": "Ku0KOCcDrBK0",
        "outputId": "c54163df-3613-4670-e691-9247ce551e00"
      },
      "outputs": [
        {
          "name": "stdout",
          "output_type": "stream",
          "text": [
            "number of users in MovieLens is: 943\n",
            "number of items in MovieLens is: 1682\n"
          ]
        }
      ],
      "source": [
        "\n",
        "print('number of users in MovieLens is: {}'.format(np.unique(ML_mapped[:,0]).shape[0]))\n",
        "print('number of items in MovieLens is: {}'.format(np.unique(ML_mapped[:,1]).shape[0]))\n"
      ]
    },
    {
      "cell_type": "markdown",
      "metadata": {
        "id": "c7ExydKstxpm"
      },
      "source": [
        "# Step 2. Define the model structure\n",
        "\n",
        "\n",
        "<br>\n",
        "SVD++ estimates the rank of an item i given by user u as:\n",
        "\n",
        "- Model definition\n",
        "$$\n",
        "\\hat{\\mathbf{R}}_{ui} = \\mu + b_u + b_i + \\mathbf{q}_{i}^{T} \\left( \\mathbf{p}_{u} + |N(u)|^{-1/2} \\sum_{j\\in N(u)}\\mathbf{y}_{j} \\right) $$\n",
        "\n",
        "In which:\n",
        "  - $\\hat{\\mathbf{R}}_{ui}\\in \\mathbb{R}$: predicted rating user $u$ gives to item $i$\n",
        "  - $\\mu \\in \\mathbb{R}$: global bias\n",
        "  - $b_{u} \\in \\mathbb{R}$: user bias\n",
        "  - $b_{i} \\in \\mathbb{R}$: item bias\n",
        "  - $\\mathbf{q}_{i} \\in \\mathbb{R}^{1\\text{x} k}$: $i^{\\text{th}}$ row of $\\mathbf{Q}$\n",
        "  - $\\mathbf{p}_{u} \\in \\mathbb{R}^{1\\text{x} k}$: $u^{\\text{th}}$ row of $\\mathbf{P}$\n",
        "  - $N(u) = \\{i: | \\, \\mathbf{R}_{ui} \\text{ is known} \\}$: all items for which user $u$ provided a rating\n",
        "  - $\\mathbf{y}_{j} \\in \\mathbb{R}^{1\\text{x}k}$: another item latent vector for implicit feedback\n",
        "\n",
        "\n",
        "  - where, \n",
        "    - $k << m, n$: latent factor size\n",
        "    - $\\hat{\\mathbf{R}} \\in \\mathbb{R}^{m \\text{x} n}$: predicted rating matrix \n",
        "    - $\\mathbf{P} \\in \\mathbb{R}^{m \\text{x}k}$: user latent matrix\n",
        "    - $\\mathbf{Q} \\in \\mathbb{R}^{k \\text{x}n}$: item latent matrix\n",
        "\n",
        "<br>\n",
        "\n",
        "- This estimation is found by minimizing the following Objective function:\n",
        "$$\n",
        "\\underset{\\mathbf{P}, \\mathbf{Q}, \\mathbf{y}_{*}, b}{\\mathrm{argmin}} \\sum_{(u, i) \\in \\mathcal{K}} \\| \\mathbf{R}_{ui} -\n",
        "\\hat{\\mathbf{R}}_{ui} \\|^2 + \\lambda (\\| \\mathbf{P} \\|^2_F + \\| \\mathbf{Q}\n",
        "\\|^2_F + b_u^2 + b_i^2 +\\sum_{j\\in N(u)} \\|\\mathbf{y}_{j}\\|^2)\n",
        "$$\n",
        "Where:\n",
        "  - $\\lambda$: regularization rate (hyper-param)\n",
        "  - $\\mathcal{K}=\\{(u, i) \\mid \\mathbf{R}_{ui} \\text{ is known}\\}$: The $(u,i)$ pairs for which $\\mathbf{R}_{ui}$ is known and stored in the set\n"
      ]
    },
    {
      "cell_type": "code",
      "execution_count": null,
      "metadata": {
        "id": "w0I55ycDsC1-"
      },
      "outputs": [],
      "source": [
        "from torch import nn\n",
        "\n",
        "class SVDpp(nn.Module):\n",
        "    def __init__(self, num_factors, num_users, num_items, device, **kwargs):\n",
        "        super(SVDpp, self).__init__(**kwargs)\n",
        "        self.device = device\n",
        "        # plain MF params\n",
        "        self.P = nn.Embedding(num_users, num_factors).to(self.device)\n",
        "        self.Q = nn.Embedding(num_items, num_factors).to(self.device)\n",
        "        self.user_bias = nn.Embedding(num_users, 1).to(self.device)\n",
        "        self.item_bias = nn.Embedding(num_items, 1).to(self.device)\n",
        "        self.global_bias = nn.Parameter(torch.zeros(1)).to(self.device)\n",
        "        # implicit feedback params\n",
        "        self.y_j = nn.Embedding(num_items, num_factors).to(self.device) \n",
        "\n",
        "    def forward(self, user_id, item_id, u_i_dict):\n",
        "        \n",
        "        P_u = self.P(user_id)\n",
        "        Q_i = self.Q(item_id)\n",
        "        b_u = self.user_bias(user_id)\n",
        "        b_i = self.item_bias(item_id)\n",
        "        mu = self.global_bias\n",
        "\n",
        "        # incoporating implicit feedback\n",
        "        u_impl_list = [] \n",
        "        for u in user_id:\n",
        "          u_i = u_i_dict[u.item()]\n",
        "          u_impl = self.y_j(torch.tensor(u_i).to(self.device)).sum(axis=0)\n",
        "          u_impl_list.append(u_impl / torch.tensor(len(u_i)).sqrt())\n",
        "        u_impl_vec = torch.stack((u_impl_list))\n",
        "        \n",
        "        P_u += u_impl_vec\n",
        "\n",
        "        if len(b_u) < 2:\n",
        "          outputs = mu + torch.squeeze(b_u) + torch.squeeze(b_i) + (P_u * Q_i).sum() \n",
        "        else:\n",
        "          outputs = mu + torch.squeeze(b_u) + torch.squeeze(b_i) + (P_u * Q_i).sum(axis=1) \n",
        "        return outputs.flatten()\n"
      ]
    },
    {
      "cell_type": "markdown",
      "metadata": {
        "id": "SIFUBncu9SIa"
      },
      "source": [
        "After defining the model structure, for efficient computations using pyTorch, we form our data as Torch tensors and get them on the pyTorch DataLoader which helps us with efficiently shuffling and batching the data for the training and testing procedures."
      ]
    },
    {
      "cell_type": "code",
      "execution_count": null,
      "metadata": {
        "id": "n0CZHte3G6oo"
      },
      "outputs": [],
      "source": [
        "def data_forming(train_ML, val_ML, test_ML, batch_size=256):\n",
        "  \"\"\"\n",
        "  gets the dataset splits, converts it to torch tensors, and gets them on the DataLoader\n",
        "  \"\"\"\n",
        "  train_u, train_i, train_r = train_ML[:,0], train_ML[:,1], train_ML[:,2]\n",
        "  val_u, val_i, val_r = val_ML[:,0], val_ML[:,1], val_ML[:,2]\n",
        "  test_u, test_i, test_r = test_ML[:,0], test_ML[:,1], test_ML[:,2]\n",
        "  # Get on TensorDataset\n",
        "  train_set = torch.utils.data.TensorDataset(\n",
        "    torch.tensor(train_u), torch.tensor(train_i), torch.tensor(train_r, dtype=torch.float32))\n",
        "  val_set = torch.utils.data.TensorDataset(\n",
        "    torch.tensor(val_u), torch.tensor(val_i), torch.tensor(val_r))\n",
        "  test_set = torch.utils.data.TensorDataset(\n",
        "    torch.tensor(test_u), torch.tensor(test_i), torch.tensor(test_r))\n",
        "  \n",
        "  # Get on DataLoader\n",
        "  train_iter = torch.utils.data.DataLoader(\n",
        "      train_set, shuffle=True, batch_size=batch_size)\n",
        "  val_iter = torch.utils.data.DataLoader(\n",
        "      val_set, shuffle=True, batch_size=batch_size)\n",
        "  test_iter = torch.utils.data.DataLoader(\n",
        "      test_set, shuffle=True, batch_size=batch_size)\n",
        "  \n",
        "  return train_iter, val_iter, test_iter\n"
      ]
    },
    {
      "cell_type": "markdown",
      "metadata": {
        "id": "O1bqcJCr95w2"
      },
      "source": [
        "Finally, we can train our model with the hyperparameter selection that you want. Generally, you want to use a hyperparameter tuning package such as [Ray](https://https://docs.ray.io/en/latest/tune/index.html) or [Weights and Biases](https://wandb.ai/site) for real-world problems, but since that is not the focal point of our interest here, we just manually define our hyperparameters. You are strongly encouraged to repeat training and testing with other hyperparameter settings to make conclusions about the influence of each hyperparameter. "
      ]
    },
    {
      "cell_type": "code",
      "execution_count": null,
      "metadata": {
        "id": "Fq_pEe8rvX1n"
      },
      "outputs": [],
      "source": [
        "# model hyperparameters \n",
        "config={\n",
        "    \"num_factors\":5,\n",
        "    \"batch_size\":2048,\n",
        "    'model_type': 'SVDpp',\n",
        "    \"optimizer\": 'Adam',\n",
        "    \"wd\":  1e-5 ,\n",
        "    \"lr\": 0.01,\n",
        "    \"num_epochs\":100,\n",
        "    \"save_every\":100\n",
        "}\n",
        "\n",
        "\n",
        "\n",
        "# get the formed data splits\n",
        "train_loader, val_loader, test_loader = data_forming(train_ML, val_ML, test_ML, config[\"batch_size\"])\n",
        "\n",
        "\n",
        "def train_eval_model(data, u_i_dict_train, u_i_dict_val, config, device):\n",
        "  \"\"\"\n",
        "  Performs training and validation using the defined model and hyperparameters.\n",
        "  \"\"\"\n",
        "\n",
        "  # we need these for model configuration\n",
        "  num_users = np.unique(data[:,0]).shape[0]\n",
        "  num_items = np.unique(data[:,1]).shape[0]\n",
        "  \n",
        "\n",
        "  # make an instance of the model. Here, the only model type we implemented is SVD++,\n",
        "  # but using the same skeleton, you can easily define other MF-based models as well\n",
        "  if config['model_type'] == 'SVDpp':\n",
        "    model = SVDpp(config['num_factors'], num_users, num_items, device)\n",
        "\n",
        "  # Define a loss function (MSE is the go-to choice for explicit rating data), but you\n",
        "  # can define other metrics as well\n",
        "  loss_fn = nn.MSELoss(reduction='mean')\n",
        "\n",
        "  # Define an optimizer\n",
        "  if config[\"optimizer\"] == \"Adam\":\n",
        "    optimizer = torch.optim.Adam((param for param in model.parameters()\n",
        "                            if param.requires_grad), \n",
        "                         weight_decay=config[\"wd\"], lr=config[\"lr\"])\n",
        "    \n",
        "  else:\n",
        "    optimizer = torch.optim.SGD((param for param in model.parameters()\n",
        "                            if param.requires_grad), \n",
        "                         weight_decay=config[\"wd\"], lr=config[\"lr\"])\n",
        "    \n",
        "\n",
        "  ######################################################################\n",
        "  # Train & Eval\n",
        "  ######################################################################\n",
        "\n",
        "  # Train\n",
        "  for epoch in tqdm(range(config['num_epochs'])):\n",
        "    tr_rmse = 0\n",
        "    model.train()\n",
        "    for u, i, r in train_loader:\n",
        "      u, i, r = u.to(device), i.to(device), r.to(device)\n",
        "      optimizer.zero_grad()\n",
        "      output = model(u, i, u_i_dict_train)\n",
        "      l = loss_fn(output, r)\n",
        "      l.backward()\n",
        "      optimizer.step()\n",
        "      with torch.no_grad():\n",
        "        tr_rmse += np.sqrt(loss_fn(output, r).cpu().numpy())\n",
        "      \n",
        "    print(\"   training RMSE Loss: {}\".format(tr_rmse))\n",
        "    \n",
        "    # Evaluate on Valid-set\n",
        "    val_rmse = 0\n",
        "    model.eval()\n",
        "    for u, i, r in val_loader:\n",
        "      u, i, r = u.to(device), i.to(device), r.to(device)\n",
        "      r_hat = model(u, i, u_i_dict_val)\n",
        "      with torch.no_grad():\n",
        "        val_rmse += np.sqrt(loss_fn(r_hat, r).cpu().numpy())\n",
        "\n",
        "    print(\"   validation RMSE Loss: {}\".format(val_rmse))\n",
        "\n",
        "    if epoch % config[\"save_every\"] + 1 == 0:\n",
        "      #path = os.getcwd()\n",
        "      torch.save((model.state_dict(), optimizer.state_dict()))\n",
        "\n",
        "\n",
        "def try_gpu(i=0): \n",
        "    return f'cuda:{i}' if torch.cuda.device_count() >= i + 1 else 'cpu'"
      ]
    },
    {
      "cell_type": "markdown",
      "metadata": {
        "id": "xG4FlghYAOvu"
      },
      "source": [
        "Check if you are connected to a GPU runtime"
      ]
    },
    {
      "cell_type": "code",
      "execution_count": null,
      "metadata": {
        "colab": {
          "base_uri": "https://localhost:8080/"
        },
        "id": "H99IAent-W3y",
        "outputId": "09035abb-1b7d-4240-c552-89b825669970"
      },
      "outputs": [
        {
          "name": "stdout",
          "output_type": "stream",
          "text": [
            "cuda:0\n"
          ]
        }
      ],
      "source": [
        "device = try_gpu()\n",
        "print(device)\n",
        "\n"
      ]
    },
    {
      "cell_type": "markdown",
      "metadata": {
        "id": "cLc7QEdhA6K4"
      },
      "source": [
        "Finally run the training loop"
      ]
    },
    {
      "cell_type": "code",
      "execution_count": null,
      "metadata": {
        "colab": {
          "background_save": true,
          "base_uri": "https://localhost:8080/"
        },
        "id": "43xj_oNmIhhh",
        "outputId": "91a9a700-1088-4e98-e9b3-d039307263f5"
      },
      "outputs": [
        {
          "name": "stderr",
          "output_type": "stream",
          "text": [
            "\r  0%|          | 0/100 [00:00<?, ?it/s]"
          ]
        },
        {
          "name": "stdout",
          "output_type": "stream",
          "text": [
            "training RMSE Loss: 156.8235001564026\n"
          ]
        },
        {
          "name": "stderr",
          "output_type": "stream",
          "text": [
            "\r  1%|          | 1/100 [00:37<1:01:58, 37.56s/it]"
          ]
        },
        {
          "name": "stdout",
          "output_type": "stream",
          "text": [
            "validation RMSE Loss: 34.77210330963135\n",
            "training RMSE Loss: 128.408864736557\n"
          ]
        },
        {
          "name": "stderr",
          "output_type": "stream",
          "text": [
            "\r  2%|▏         | 2/100 [01:08<54:59, 33.67s/it]  "
          ]
        },
        {
          "name": "stdout",
          "output_type": "stream",
          "text": [
            "validation RMSE Loss: 30.498223066329956\n",
            "training RMSE Loss: 105.74168276786804\n"
          ]
        },
        {
          "name": "stderr",
          "output_type": "stream",
          "text": [
            "\r  3%|▎         | 3/100 [01:40<53:16, 32.95s/it]"
          ]
        },
        {
          "name": "stdout",
          "output_type": "stream",
          "text": [
            "validation RMSE Loss: 26.618419885635376\n",
            "training RMSE Loss: 84.35095357894897\n"
          ]
        },
        {
          "name": "stderr",
          "output_type": "stream",
          "text": [
            "\r  4%|▍         | 4/100 [02:11<51:37, 32.27s/it]"
          ]
        },
        {
          "name": "stdout",
          "output_type": "stream",
          "text": [
            "validation RMSE Loss: 23.494938373565674\n",
            "training RMSE Loss: 66.2462329864502\n"
          ]
        },
        {
          "name": "stderr",
          "output_type": "stream",
          "text": [
            "\r  5%|▌         | 5/100 [02:42<50:25, 31.85s/it]"
          ]
        },
        {
          "name": "stdout",
          "output_type": "stream",
          "text": [
            "validation RMSE Loss: 21.545534372329712\n",
            "training RMSE Loss: 53.963019371032715\n"
          ]
        },
        {
          "name": "stderr",
          "output_type": "stream",
          "text": [
            "\r  6%|▌         | 6/100 [03:15<50:16, 32.09s/it]"
          ]
        },
        {
          "name": "stdout",
          "output_type": "stream",
          "text": [
            "validation RMSE Loss: 20.306151866912842\n",
            "training RMSE Loss: 46.70897305011749\n"
          ]
        },
        {
          "name": "stderr",
          "output_type": "stream",
          "text": [
            "\r  7%|▋         | 7/100 [03:46<49:08, 31.71s/it]"
          ]
        },
        {
          "name": "stdout",
          "output_type": "stream",
          "text": [
            "validation RMSE Loss: 19.677151441574097\n",
            "training RMSE Loss: 42.348783016204834\n"
          ]
        },
        {
          "name": "stderr",
          "output_type": "stream",
          "text": [
            "\r  8%|▊         | 8/100 [04:17<48:15, 31.47s/it]"
          ]
        },
        {
          "name": "stdout",
          "output_type": "stream",
          "text": [
            "validation RMSE Loss: 19.01854372024536\n",
            "training RMSE Loss: 39.55339705944061\n"
          ]
        },
        {
          "name": "stderr",
          "output_type": "stream",
          "text": [
            "\r  9%|▉         | 9/100 [04:48<47:31, 31.33s/it]"
          ]
        },
        {
          "name": "stdout",
          "output_type": "stream",
          "text": [
            "validation RMSE Loss: 18.737300634384155\n",
            "training RMSE Loss: 37.756924510002136\n"
          ]
        },
        {
          "name": "stderr",
          "output_type": "stream",
          "text": [
            "\r 10%|█         | 10/100 [05:20<47:23, 31.60s/it]"
          ]
        },
        {
          "name": "stdout",
          "output_type": "stream",
          "text": [
            "validation RMSE Loss: 18.414005756378174\n",
            "training RMSE Loss: 36.34569203853607\n"
          ]
        },
        {
          "name": "stderr",
          "output_type": "stream",
          "text": [
            "\r 11%|█         | 11/100 [05:51<46:40, 31.47s/it]"
          ]
        },
        {
          "name": "stdout",
          "output_type": "stream",
          "text": [
            "validation RMSE Loss: 18.179848670959473\n",
            "training RMSE Loss: 35.3904874920845\n"
          ]
        },
        {
          "name": "stderr",
          "output_type": "stream",
          "text": [
            "\r 12%|█▏        | 12/100 [06:22<46:00, 31.36s/it]"
          ]
        },
        {
          "name": "stdout",
          "output_type": "stream",
          "text": [
            "validation RMSE Loss: 18.186909914016724\n",
            "training RMSE Loss: 34.70269817113876\n"
          ]
        },
        {
          "name": "stderr",
          "output_type": "stream",
          "text": [
            "\r 13%|█▎        | 13/100 [06:54<45:35, 31.45s/it]"
          ]
        },
        {
          "name": "stdout",
          "output_type": "stream",
          "text": [
            "validation RMSE Loss: 17.959864616394043\n",
            "training RMSE Loss: 34.10026741027832\n"
          ]
        },
        {
          "name": "stderr",
          "output_type": "stream",
          "text": [
            "\r 14%|█▍        | 14/100 [07:26<45:12, 31.54s/it]"
          ]
        },
        {
          "name": "stdout",
          "output_type": "stream",
          "text": [
            "validation RMSE Loss: 17.76404881477356\n",
            "training RMSE Loss: 33.61972659826279\n"
          ]
        },
        {
          "name": "stderr",
          "output_type": "stream",
          "text": [
            "\r 15%|█▌        | 15/100 [07:57<44:28, 31.40s/it]"
          ]
        },
        {
          "name": "stdout",
          "output_type": "stream",
          "text": [
            "validation RMSE Loss: 17.627869844436646\n",
            "training RMSE Loss: 33.21574592590332\n"
          ]
        },
        {
          "name": "stderr",
          "output_type": "stream",
          "text": [
            "\r 16%|█▌        | 16/100 [08:28<43:49, 31.30s/it]"
          ]
        },
        {
          "name": "stdout",
          "output_type": "stream",
          "text": [
            "validation RMSE Loss: 17.544190406799316\n",
            "training RMSE Loss: 32.9031103849411\n"
          ]
        },
        {
          "name": "stderr",
          "output_type": "stream",
          "text": [
            "\r 17%|█▋        | 17/100 [09:00<43:36, 31.53s/it]"
          ]
        },
        {
          "name": "stdout",
          "output_type": "stream",
          "text": [
            "validation RMSE Loss: 17.49558186531067\n",
            "training RMSE Loss: 32.67581331729889\n"
          ]
        },
        {
          "name": "stderr",
          "output_type": "stream",
          "text": [
            "\r 18%|█▊        | 18/100 [09:31<42:59, 31.46s/it]"
          ]
        },
        {
          "name": "stdout",
          "output_type": "stream",
          "text": [
            "validation RMSE Loss: 17.440909147262573\n",
            "training RMSE Loss: 32.45269459486008\n"
          ]
        },
        {
          "name": "stderr",
          "output_type": "stream",
          "text": [
            "\r 19%|█▉        | 19/100 [10:02<42:20, 31.36s/it]"
          ]
        },
        {
          "name": "stdout",
          "output_type": "stream",
          "text": [
            "validation RMSE Loss: 17.340108394622803\n",
            "training RMSE Loss: 32.213555097579956\n"
          ]
        },
        {
          "name": "stderr",
          "output_type": "stream",
          "text": [
            "\r 20%|██        | 20/100 [10:34<42:04, 31.56s/it]"
          ]
        },
        {
          "name": "stdout",
          "output_type": "stream",
          "text": [
            "validation RMSE Loss: 17.230391025543213\n",
            "training RMSE Loss: 32.070870876312256\n"
          ]
        },
        {
          "name": "stderr",
          "output_type": "stream",
          "text": [
            "\r 21%|██        | 21/100 [11:06<41:33, 31.56s/it]"
          ]
        },
        {
          "name": "stdout",
          "output_type": "stream",
          "text": [
            "validation RMSE Loss: 17.28804302215576\n",
            "training RMSE Loss: 31.909022092819214\n"
          ]
        },
        {
          "name": "stderr",
          "output_type": "stream",
          "text": [
            "\r 22%|██▏       | 22/100 [11:37<40:56, 31.49s/it]"
          ]
        },
        {
          "name": "stdout",
          "output_type": "stream",
          "text": [
            "validation RMSE Loss: 17.193825244903564\n",
            "training RMSE Loss: 31.84443324804306\n"
          ]
        },
        {
          "name": "stderr",
          "output_type": "stream",
          "text": [
            "\r 23%|██▎       | 23/100 [12:09<40:23, 31.48s/it]"
          ]
        },
        {
          "name": "stdout",
          "output_type": "stream",
          "text": [
            "validation RMSE Loss: 17.125345468521118\n",
            "training RMSE Loss: 31.730734050273895\n"
          ]
        },
        {
          "name": "stderr",
          "output_type": "stream",
          "text": [
            "\r 24%|██▍       | 24/100 [12:41<40:09, 31.71s/it]"
          ]
        },
        {
          "name": "stdout",
          "output_type": "stream",
          "text": [
            "validation RMSE Loss: 17.091407299041748\n",
            "training RMSE Loss: 31.657506585121155\n"
          ]
        },
        {
          "name": "stderr",
          "output_type": "stream",
          "text": [
            "\r 25%|██▌       | 25/100 [13:12<39:20, 31.48s/it]"
          ]
        },
        {
          "name": "stdout",
          "output_type": "stream",
          "text": [
            "validation RMSE Loss: 16.99880290031433\n",
            "training RMSE Loss: 31.588805615901947\n"
          ]
        },
        {
          "name": "stderr",
          "output_type": "stream",
          "text": [
            "\r 26%|██▌       | 26/100 [13:43<38:43, 31.40s/it]"
          ]
        },
        {
          "name": "stdout",
          "output_type": "stream",
          "text": [
            "validation RMSE Loss: 17.01543617248535\n",
            "training RMSE Loss: 31.4319766163826\n"
          ]
        },
        {
          "name": "stderr",
          "output_type": "stream",
          "text": [
            "\r 27%|██▋       | 27/100 [14:15<38:26, 31.60s/it]"
          ]
        },
        {
          "name": "stdout",
          "output_type": "stream",
          "text": [
            "validation RMSE Loss: 17.031507968902588\n",
            "training RMSE Loss: 31.376847624778748\n"
          ]
        },
        {
          "name": "stderr",
          "output_type": "stream",
          "text": [
            "\r 28%|██▊       | 28/100 [14:47<37:55, 31.61s/it]"
          ]
        },
        {
          "name": "stdout",
          "output_type": "stream",
          "text": [
            "validation RMSE Loss: 17.005978107452393\n",
            "training RMSE Loss: 31.251933872699738\n"
          ]
        },
        {
          "name": "stderr",
          "output_type": "stream",
          "text": [
            "\r 29%|██▉       | 29/100 [15:18<37:19, 31.54s/it]"
          ]
        },
        {
          "name": "stdout",
          "output_type": "stream",
          "text": [
            "validation RMSE Loss: 16.907174825668335\n",
            "training RMSE Loss: 31.21559464931488\n"
          ]
        },
        {
          "name": "stderr",
          "output_type": "stream",
          "text": [
            "\r 30%|███       | 30/100 [15:49<36:39, 31.42s/it]"
          ]
        },
        {
          "name": "stdout",
          "output_type": "stream",
          "text": [
            "validation RMSE Loss: 16.909841299057007\n",
            "training RMSE Loss: 31.143626153469086\n"
          ]
        },
        {
          "name": "stderr",
          "output_type": "stream",
          "text": [
            "\r 31%|███       | 31/100 [16:21<36:06, 31.40s/it]"
          ]
        },
        {
          "name": "stdout",
          "output_type": "stream",
          "text": [
            "validation RMSE Loss: 16.962039709091187\n",
            "training RMSE Loss: 31.083468854427338\n"
          ]
        },
        {
          "name": "stderr",
          "output_type": "stream",
          "text": [
            "\r 32%|███▏      | 32/100 [16:51<35:17, 31.14s/it]"
          ]
        },
        {
          "name": "stdout",
          "output_type": "stream",
          "text": [
            "validation RMSE Loss: 16.943360090255737\n",
            "training RMSE Loss: 30.990998089313507\n"
          ]
        },
        {
          "name": "stderr",
          "output_type": "stream",
          "text": [
            "\r 33%|███▎      | 33/100 [17:22<34:27, 30.87s/it]"
          ]
        },
        {
          "name": "stdout",
          "output_type": "stream",
          "text": [
            "validation RMSE Loss: 16.74012303352356\n",
            "training RMSE Loss: 30.92856615781784\n"
          ]
        },
        {
          "name": "stderr",
          "output_type": "stream",
          "text": [
            "\r 34%|███▍      | 34/100 [17:52<33:52, 30.80s/it]"
          ]
        },
        {
          "name": "stdout",
          "output_type": "stream",
          "text": [
            "validation RMSE Loss: 16.85683012008667\n",
            "training RMSE Loss: 30.883029222488403\n"
          ]
        },
        {
          "name": "stderr",
          "output_type": "stream",
          "text": [
            "\r 35%|███▌      | 35/100 [18:22<33:03, 30.52s/it]"
          ]
        },
        {
          "name": "stdout",
          "output_type": "stream",
          "text": [
            "validation RMSE Loss: 16.82383155822754\n",
            "training RMSE Loss: 30.790699005126953\n"
          ]
        },
        {
          "name": "stderr",
          "output_type": "stream",
          "text": [
            "\r 36%|███▌      | 36/100 [18:52<32:22, 30.35s/it]"
          ]
        },
        {
          "name": "stdout",
          "output_type": "stream",
          "text": [
            "validation RMSE Loss: 16.7103111743927\n",
            "training RMSE Loss: 30.766352117061615\n"
          ]
        },
        {
          "name": "stderr",
          "output_type": "stream",
          "text": [
            "\r 37%|███▋      | 37/100 [19:23<31:58, 30.46s/it]"
          ]
        },
        {
          "name": "stdout",
          "output_type": "stream",
          "text": [
            "validation RMSE Loss: 16.739062309265137\n",
            "training RMSE Loss: 30.662131249904633\n"
          ]
        },
        {
          "name": "stderr",
          "output_type": "stream",
          "text": [
            "\r 38%|███▊      | 38/100 [19:53<31:17, 30.29s/it]"
          ]
        },
        {
          "name": "stdout",
          "output_type": "stream",
          "text": [
            "validation RMSE Loss: 16.73799467086792\n",
            "training RMSE Loss: 30.60205352306366\n"
          ]
        },
        {
          "name": "stderr",
          "output_type": "stream",
          "text": [
            "\r 39%|███▉      | 39/100 [20:23<30:42, 30.21s/it]"
          ]
        },
        {
          "name": "stdout",
          "output_type": "stream",
          "text": [
            "validation RMSE Loss: 16.816874504089355\n",
            "training RMSE Loss: 30.584218978881836\n"
          ]
        },
        {
          "name": "stderr",
          "output_type": "stream",
          "text": [
            "\r 40%|████      | 40/100 [20:54<30:27, 30.45s/it]"
          ]
        },
        {
          "name": "stdout",
          "output_type": "stream",
          "text": [
            "validation RMSE Loss: 16.629241228103638\n",
            "training RMSE Loss: 30.525259017944336\n"
          ]
        },
        {
          "name": "stderr",
          "output_type": "stream",
          "text": [
            "\r 41%|████      | 41/100 [21:24<29:48, 30.31s/it]"
          ]
        },
        {
          "name": "stdout",
          "output_type": "stream",
          "text": [
            "validation RMSE Loss: 16.659206748008728\n",
            "training RMSE Loss: 30.520462095737457\n"
          ]
        },
        {
          "name": "stderr",
          "output_type": "stream",
          "text": [
            "\r 42%|████▏     | 42/100 [21:54<29:11, 30.20s/it]"
          ]
        },
        {
          "name": "stdout",
          "output_type": "stream",
          "text": [
            "validation RMSE Loss: 16.618679761886597\n",
            "training RMSE Loss: 30.425709307193756\n"
          ]
        },
        {
          "name": "stderr",
          "output_type": "stream",
          "text": [
            "\r 43%|████▎     | 43/100 [22:24<28:50, 30.36s/it]"
          ]
        },
        {
          "name": "stdout",
          "output_type": "stream",
          "text": [
            "validation RMSE Loss: 16.54438304901123\n",
            "training RMSE Loss: 30.39563089609146\n"
          ]
        },
        {
          "name": "stderr",
          "output_type": "stream",
          "text": [
            "\r 44%|████▍     | 44/100 [22:54<28:13, 30.24s/it]"
          ]
        },
        {
          "name": "stdout",
          "output_type": "stream",
          "text": [
            "validation RMSE Loss: 16.64518642425537\n",
            "training RMSE Loss: 30.257419288158417\n"
          ]
        },
        {
          "name": "stderr",
          "output_type": "stream",
          "text": [
            "\r 45%|████▌     | 45/100 [23:24<27:36, 30.13s/it]"
          ]
        },
        {
          "name": "stdout",
          "output_type": "stream",
          "text": [
            "validation RMSE Loss: 16.560811281204224\n",
            "training RMSE Loss: 30.26810908317566\n"
          ]
        },
        {
          "name": "stderr",
          "output_type": "stream",
          "text": [
            "\r 46%|████▌     | 46/100 [23:55<27:15, 30.29s/it]"
          ]
        },
        {
          "name": "stdout",
          "output_type": "stream",
          "text": [
            "validation RMSE Loss: 16.532170295715332\n",
            "training RMSE Loss: 30.24160611629486\n"
          ]
        },
        {
          "name": "stderr",
          "output_type": "stream",
          "text": [
            "\r 47%|████▋     | 47/100 [24:25<26:36, 30.12s/it]"
          ]
        },
        {
          "name": "stdout",
          "output_type": "stream",
          "text": [
            "validation RMSE Loss: 16.520496368408203\n",
            "training RMSE Loss: 30.130698680877686\n"
          ]
        },
        {
          "name": "stderr",
          "output_type": "stream",
          "text": [
            "\r 48%|████▊     | 48/100 [24:54<25:58, 29.98s/it]"
          ]
        },
        {
          "name": "stdout",
          "output_type": "stream",
          "text": [
            "validation RMSE Loss: 16.40944504737854\n",
            "training RMSE Loss: 30.13629138469696\n"
          ]
        },
        {
          "name": "stderr",
          "output_type": "stream",
          "text": [
            "\r 49%|████▉     | 49/100 [25:25<25:35, 30.10s/it]"
          ]
        },
        {
          "name": "stdout",
          "output_type": "stream",
          "text": [
            "validation RMSE Loss: 16.36802887916565\n",
            "training RMSE Loss: 30.042126953601837\n"
          ]
        },
        {
          "name": "stderr",
          "output_type": "stream",
          "text": [
            "\r 50%|█████     | 50/100 [25:54<25:02, 30.06s/it]"
          ]
        },
        {
          "name": "stdout",
          "output_type": "stream",
          "text": [
            "validation RMSE Loss: 16.435519456863403\n",
            "training RMSE Loss: 29.994343757629395\n"
          ]
        },
        {
          "name": "stderr",
          "output_type": "stream",
          "text": [
            "\r 51%|█████     | 51/100 [26:24<24:31, 30.03s/it]"
          ]
        },
        {
          "name": "stdout",
          "output_type": "stream",
          "text": [
            "validation RMSE Loss: 16.39322328567505\n",
            "training RMSE Loss: 29.990112960338593\n"
          ]
        },
        {
          "name": "stderr",
          "output_type": "stream",
          "text": [
            "\r 52%|█████▏    | 52/100 [26:55<24:12, 30.26s/it]"
          ]
        },
        {
          "name": "stdout",
          "output_type": "stream",
          "text": [
            "validation RMSE Loss: 16.374632120132446\n",
            "training RMSE Loss: 29.901052713394165\n"
          ]
        },
        {
          "name": "stderr",
          "output_type": "stream",
          "text": [
            "\r 53%|█████▎    | 53/100 [27:25<23:39, 30.20s/it]"
          ]
        },
        {
          "name": "stdout",
          "output_type": "stream",
          "text": [
            "validation RMSE Loss: 16.273908615112305\n",
            "training RMSE Loss: 29.84297639131546\n"
          ]
        },
        {
          "name": "stderr",
          "output_type": "stream",
          "text": [
            "\r 54%|█████▍    | 54/100 [27:55<23:05, 30.13s/it]"
          ]
        },
        {
          "name": "stdout",
          "output_type": "stream",
          "text": [
            "validation RMSE Loss: 16.351342916488647\n",
            "training RMSE Loss: 29.79682332277298\n"
          ]
        },
        {
          "name": "stderr",
          "output_type": "stream",
          "text": [
            "\r 55%|█████▌    | 55/100 [28:26<22:46, 30.36s/it]"
          ]
        },
        {
          "name": "stdout",
          "output_type": "stream",
          "text": [
            "validation RMSE Loss: 16.296509742736816\n",
            "training RMSE Loss: 29.725114822387695\n"
          ]
        },
        {
          "name": "stderr",
          "output_type": "stream",
          "text": [
            "\r 56%|█████▌    | 56/100 [28:56<22:12, 30.27s/it]"
          ]
        },
        {
          "name": "stdout",
          "output_type": "stream",
          "text": [
            "validation RMSE Loss: 16.135980248451233\n",
            "training RMSE Loss: 29.66362899541855\n"
          ]
        },
        {
          "name": "stderr",
          "output_type": "stream",
          "text": [
            "\r 57%|█████▋    | 57/100 [29:26<21:40, 30.24s/it]"
          ]
        },
        {
          "name": "stdout",
          "output_type": "stream",
          "text": [
            "validation RMSE Loss: 16.258826851844788\n",
            "training RMSE Loss: 29.629375159740448\n"
          ]
        },
        {
          "name": "stderr",
          "output_type": "stream",
          "text": [
            "\r 58%|█████▊    | 58/100 [29:57<21:18, 30.45s/it]"
          ]
        },
        {
          "name": "stdout",
          "output_type": "stream",
          "text": [
            "validation RMSE Loss: 16.310165643692017\n",
            "training RMSE Loss: 29.553656041622162\n"
          ]
        },
        {
          "name": "stderr",
          "output_type": "stream",
          "text": [
            "\r 59%|█████▉    | 59/100 [30:27<20:44, 30.34s/it]"
          ]
        },
        {
          "name": "stdout",
          "output_type": "stream",
          "text": [
            "validation RMSE Loss: 16.107373356819153\n",
            "training RMSE Loss: 29.556760251522064\n"
          ]
        },
        {
          "name": "stderr",
          "output_type": "stream",
          "text": [
            "\r 60%|██████    | 60/100 [30:58<20:11, 30.28s/it]"
          ]
        },
        {
          "name": "stdout",
          "output_type": "stream",
          "text": [
            "validation RMSE Loss: 16.077045440673828\n",
            "training RMSE Loss: 29.537481486797333\n"
          ]
        },
        {
          "name": "stderr",
          "output_type": "stream",
          "text": [
            "\r 61%|██████    | 61/100 [31:28<19:39, 30.25s/it]"
          ]
        },
        {
          "name": "stdout",
          "output_type": "stream",
          "text": [
            "validation RMSE Loss: 16.21060538291931\n",
            "training RMSE Loss: 29.446865141391754\n"
          ]
        },
        {
          "name": "stderr",
          "output_type": "stream",
          "text": [
            "\r 62%|██████▏   | 62/100 [31:57<19:03, 30.10s/it]"
          ]
        },
        {
          "name": "stdout",
          "output_type": "stream",
          "text": [
            "validation RMSE Loss: 16.151877760887146\n",
            "training RMSE Loss: 29.39406406879425\n"
          ]
        },
        {
          "name": "stderr",
          "output_type": "stream",
          "text": [
            "\r 63%|██████▎   | 63/100 [32:27<18:31, 30.03s/it]"
          ]
        },
        {
          "name": "stdout",
          "output_type": "stream",
          "text": [
            "validation RMSE Loss: 16.12615990638733\n",
            "training RMSE Loss: 29.374344766139984\n"
          ]
        },
        {
          "name": "stderr",
          "output_type": "stream",
          "text": [
            "\r 64%|██████▍   | 64/100 [32:58<18:03, 30.10s/it]"
          ]
        },
        {
          "name": "stdout",
          "output_type": "stream",
          "text": [
            "validation RMSE Loss: 16.04658055305481\n",
            "training RMSE Loss: 29.258659183979034\n"
          ]
        },
        {
          "name": "stderr",
          "output_type": "stream",
          "text": [
            "\r 65%|██████▌   | 65/100 [33:27<17:30, 30.00s/it]"
          ]
        },
        {
          "name": "stdout",
          "output_type": "stream",
          "text": [
            "validation RMSE Loss: 15.94907557964325\n",
            "training RMSE Loss: 29.216575980186462\n"
          ]
        },
        {
          "name": "stderr",
          "output_type": "stream",
          "text": [
            "\r 66%|██████▌   | 66/100 [33:57<16:57, 29.93s/it]"
          ]
        },
        {
          "name": "stdout",
          "output_type": "stream",
          "text": [
            "validation RMSE Loss: 16.01361906528473\n",
            "training RMSE Loss: 29.164670705795288\n"
          ]
        },
        {
          "name": "stderr",
          "output_type": "stream",
          "text": [
            "\r 67%|██████▋   | 67/100 [34:28<16:34, 30.14s/it]"
          ]
        },
        {
          "name": "stdout",
          "output_type": "stream",
          "text": [
            "validation RMSE Loss: 15.942094802856445\n",
            "training RMSE Loss: 29.113959670066833\n"
          ]
        },
        {
          "name": "stderr",
          "output_type": "stream",
          "text": [
            "\r 68%|██████▊   | 68/100 [34:58<16:00, 30.03s/it]"
          ]
        },
        {
          "name": "stdout",
          "output_type": "stream",
          "text": [
            "validation RMSE Loss: 15.860460042953491\n",
            "training RMSE Loss: 29.0398850440979\n"
          ]
        },
        {
          "name": "stderr",
          "output_type": "stream",
          "text": [
            "\r 69%|██████▉   | 69/100 [35:27<15:28, 29.95s/it]"
          ]
        },
        {
          "name": "stdout",
          "output_type": "stream",
          "text": [
            "validation RMSE Loss: 15.985011219978333\n",
            "training RMSE Loss: 29.090168476104736\n"
          ]
        },
        {
          "name": "stderr",
          "output_type": "stream",
          "text": [
            "\r 70%|███████   | 70/100 [35:58<15:06, 30.20s/it]"
          ]
        },
        {
          "name": "stdout",
          "output_type": "stream",
          "text": [
            "validation RMSE Loss: 15.75217604637146\n",
            "training RMSE Loss: 28.983502805233\n"
          ]
        },
        {
          "name": "stderr",
          "output_type": "stream",
          "text": [
            "\r 71%|███████   | 71/100 [36:28<14:32, 30.08s/it]"
          ]
        },
        {
          "name": "stdout",
          "output_type": "stream",
          "text": [
            "validation RMSE Loss: 15.790247201919556\n",
            "training RMSE Loss: 28.937440633773804\n"
          ]
        },
        {
          "name": "stderr",
          "output_type": "stream",
          "text": [
            "\r 72%|███████▏  | 72/100 [36:58<14:00, 30.03s/it]"
          ]
        },
        {
          "name": "stdout",
          "output_type": "stream",
          "text": [
            "validation RMSE Loss: 15.79087233543396\n",
            "training RMSE Loss: 28.820718944072723\n"
          ]
        },
        {
          "name": "stderr",
          "output_type": "stream",
          "text": [
            "\r 73%|███████▎  | 73/100 [37:28<13:35, 30.20s/it]"
          ]
        },
        {
          "name": "stdout",
          "output_type": "stream",
          "text": [
            "validation RMSE Loss: 15.73983359336853\n",
            "training RMSE Loss: 28.83289122581482\n"
          ]
        },
        {
          "name": "stderr",
          "output_type": "stream",
          "text": [
            "\r 74%|███████▍  | 74/100 [37:58<13:03, 30.12s/it]"
          ]
        },
        {
          "name": "stdout",
          "output_type": "stream",
          "text": [
            "validation RMSE Loss: 15.775578141212463\n",
            "training RMSE Loss: 28.832938194274902\n"
          ]
        },
        {
          "name": "stderr",
          "output_type": "stream",
          "text": [
            "\r 75%|███████▌  | 75/100 [38:28<12:30, 30.03s/it]"
          ]
        },
        {
          "name": "stdout",
          "output_type": "stream",
          "text": [
            "validation RMSE Loss: 15.77587080001831\n",
            "training RMSE Loss: 28.701917350292206\n"
          ]
        },
        {
          "name": "stderr",
          "output_type": "stream",
          "text": [
            "\r 76%|███████▌  | 76/100 [38:59<12:06, 30.27s/it]"
          ]
        },
        {
          "name": "stdout",
          "output_type": "stream",
          "text": [
            "validation RMSE Loss: 15.737230896949768\n",
            "training RMSE Loss: 28.709124267101288\n"
          ]
        },
        {
          "name": "stderr",
          "output_type": "stream",
          "text": [
            "\r 77%|███████▋  | 77/100 [39:29<11:33, 30.16s/it]"
          ]
        },
        {
          "name": "stdout",
          "output_type": "stream",
          "text": [
            "validation RMSE Loss: 15.545282244682312\n",
            "training RMSE Loss: 28.65413326025009\n"
          ]
        },
        {
          "name": "stderr",
          "output_type": "stream",
          "text": [
            "\r 78%|███████▊  | 78/100 [39:59<11:00, 30.01s/it]"
          ]
        },
        {
          "name": "stdout",
          "output_type": "stream",
          "text": [
            "validation RMSE Loss: 15.571494460105896\n",
            "training RMSE Loss: 28.61785089969635\n"
          ]
        },
        {
          "name": "stderr",
          "output_type": "stream",
          "text": [
            "\r 79%|███████▉  | 79/100 [40:29<10:31, 30.08s/it]"
          ]
        },
        {
          "name": "stdout",
          "output_type": "stream",
          "text": [
            "validation RMSE Loss: 15.610396027565002\n",
            "training RMSE Loss: 28.523030519485474\n"
          ]
        },
        {
          "name": "stderr",
          "output_type": "stream",
          "text": [
            "\r 80%|████████  | 80/100 [40:58<09:58, 29.95s/it]"
          ]
        },
        {
          "name": "stdout",
          "output_type": "stream",
          "text": [
            "validation RMSE Loss: 15.504579424858093\n",
            "training RMSE Loss: 28.518797278404236\n"
          ]
        },
        {
          "name": "stderr",
          "output_type": "stream",
          "text": [
            "\r 81%|████████  | 81/100 [41:28<09:27, 29.85s/it]"
          ]
        },
        {
          "name": "stdout",
          "output_type": "stream",
          "text": [
            "validation RMSE Loss: 15.331573963165283\n",
            "training RMSE Loss: 28.433787763118744\n"
          ]
        },
        {
          "name": "stderr",
          "output_type": "stream",
          "text": [
            "\r 82%|████████▏ | 82/100 [41:59<09:02, 30.14s/it]"
          ]
        },
        {
          "name": "stdout",
          "output_type": "stream",
          "text": [
            "validation RMSE Loss: 15.446540474891663\n",
            "training RMSE Loss: 28.415311574935913\n"
          ]
        },
        {
          "name": "stderr",
          "output_type": "stream",
          "text": [
            "\r 83%|████████▎ | 83/100 [42:29<08:31, 30.09s/it]"
          ]
        },
        {
          "name": "stdout",
          "output_type": "stream",
          "text": [
            "validation RMSE Loss: 15.47377872467041\n",
            "training RMSE Loss: 28.38885873556137\n"
          ]
        },
        {
          "name": "stderr",
          "output_type": "stream",
          "text": [
            "\r 84%|████████▍ | 84/100 [42:59<07:59, 29.97s/it]"
          ]
        },
        {
          "name": "stdout",
          "output_type": "stream",
          "text": [
            "validation RMSE Loss: 15.462392210960388\n",
            "training RMSE Loss: 28.39734798669815\n"
          ]
        },
        {
          "name": "stderr",
          "output_type": "stream",
          "text": [
            "\r 85%|████████▌ | 85/100 [43:29<07:31, 30.08s/it]"
          ]
        },
        {
          "name": "stdout",
          "output_type": "stream",
          "text": [
            "validation RMSE Loss: 15.356729745864868\n",
            "training RMSE Loss: 28.33057701587677\n"
          ]
        },
        {
          "name": "stderr",
          "output_type": "stream",
          "text": [
            "\r 86%|████████▌ | 86/100 [43:59<07:00, 30.00s/it]"
          ]
        },
        {
          "name": "stdout",
          "output_type": "stream",
          "text": [
            "validation RMSE Loss: 15.3169926404953\n",
            "training RMSE Loss: 28.276168704032898\n"
          ]
        },
        {
          "name": "stderr",
          "output_type": "stream",
          "text": [
            "\r 87%|████████▋ | 87/100 [44:28<06:29, 29.93s/it]"
          ]
        },
        {
          "name": "stdout",
          "output_type": "stream",
          "text": [
            "validation RMSE Loss: 15.294625163078308\n",
            "training RMSE Loss: 28.20395928621292\n"
          ]
        },
        {
          "name": "stderr",
          "output_type": "stream",
          "text": [
            "\r 88%|████████▊ | 88/100 [44:59<06:01, 30.12s/it]"
          ]
        },
        {
          "name": "stdout",
          "output_type": "stream",
          "text": [
            "validation RMSE Loss: 15.310640573501587\n",
            "training RMSE Loss: 28.160870850086212\n"
          ]
        },
        {
          "name": "stderr",
          "output_type": "stream",
          "text": [
            "\r 89%|████████▉ | 89/100 [45:29<05:30, 30.02s/it]"
          ]
        },
        {
          "name": "stdout",
          "output_type": "stream",
          "text": [
            "validation RMSE Loss: 15.22469711303711\n",
            "training RMSE Loss: 28.122628033161163\n"
          ]
        },
        {
          "name": "stderr",
          "output_type": "stream",
          "text": [
            "\r 90%|█████████ | 90/100 [45:59<04:59, 29.95s/it]"
          ]
        },
        {
          "name": "stdout",
          "output_type": "stream",
          "text": [
            "validation RMSE Loss: 15.22230088710785\n",
            "training RMSE Loss: 28.09022682905197\n"
          ]
        },
        {
          "name": "stderr",
          "output_type": "stream",
          "text": [
            "\r 91%|█████████ | 91/100 [46:29<04:31, 30.18s/it]"
          ]
        },
        {
          "name": "stdout",
          "output_type": "stream",
          "text": [
            "validation RMSE Loss: 15.252164840698242\n",
            "training RMSE Loss: 28.067262947559357\n"
          ]
        },
        {
          "name": "stderr",
          "output_type": "stream",
          "text": [
            "\r 92%|█████████▏| 92/100 [46:59<04:00, 30.05s/it]"
          ]
        },
        {
          "name": "stdout",
          "output_type": "stream",
          "text": [
            "validation RMSE Loss: 15.151809692382812\n",
            "training RMSE Loss: 28.00596386194229\n"
          ]
        },
        {
          "name": "stderr",
          "output_type": "stream",
          "text": [
            "\r 93%|█████████▎| 93/100 [47:29<03:29, 29.95s/it]"
          ]
        },
        {
          "name": "stdout",
          "output_type": "stream",
          "text": [
            "validation RMSE Loss: 15.119099140167236\n",
            "training RMSE Loss: 27.9975688457489\n"
          ]
        },
        {
          "name": "stderr",
          "output_type": "stream",
          "text": [
            "\r 94%|█████████▍| 94/100 [47:59<03:00, 30.16s/it]"
          ]
        },
        {
          "name": "stdout",
          "output_type": "stream",
          "text": [
            "validation RMSE Loss: 15.019988179206848\n",
            "training RMSE Loss: 27.97790241241455\n"
          ]
        },
        {
          "name": "stderr",
          "output_type": "stream",
          "text": [
            "\r 95%|█████████▌| 95/100 [48:29<02:30, 30.02s/it]"
          ]
        },
        {
          "name": "stdout",
          "output_type": "stream",
          "text": [
            "validation RMSE Loss: 15.031173825263977\n",
            "training RMSE Loss: 27.913062930107117\n"
          ]
        },
        {
          "name": "stderr",
          "output_type": "stream",
          "text": [
            "\r 96%|█████████▌| 96/100 [48:58<01:59, 29.79s/it]"
          ]
        },
        {
          "name": "stdout",
          "output_type": "stream",
          "text": [
            "validation RMSE Loss: 14.994280934333801\n",
            "training RMSE Loss: 27.902515649795532\n"
          ]
        },
        {
          "name": "stderr",
          "output_type": "stream",
          "text": [
            "\r 97%|█████████▋| 97/100 [49:28<01:28, 29.60s/it]"
          ]
        },
        {
          "name": "stdout",
          "output_type": "stream",
          "text": [
            "validation RMSE Loss: 15.01408314704895\n",
            "training RMSE Loss: 27.903617084026337\n"
          ]
        },
        {
          "name": "stderr",
          "output_type": "stream",
          "text": [
            "\r 98%|█████████▊| 98/100 [49:57<00:59, 29.51s/it]"
          ]
        },
        {
          "name": "stdout",
          "output_type": "stream",
          "text": [
            "validation RMSE Loss: 14.970656037330627\n",
            "training RMSE Loss: 27.874957740306854\n"
          ]
        },
        {
          "name": "stderr",
          "output_type": "stream",
          "text": [
            "\r 99%|█████████▉| 99/100 [50:25<00:29, 29.13s/it]"
          ]
        },
        {
          "name": "stdout",
          "output_type": "stream",
          "text": [
            "validation RMSE Loss: 14.8495774269104\n",
            "training RMSE Loss: 27.806785583496094\n"
          ]
        },
        {
          "name": "stderr",
          "output_type": "stream",
          "text": [
            "100%|██████████| 100/100 [50:53<00:00, 30.53s/it]"
          ]
        },
        {
          "name": "stdout",
          "output_type": "stream",
          "text": [
            "validation RMSE Loss: 14.86884880065918\n"
          ]
        },
        {
          "name": "stderr",
          "output_type": "stream",
          "text": [
            "\n"
          ]
        }
      ],
      "source": [
        "train_eval_model(ML_mapped, u_i_dict_train_ML, u_i_dict_val_ML, config, device)"
      ]
    },
    {
      "cell_type": "markdown",
      "metadata": {
        "id": "WpBd4z84A_26"
      },
      "source": [
        "TODO: Now that you have selected your best model considering hte validation loss, please load the best saved model and test it on the test set"
      ]
    },
    {
      "cell_type": "code",
      "execution_count": null,
      "metadata": {
        "id": "FhMBIlMFmv0K"
      },
      "outputs": [],
      "source": [
        "##your code goes here:"
      ]
    }
  ],
  "metadata": {
    "accelerator": "GPU",
    "colab": {
      "provenance": []
    },
    "gpuClass": "standard",
    "kernelspec": {
      "display_name": "Python 3",
      "name": "python3"
    },
    "language_info": {
      "name": "python"
    }
  },
  "nbformat": 4,
  "nbformat_minor": 0
}